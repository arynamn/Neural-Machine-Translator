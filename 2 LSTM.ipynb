{
 "cells": [
  {
   "cell_type": "markdown",
   "metadata": {
    "id": "54ggsIRvpNvx"
   },
   "source": [
    "## ENCODER DECODER NETWORK WITH ATTENTION AND TEACHER FORCING\n",
    "\n",
    "**References:**\n",
    "\n",
    "Tutorials Given in Competition Document : [Competetion Link](https://docs.google.com/document/d/1p74wG-bECCgbpyq5x_x2QJrf5RSf9FnMLGSAiyUkHLo/edit)\n",
    "\n",
    "PyTorch NMT Tutorial : [Pytorch NMT](https://pytorch.org/tutorials/intermediate/seq2seq_translation_tutorial.html)\n",
    "\n",
    "Github Page : To understand batch Processing in PyTorch [Github Pengyuchen](https://github.com/pengyuchen/PyTorch-Batch-Seq2seq)\n",
    "\n",
    "Referred Few Stackoverflow Links for few Regex examples and for some bugs."
   ]
  },
  {
   "cell_type": "markdown",
   "metadata": {
    "id": "zm2HohCVJIKy"
   },
   "source": [
    "FUNCTIONS"
   ]
  },
  {
   "cell_type": "code",
   "execution_count": null,
   "metadata": {
    "colab": {
     "base_uri": "https://localhost:8080/"
    },
    "executionInfo": {
     "elapsed": 17567,
     "status": "ok",
     "timestamp": 1617764680450,
     "user": {
      "displayName": "Aman Aryan",
      "photoUrl": "https://lh3.googleusercontent.com/a-/AOh14GjK8COdTMVIts9k8ZQiYXt_e98hss7FWnXQm15B=s64",
      "userId": "06138380680336854578"
     },
     "user_tz": -330
    },
    "id": "U9KkhcYfEeuH",
    "outputId": "5b466059-2934-4edd-db21-aad6332f8782"
   },
   "outputs": [
    {
     "name": "stdout",
     "output_type": "stream",
     "text": [
      "Mounted at /drive\n"
     ]
    }
   ],
   "source": [
    "from google.colab import  drive\n",
    "drive.mount('/drive')"
   ]
  },
  {
   "cell_type": "markdown",
   "metadata": {
    "id": "YkqUlmpnCNw-"
   },
   "source": [
    "### LIBRARIES"
   ]
  },
  {
   "cell_type": "code",
   "execution_count": null,
   "metadata": {
    "id": "XE346yhTt_vl"
   },
   "outputs": [],
   "source": [
    "location = r\"/drive/My Drive/Files/\"\n",
    "INDIC_NLP_LIB_HOME = location + \"indic_nlp_library\"\n",
    "INDIC_NLP_RESOURCES = location + \"indic_nlp_resources\""
   ]
  },
  {
   "cell_type": "code",
   "execution_count": null,
   "metadata": {
    "id": "j9GYWzxIvQLf"
   },
   "outputs": [],
   "source": [
    "import sys\n",
    "sys.path.append(r'{}'.format(INDIC_NLP_LIB_HOME))\n",
    "from indicnlp import common\n",
    "common.set_resources_path(INDIC_NLP_RESOURCES)\n",
    "from indicnlp import loader\n",
    "loader.load()"
   ]
  },
  {
   "cell_type": "code",
   "execution_count": null,
   "metadata": {
    "colab": {
     "base_uri": "https://localhost:8080/"
    },
    "executionInfo": {
     "elapsed": 30255,
     "status": "ok",
     "timestamp": 1617764693180,
     "user": {
      "displayName": "Aman Aryan",
      "photoUrl": "https://lh3.googleusercontent.com/a-/AOh14GjK8COdTMVIts9k8ZQiYXt_e98hss7FWnXQm15B=s64",
      "userId": "06138380680336854578"
     },
     "user_tz": -330
    },
    "id": "6sFoIG0IL5Gu",
    "outputId": "e32f179a-870e-4a6d-8478-e5c0dec1f184"
   },
   "outputs": [
    {
     "name": "stdout",
     "output_type": "stream",
     "text": [
      "Collecting Morfessor\n",
      "  Downloading https://files.pythonhosted.org/packages/39/e6/7afea30be2ee4d29ce9de0fa53acbb033163615f849515c0b1956ad074ee/Morfessor-2.0.6-py3-none-any.whl\n",
      "Installing collected packages: Morfessor\n",
      "Successfully installed Morfessor-2.0.6\n"
     ]
    }
   ],
   "source": [
    "!pip install Morfessor\n",
    "import re\n",
    "import string\n",
    "import spacy\n",
    "import tqdm.notebook as tq\n",
    "nlpen = spacy.load(\"en_core_web_sm\")\n",
    "import random\n",
    "import pickle\n",
    "import pandas as pd\n",
    "from indicnlp.tokenize import sentence_tokenize\n",
    "from indicnlp.tokenize import indic_tokenize\n",
    "from indicnlp.transliterate.unicode_transliterate import UnicodeIndicTransliterator\n",
    "from indicnlp.transliterate.unicode_transliterate import ItransTransliterator\n",
    "from indicnlp.normalize.indic_normalize import IndicNormalizerFactory"
   ]
  },
  {
   "cell_type": "markdown",
   "metadata": {
    "id": "eOV8__452nrJ"
   },
   "source": [
    "### TEXT PROCESSING"
   ]
  },
  {
   "cell_type": "code",
   "execution_count": null,
   "metadata": {
    "id": "8s4-n71ApEaD"
   },
   "outputs": [],
   "source": [
    "english_nums = ['0', '1', '2', '3', '4', '5', '6', '7', '8', '9']\n",
    "hindi_nums =   ['०', '१', '२', '३', '४', '५', '६', '७', '८', '९']\n",
    "\n",
    "def clean_string( instr ):\n",
    "  instr = instr.lower()\n",
    "  instr = instr.replace(u'[', ' ')\n",
    "  instr = instr.replace(u']', ' ')\n",
    "  instr = instr.replace(u'{', ' ')\n",
    "  instr = instr.replace(u'}', ' ')\n",
    "  instr = instr.replace(u'(', ' ')\n",
    "  instr = instr.replace(u')', ' ')\n",
    "  instr = instr.replace(u'...', ' ')\n",
    "  instr = instr.replace(u'..', ' ')\n",
    "  instr = instr.replace(u'-', ' ')\n",
    "  instr = instr.replace(u',', ' ')\n",
    "  instr = instr.replace(u'\"', ' ')\n",
    "  instr = re.sub(' +',' ', instr)\n",
    "  return instr\n",
    "  \n",
    "def preprocess_hindi( instr ):\n",
    "  factory    = IndicNormalizerFactory()\n",
    "  normalizer = factory.get_normalizer(\"hi\",remove_nuktas=True)\n",
    "  instr      = normalizer.normalize(instr)\n",
    "\n",
    "  instr      = clean_string( instr )\n",
    "  #instr = instr.replace(u'॥', '')\n",
    "  for nums in hindi_nums:\n",
    "    instr    = instr.replace(nums, nums + ' ')\n",
    "\n",
    "  instr      = ItransTransliterator.from_itrans( instr , 'hi')  \n",
    "  instr      = re.sub(' +',' ', instr)\n",
    "  instr      = ItransTransliterator.from_itrans( instr , 'hi')\n",
    "  instr      = instr.strip() #sentence_tokenize.sentence_split(instr, lang='hi')\n",
    "  \n",
    "  return instr\n",
    "\n",
    "def preprocess_english( instr ):\n",
    "  instr = clean_string(instr)\n",
    "\n",
    "  instr = instr.replace(\"’\", \"'\")\n",
    "  instr = instr.replace(\"n\\'t\", \" not\")\n",
    "  instr = instr.replace(\"'re\" , \" are\")\n",
    "  instr = instr.replace(\"'ve\" , \" have\")\n",
    "  instr = instr.replace(\"'s\"  , \" is\")\n",
    "  instr = instr.replace(\"'ll\" , \" will\")\n",
    "  instr = instr.replace(\"'m\" , \" am\")\n",
    "  #instr = re.sub(r'[^\\w\\s\\\\d]' , \" \" , instr)\n",
    "  #instr = re.sub(r'[\\d]' , ' ' , instr)\n",
    "\n",
    "  for nums in english_nums:\n",
    "    instr    = instr.replace(nums, nums + ' ')\n",
    "  instr = re.sub(' +',' ', instr)\n",
    "  instr = instr.strip()\n",
    "\n",
    "  return instr\n",
    "\n",
    "def get_hindi_tokens(sentence):\n",
    "  return indic_tokenize.trivial_tokenize(sentence)\n",
    "\n",
    "def get_english_tokens(sentence):\n",
    "  tokens = []\n",
    "  tokstr = nlpen(sentence)\n",
    "  for token in tokstr:\n",
    "    tokens.append(token.text)\n",
    "  return tokens"
   ]
  },
  {
   "cell_type": "code",
   "execution_count": null,
   "metadata": {
    "id": "7xMHlxgWiAEk"
   },
   "outputs": [],
   "source": [
    "def process_pairs(df, load_from_file = 0, location = ''):\n",
    "  if( load_from_file == 0):\n",
    "    pairs = []\n",
    "    pairs_tokens = []\n",
    "    for i in tq.tqdm( df.index ):\n",
    "      hinsen  = df['hindi'][i]\n",
    "      hsent   = preprocess_hindi( hinsen )\n",
    "      htokens = get_hindi_tokens(hsent)\n",
    "\n",
    "      engsen  = df['english'][i]\n",
    "      esent   = preprocess_english( engsen )\n",
    "      etokens = get_english_tokens(esent)\n",
    "\n",
    "      pairs.append( [hsent, esent] )\n",
    "      pairs_tokens.append( [htokens, etokens] )\n",
    "\n",
    "    with open(location + r'pairs.pickle', 'wb') as handle:\n",
    "        pickle.dump(pairs, handle, protocol=pickle.HIGHEST_PROTOCOL)\n",
    "    with open(location + r'pairs_tokens.pickle', 'wb') as handle:\n",
    "        pickle.dump(pairs_tokens, handle, protocol=pickle.HIGHEST_PROTOCOL)\n",
    "\n",
    "    return pairs, pairs_tokens\n",
    "  else:\n",
    "    with open(location + r'pairs.pickle', 'rb') as handle:\n",
    "        pairs = pickle.load(handle)\n",
    "    with open(location + r'pairs_tokens.pickle', 'rb') as handle:\n",
    "        pairs_tokens = pickle.load(handle)\n",
    "    return pairs, pairs_tokens  "
   ]
  },
  {
   "cell_type": "markdown",
   "metadata": {
    "id": "JfKCjT9t2Uce"
   },
   "source": [
    "### LANGUAGE"
   ]
  },
  {
   "cell_type": "code",
   "execution_count": null,
   "metadata": {
    "id": "pkvN-M2T2OwM"
   },
   "outputs": [],
   "source": [
    "START_TOKEN = 0\n",
    "END_TOKEN = 1\n",
    "PAD_TOKEN = 2\n",
    "\n",
    "class Language:\n",
    "  def __init__(self, name):\n",
    "    self.name = name\n",
    "    self.word2index = {}\n",
    "    self.word2count = {}\n",
    "    self.index2word = {}\n",
    "    self.num_words = 3\n",
    "    self.word2index['START_TOKEN'] = START_TOKEN\n",
    "    self.index2word['END_TOKEN'] = END_TOKEN\n",
    "    self.index2word['PAD_TOKEN'] = PAD_TOKEN\n",
    "    self.index2word[START_TOKEN] = 'START_TOKEN'\n",
    "    self.index2word[END_TOKEN] = 'END_TOKEN'\n",
    "    self.index2word[PAD_TOKEN] = 'PAD_TOKEN'\n",
    "\n",
    "  def addWord(self, word):\n",
    "    if word in self.word2index:\n",
    "      self.word2count[word] = self.word2count[word] + 1\n",
    "    else:\n",
    "      self.word2count[word] = 1\n",
    "      self.word2index[word] = self.num_words\n",
    "      self.index2word[self.num_words] = word\n",
    "      self.num_words = self.num_words + 1\n",
    "  \n",
    "  def addSentence(self, sentence_tokens):\n",
    "      for word in sentence_tokens:\n",
    "        self.addWord(word)"
   ]
  },
  {
   "cell_type": "code",
   "execution_count": null,
   "metadata": {
    "id": "8S24eNCE2Oyb"
   },
   "outputs": [],
   "source": [
    "def generate_language( pairs_tokens ):\n",
    "    hindi   = Language('hindi')\n",
    "    english = Language('english')\n",
    "    for i in tq.tqdm( range(len(pairs_tokens)) ):\n",
    "      hindi.addSentence(pairs_tokens[i][0])\n",
    "      english.addSentence(pairs_tokens[i][1])\n",
    "    return hindi, english"
   ]
  },
  {
   "cell_type": "markdown",
   "metadata": {
    "id": "-IHLiyXjNOM5"
   },
   "source": [
    "PROCESS TEXT TO TENSOR"
   ]
  },
  {
   "cell_type": "code",
   "execution_count": null,
   "metadata": {
    "id": "nFD_H_CgKBFI"
   },
   "outputs": [],
   "source": [
    "def get_filitered_data(max_length, pairs, pairs_tokens):\n",
    "  fil_pairs = []\n",
    "  fil_pairs_tokens = []\n",
    "  for i in  range( len(pairs_tokens)) :\n",
    "    if( len(pairs_tokens[i][0] ) < max_length and len(pairs_tokens[i][1]) < max_length ):\n",
    "      fil_pairs.append( pairs[i] )\n",
    "      fil_pairs_tokens.append( pairs_tokens[i] )\n",
    "  return fil_pairs, fil_pairs_tokens"
   ]
  },
  {
   "cell_type": "code",
   "execution_count": null,
   "metadata": {
    "id": "_KiyGuO121HM"
   },
   "outputs": [],
   "source": [
    "def indexesFromSentence(lang, tokens, max_length):\n",
    "  indexes = []\n",
    "  indexes.append(START_TOKEN)\n",
    "  for word in tokens:\n",
    "    if word in lang.word2index.keys():\n",
    "      indexes.append( lang.word2index[word] )\n",
    "    else:\n",
    "      indexes.append( random.randint(2, lang.num_words))\n",
    "  indexes = indexes[0:max_length-1]\n",
    "  indexes.append(END_TOKEN)\n",
    "  indexes.extend( [PAD_TOKEN]*( max_length - len(indexes)))\n",
    "  return indexes\n",
    "\n",
    "def tensorFromSentence(lang, sentence, max_length):\n",
    "  indexes = indexesFromSentence(lang, sentence, max_length)\n",
    "  return torch.tensor(indexes, dtype=torch.long, device=device)\n",
    "\n",
    "def tensorsFromPair(pairs, input_lang, output_lang, max_length):\n",
    "  res_pairs = []\n",
    "  for pair in pairs:\n",
    "    input_tensor  = tensorFromSentence(input_lang, pair[0], max_length)\n",
    "    target_tensor = tensorFromSentence(output_lang, pair[1], max_length)\n",
    "    res_pairs.append( (input_tensor, target_tensor) )\n",
    "  return res_pairs"
   ]
  },
  {
   "cell_type": "code",
   "execution_count": null,
   "metadata": {
    "id": "wpIHes6i3cuR"
   },
   "outputs": [],
   "source": []
  },
  {
   "cell_type": "markdown",
   "metadata": {
    "id": "ZTFkvFITItSA"
   },
   "source": [
    "### NEURAL MACHINE TRANSLATOR\n"
   ]
  },
  {
   "cell_type": "markdown",
   "metadata": {
    "id": "pxSdrKcBUOOn"
   },
   "source": [
    "LIBRARIES"
   ]
  },
  {
   "cell_type": "code",
   "execution_count": null,
   "metadata": {
    "colab": {
     "base_uri": "https://localhost:8080/"
    },
    "executionInfo": {
     "elapsed": 41119,
     "status": "ok",
     "timestamp": 1617764704064,
     "user": {
      "displayName": "Aman Aryan",
      "photoUrl": "https://lh3.googleusercontent.com/a-/AOh14GjK8COdTMVIts9k8ZQiYXt_e98hss7FWnXQm15B=s64",
      "userId": "06138380680336854578"
     },
     "user_tz": -330
    },
    "id": "3Z1jYXWzCqpa",
    "outputId": "7c1c60cc-c31f-4781-e931-219ea1721b80"
   },
   "outputs": [
    {
     "name": "stdout",
     "output_type": "stream",
     "text": [
      "Collecting nltk\n",
      "\u001b[?25l  Downloading https://files.pythonhosted.org/packages/92/75/ce35194d8e3022203cca0d2f896dbb88689f9b3fce8e9f9cff942913519d/nltk-3.5.zip (1.4MB)\n",
      "\r",
      "\u001b[K     |▎                               | 10kB 19.6MB/s eta 0:00:01\r",
      "\u001b[K     |▌                               | 20kB 27.0MB/s eta 0:00:01\r",
      "\u001b[K     |▊                               | 30kB 23.3MB/s eta 0:00:01\r",
      "\u001b[K     |█                               | 40kB 20.2MB/s eta 0:00:01\r",
      "\u001b[K     |█▏                              | 51kB 13.9MB/s eta 0:00:01\r",
      "\u001b[K     |█▍                              | 61kB 13.4MB/s eta 0:00:01\r",
      "\u001b[K     |█▋                              | 71kB 13.5MB/s eta 0:00:01\r",
      "\u001b[K     |█▉                              | 81kB 14.2MB/s eta 0:00:01\r",
      "\u001b[K     |██                              | 92kB 14.0MB/s eta 0:00:01\r",
      "\u001b[K     |██▎                             | 102kB 13.8MB/s eta 0:00:01\r",
      "\u001b[K     |██▌                             | 112kB 13.8MB/s eta 0:00:01\r",
      "\u001b[K     |██▊                             | 122kB 13.8MB/s eta 0:00:01\r",
      "\u001b[K     |███                             | 133kB 13.8MB/s eta 0:00:01\r",
      "\u001b[K     |███▏                            | 143kB 13.8MB/s eta 0:00:01\r",
      "\u001b[K     |███▍                            | 153kB 13.8MB/s eta 0:00:01\r",
      "\u001b[K     |███▋                            | 163kB 13.8MB/s eta 0:00:01\r",
      "\u001b[K     |███▉                            | 174kB 13.8MB/s eta 0:00:01\r",
      "\u001b[K     |████▏                           | 184kB 13.8MB/s eta 0:00:01\r",
      "\u001b[K     |████▍                           | 194kB 13.8MB/s eta 0:00:01\r",
      "\u001b[K     |████▋                           | 204kB 13.8MB/s eta 0:00:01\r",
      "\u001b[K     |████▉                           | 215kB 13.8MB/s eta 0:00:01\r",
      "\u001b[K     |█████                           | 225kB 13.8MB/s eta 0:00:01\r",
      "\u001b[K     |█████▎                          | 235kB 13.8MB/s eta 0:00:01\r",
      "\u001b[K     |█████▌                          | 245kB 13.8MB/s eta 0:00:01\r",
      "\u001b[K     |█████▊                          | 256kB 13.8MB/s eta 0:00:01\r",
      "\u001b[K     |██████                          | 266kB 13.8MB/s eta 0:00:01\r",
      "\u001b[K     |██████▏                         | 276kB 13.8MB/s eta 0:00:01\r",
      "\u001b[K     |██████▍                         | 286kB 13.8MB/s eta 0:00:01\r",
      "\u001b[K     |██████▋                         | 296kB 13.8MB/s eta 0:00:01\r",
      "\u001b[K     |██████▉                         | 307kB 13.8MB/s eta 0:00:01\r",
      "\u001b[K     |███████                         | 317kB 13.8MB/s eta 0:00:01\r",
      "\u001b[K     |███████▎                        | 327kB 13.8MB/s eta 0:00:01\r",
      "\u001b[K     |███████▌                        | 337kB 13.8MB/s eta 0:00:01\r",
      "\u001b[K     |███████▊                        | 348kB 13.8MB/s eta 0:00:01\r",
      "\u001b[K     |████████                        | 358kB 13.8MB/s eta 0:00:01\r",
      "\u001b[K     |████████▎                       | 368kB 13.8MB/s eta 0:00:01\r",
      "\u001b[K     |████████▌                       | 378kB 13.8MB/s eta 0:00:01\r",
      "\u001b[K     |████████▊                       | 389kB 13.8MB/s eta 0:00:01\r",
      "\u001b[K     |█████████                       | 399kB 13.8MB/s eta 0:00:01\r",
      "\u001b[K     |█████████▏                      | 409kB 13.8MB/s eta 0:00:01\r",
      "\u001b[K     |█████████▍                      | 419kB 13.8MB/s eta 0:00:01\r",
      "\u001b[K     |█████████▋                      | 430kB 13.8MB/s eta 0:00:01\r",
      "\u001b[K     |█████████▉                      | 440kB 13.8MB/s eta 0:00:01\r",
      "\u001b[K     |██████████                      | 450kB 13.8MB/s eta 0:00:01\r",
      "\u001b[K     |██████████▎                     | 460kB 13.8MB/s eta 0:00:01\r",
      "\u001b[K     |██████████▌                     | 471kB 13.8MB/s eta 0:00:01\r",
      "\u001b[K     |██████████▊                     | 481kB 13.8MB/s eta 0:00:01\r",
      "\u001b[K     |███████████                     | 491kB 13.8MB/s eta 0:00:01\r",
      "\u001b[K     |███████████▏                    | 501kB 13.8MB/s eta 0:00:01\r",
      "\u001b[K     |███████████▍                    | 512kB 13.8MB/s eta 0:00:01\r",
      "\u001b[K     |███████████▋                    | 522kB 13.8MB/s eta 0:00:01\r",
      "\u001b[K     |███████████▉                    | 532kB 13.8MB/s eta 0:00:01\r",
      "\u001b[K     |████████████▏                   | 542kB 13.8MB/s eta 0:00:01\r",
      "\u001b[K     |████████████▍                   | 552kB 13.8MB/s eta 0:00:01\r",
      "\u001b[K     |████████████▋                   | 563kB 13.8MB/s eta 0:00:01\r",
      "\u001b[K     |████████████▉                   | 573kB 13.8MB/s eta 0:00:01\r",
      "\u001b[K     |█████████████                   | 583kB 13.8MB/s eta 0:00:01\r",
      "\u001b[K     |█████████████▎                  | 593kB 13.8MB/s eta 0:00:01\r",
      "\u001b[K     |█████████████▌                  | 604kB 13.8MB/s eta 0:00:01\r",
      "\u001b[K     |█████████████▊                  | 614kB 13.8MB/s eta 0:00:01\r",
      "\u001b[K     |██████████████                  | 624kB 13.8MB/s eta 0:00:01\r",
      "\u001b[K     |██████████████▏                 | 634kB 13.8MB/s eta 0:00:01\r",
      "\u001b[K     |██████████████▍                 | 645kB 13.8MB/s eta 0:00:01\r",
      "\u001b[K     |██████████████▋                 | 655kB 13.8MB/s eta 0:00:01\r",
      "\u001b[K     |██████████████▉                 | 665kB 13.8MB/s eta 0:00:01\r",
      "\u001b[K     |███████████████                 | 675kB 13.8MB/s eta 0:00:01\r",
      "\u001b[K     |███████████████▎                | 686kB 13.8MB/s eta 0:00:01\r",
      "\u001b[K     |███████████████▌                | 696kB 13.8MB/s eta 0:00:01\r",
      "\u001b[K     |███████████████▊                | 706kB 13.8MB/s eta 0:00:01\r",
      "\u001b[K     |████████████████                | 716kB 13.8MB/s eta 0:00:01\r",
      "\u001b[K     |████████████████▎               | 727kB 13.8MB/s eta 0:00:01\r",
      "\u001b[K     |████████████████▌               | 737kB 13.8MB/s eta 0:00:01\r",
      "\u001b[K     |████████████████▊               | 747kB 13.8MB/s eta 0:00:01\r",
      "\u001b[K     |█████████████████               | 757kB 13.8MB/s eta 0:00:01\r",
      "\u001b[K     |█████████████████▏              | 768kB 13.8MB/s eta 0:00:01\r",
      "\u001b[K     |█████████████████▍              | 778kB 13.8MB/s eta 0:00:01\r",
      "\u001b[K     |█████████████████▋              | 788kB 13.8MB/s eta 0:00:01\r",
      "\u001b[K     |█████████████████▉              | 798kB 13.8MB/s eta 0:00:01\r",
      "\u001b[K     |██████████████████              | 808kB 13.8MB/s eta 0:00:01\r",
      "\u001b[K     |██████████████████▎             | 819kB 13.8MB/s eta 0:00:01\r",
      "\u001b[K     |██████████████████▌             | 829kB 13.8MB/s eta 0:00:01\r",
      "\u001b[K     |██████████████████▊             | 839kB 13.8MB/s eta 0:00:01\r",
      "\u001b[K     |███████████████████             | 849kB 13.8MB/s eta 0:00:01\r",
      "\u001b[K     |███████████████████▏            | 860kB 13.8MB/s eta 0:00:01\r",
      "\u001b[K     |███████████████████▍            | 870kB 13.8MB/s eta 0:00:01\r",
      "\u001b[K     |███████████████████▋            | 880kB 13.8MB/s eta 0:00:01\r",
      "\u001b[K     |███████████████████▉            | 890kB 13.8MB/s eta 0:00:01\r",
      "\u001b[K     |████████████████████▏           | 901kB 13.8MB/s eta 0:00:01\r",
      "\u001b[K     |████████████████████▍           | 911kB 13.8MB/s eta 0:00:01\r",
      "\u001b[K     |████████████████████▋           | 921kB 13.8MB/s eta 0:00:01\r",
      "\u001b[K     |████████████████████▉           | 931kB 13.8MB/s eta 0:00:01\r",
      "\u001b[K     |█████████████████████           | 942kB 13.8MB/s eta 0:00:01\r",
      "\u001b[K     |█████████████████████▎          | 952kB 13.8MB/s eta 0:00:01\r",
      "\u001b[K     |█████████████████████▌          | 962kB 13.8MB/s eta 0:00:01\r",
      "\u001b[K     |█████████████████████▊          | 972kB 13.8MB/s eta 0:00:01\r",
      "\u001b[K     |██████████████████████          | 983kB 13.8MB/s eta 0:00:01\r",
      "\u001b[K     |██████████████████████▏         | 993kB 13.8MB/s eta 0:00:01\r",
      "\u001b[K     |██████████████████████▍         | 1.0MB 13.8MB/s eta 0:00:01\r",
      "\u001b[K     |██████████████████████▋         | 1.0MB 13.8MB/s eta 0:00:01\r",
      "\u001b[K     |██████████████████████▉         | 1.0MB 13.8MB/s eta 0:00:01\r",
      "\u001b[K     |███████████████████████         | 1.0MB 13.8MB/s eta 0:00:01\r",
      "\u001b[K     |███████████████████████▎        | 1.0MB 13.8MB/s eta 0:00:01\r",
      "\u001b[K     |███████████████████████▌        | 1.1MB 13.8MB/s eta 0:00:01\r",
      "\u001b[K     |███████████████████████▊        | 1.1MB 13.8MB/s eta 0:00:01\r",
      "\u001b[K     |████████████████████████        | 1.1MB 13.8MB/s eta 0:00:01\r",
      "\u001b[K     |████████████████████████▎       | 1.1MB 13.8MB/s eta 0:00:01\r",
      "\u001b[K     |████████████████████████▌       | 1.1MB 13.8MB/s eta 0:00:01\r",
      "\u001b[K     |████████████████████████▊       | 1.1MB 13.8MB/s eta 0:00:01\r",
      "\u001b[K     |█████████████████████████       | 1.1MB 13.8MB/s eta 0:00:01\r",
      "\u001b[K     |█████████████████████████▏      | 1.1MB 13.8MB/s eta 0:00:01\r",
      "\u001b[K     |█████████████████████████▍      | 1.1MB 13.8MB/s eta 0:00:01\r",
      "\u001b[K     |█████████████████████████▋      | 1.1MB 13.8MB/s eta 0:00:01\r",
      "\u001b[K     |█████████████████████████▉      | 1.2MB 13.8MB/s eta 0:00:01\r",
      "\u001b[K     |██████████████████████████      | 1.2MB 13.8MB/s eta 0:00:01\r",
      "\u001b[K     |██████████████████████████▎     | 1.2MB 13.8MB/s eta 0:00:01\r",
      "\u001b[K     |██████████████████████████▌     | 1.2MB 13.8MB/s eta 0:00:01\r",
      "\u001b[K     |██████████████████████████▊     | 1.2MB 13.8MB/s eta 0:00:01\r",
      "\u001b[K     |███████████████████████████     | 1.2MB 13.8MB/s eta 0:00:01\r",
      "\u001b[K     |███████████████████████████▏    | 1.2MB 13.8MB/s eta 0:00:01\r",
      "\u001b[K     |███████████████████████████▍    | 1.2MB 13.8MB/s eta 0:00:01\r",
      "\u001b[K     |███████████████████████████▋    | 1.2MB 13.8MB/s eta 0:00:01\r",
      "\u001b[K     |███████████████████████████▉    | 1.2MB 13.8MB/s eta 0:00:01\r",
      "\u001b[K     |████████████████████████████▏   | 1.3MB 13.8MB/s eta 0:00:01\r",
      "\u001b[K     |████████████████████████████▍   | 1.3MB 13.8MB/s eta 0:00:01\r",
      "\u001b[K     |████████████████████████████▋   | 1.3MB 13.8MB/s eta 0:00:01\r",
      "\u001b[K     |████████████████████████████▉   | 1.3MB 13.8MB/s eta 0:00:01\r",
      "\u001b[K     |█████████████████████████████   | 1.3MB 13.8MB/s eta 0:00:01\r",
      "\u001b[K     |█████████████████████████████▎  | 1.3MB 13.8MB/s eta 0:00:01\r",
      "\u001b[K     |█████████████████████████████▌  | 1.3MB 13.8MB/s eta 0:00:01\r",
      "\u001b[K     |█████████████████████████████▊  | 1.3MB 13.8MB/s eta 0:00:01\r",
      "\u001b[K     |██████████████████████████████  | 1.3MB 13.8MB/s eta 0:00:01\r",
      "\u001b[K     |██████████████████████████████▏ | 1.4MB 13.8MB/s eta 0:00:01\r",
      "\u001b[K     |██████████████████████████████▍ | 1.4MB 13.8MB/s eta 0:00:01\r",
      "\u001b[K     |██████████████████████████████▋ | 1.4MB 13.8MB/s eta 0:00:01\r",
      "\u001b[K     |██████████████████████████████▉ | 1.4MB 13.8MB/s eta 0:00:01\r",
      "\u001b[K     |███████████████████████████████ | 1.4MB 13.8MB/s eta 0:00:01\r",
      "\u001b[K     |███████████████████████████████▎| 1.4MB 13.8MB/s eta 0:00:01\r",
      "\u001b[K     |███████████████████████████████▌| 1.4MB 13.8MB/s eta 0:00:01\r",
      "\u001b[K     |███████████████████████████████▊| 1.4MB 13.8MB/s eta 0:00:01\r",
      "\u001b[K     |████████████████████████████████| 1.4MB 13.8MB/s \n",
      "\u001b[?25hRequirement already satisfied, skipping upgrade: click in /usr/local/lib/python3.7/dist-packages (from nltk) (7.1.2)\n",
      "Requirement already satisfied, skipping upgrade: joblib in /usr/local/lib/python3.7/dist-packages (from nltk) (1.0.1)\n",
      "Requirement already satisfied, skipping upgrade: regex in /usr/local/lib/python3.7/dist-packages (from nltk) (2019.12.20)\n",
      "Requirement already satisfied, skipping upgrade: tqdm in /usr/local/lib/python3.7/dist-packages (from nltk) (4.41.1)\n",
      "Building wheels for collected packages: nltk\n",
      "  Building wheel for nltk (setup.py) ... \u001b[?25l\u001b[?25hdone\n",
      "  Created wheel for nltk: filename=nltk-3.5-cp37-none-any.whl size=1434677 sha256=62180aadcf397641618271a60afe5ecc11c360be69f3475c5033154b16dd3896\n",
      "  Stored in directory: /root/.cache/pip/wheels/ae/8c/3f/b1fe0ba04555b08b57ab52ab7f86023639a526d8bc8d384306\n",
      "Successfully built nltk\n",
      "Installing collected packages: nltk\n",
      "  Found existing installation: nltk 3.2.5\n",
      "    Uninstalling nltk-3.2.5:\n",
      "      Successfully uninstalled nltk-3.2.5\n",
      "Successfully installed nltk-3.5\n"
     ]
    },
    {
     "name": "stderr",
     "output_type": "stream",
     "text": [
      "[nltk_data] Downloading package wordnet to /root/nltk_data...\n",
      "[nltk_data]   Unzipping corpora/wordnet.zip.\n"
     ]
    }
   ],
   "source": [
    "from sklearn.model_selection import train_test_split\n",
    "\n",
    "import torch\n",
    "import torch.nn as nn\n",
    "from torch import optim\n",
    "import torch.nn.functional as F\n",
    "device = torch.device(\"cuda\" if torch.cuda.is_available() else \"cpu\")\n",
    "\n",
    "!pip install -U nltk\n",
    "import nltk\n",
    "import sys\n",
    "nltk.download('wordnet')\n",
    "from nltk.translate.bleu_score import sentence_bleu\n",
    "from nltk.translate.meteor_score import single_meteor_score"
   ]
  },
  {
   "cell_type": "markdown",
   "metadata": {
    "id": "S7q0i3jQIYYy"
   },
   "source": [
    "ENCODER and DECODER WITH ATTENTION"
   ]
  },
  {
   "cell_type": "code",
   "execution_count": null,
   "metadata": {
    "id": "Ibd0funOIVy-"
   },
   "outputs": [],
   "source": [
    "class Encoder(nn.Module):\n",
    "    def __init__(self, input_size, embed_size, hidden_size):\n",
    "        super(Encoder, self).__init__()\n",
    "        self.input_size = input_size\n",
    "        self.hidden_size = hidden_size\n",
    "\n",
    "        self.embedding = nn.Embedding(input_size, embed_size)\n",
    "        self.lstm = nn.LSTM(embed_size, hidden_size, num_layers = 2)\n",
    "\n",
    "    def forward(self, input):\n",
    "        embedded = self.embedding(input)\n",
    "        output, (hidden, cell) = self.lstm(embedded)\n",
    "        return hidden, cell"
   ]
  },
  {
   "cell_type": "code",
   "execution_count": null,
   "metadata": {
    "id": "bvKT-boqIb-L"
   },
   "outputs": [],
   "source": [
    "class Decoder(nn.Module):\n",
    "    def __init__(self, output_size, embed_size, hidden_size):\n",
    "        super(Decoder, self).__init__()\n",
    "        self.output_size = output_size\n",
    "        self.hidden_size = hidden_size\n",
    "\n",
    "        self.embedding = nn.Embedding(output_size, embed_size)\n",
    "        self.lstm = nn.LSTM(embed_size, hidden_size, num_layers = 2)\n",
    "        self.out = nn.Linear(hidden_size, output_size)\n",
    "\n",
    "    def forward(self, target, hidden, cell):\n",
    "        target = target.unsqueeze(0)\n",
    "        embed = self.embedding(target)\n",
    "        output, (hidden, cell) = self.lstm(embed, (hidden, cell) )\n",
    "        output = output.squeeze(0)\n",
    "        preds = self.out(output)\n",
    "        return preds, hidden, cell"
   ]
  },
  {
   "cell_type": "markdown",
   "metadata": {
    "id": "WcrhHwoc03gH"
   },
   "source": [
    "SEQUENCE 2 SEQUENCE"
   ]
  },
  {
   "cell_type": "code",
   "execution_count": null,
   "metadata": {
    "id": "2XOqKk6z02WY"
   },
   "outputs": [],
   "source": [
    "class seq2seq(nn.Module):\n",
    "    def __init__(self, input_size, output_size, embed_size, hidden_size, max_length):\n",
    "        super(seq2seq, self).__init__()\n",
    "        self.max_length = max_length\n",
    "        self.encoder = Encoder(input_size, embed_size, hidden_size).to(device)\n",
    "        self.decoder = Decoder(output_size, embed_size, hidden_size).to(device)\n",
    "\n",
    "    def forward(self, src, target , teacher_forcing = 0.5):\n",
    "        \n",
    "        batch_size = src.shape[1]\n",
    "        max_length = self.max_length\n",
    "        target_vocab_size = self.decoder.output_size\n",
    "\n",
    "        outputs = torch.zeros(max_length, batch_size, target_vocab_size).to(device)\n",
    "        hidden, cell = self.encoder(src)\n",
    "\n",
    "        dinput = src[0,:]\n",
    "        for l in range(1, max_length):\n",
    "            output, hidden, cell = self.decoder(dinput, hidden, cell)\n",
    "            outputs[l] = output\n",
    "            if random.random() < teacher_forcing\n",
    "                dinput = target[l]  \n",
    "            else:\n",
    "                dinput = output.argmax(1)\n",
    "        return outputs"
   ]
  },
  {
   "cell_type": "code",
   "execution_count": null,
   "metadata": {
    "id": "W6AEQ77JLZta"
   },
   "outputs": [],
   "source": [
    "def train( model, opt, lossfn, train_loader, num_epochs):\n",
    "    model.train()\n",
    "    history = []\n",
    "    for epoch in range(num_epochs):\n",
    "        epoch_loss = 0\n",
    "        for x,y in tq.tqdm( train_loader ):\n",
    "            x =  torch.transpose(x, 0, 1)\n",
    "            y = torch.transpose(y, 0, 1)\n",
    "\n",
    "            opt.zero_grad()\n",
    "            yhat = model(x, target = y)\n",
    "\n",
    "            y = y[1:].reshape(-1)\n",
    "            yhat = yhat[1:].reshape(-1, yhat.shape[-1])\n",
    "\n",
    "            loss = lossfn(yhat, y)\n",
    "            loss.backward()\n",
    "            opt.step()\n",
    "\n",
    "            epoch_loss = epoch_loss + loss.item()\n",
    "\n",
    "        print(' Epoch : ', epoch , '   loss  : ', epoch_loss / len(train_loader) )\n",
    "        history.append(epoch_loss / len(train_loader))\n",
    "    return history"
   ]
  },
  {
   "cell_type": "code",
   "execution_count": null,
   "metadata": {
    "id": "4nNNUI8Dt_tM"
   },
   "outputs": [],
   "source": [
    "def make_sentence(tokens):\n",
    "    str = ''\n",
    "    for x in tokens:\n",
    "        if x not in ['START_TOKEN', 'END_TOKEN', 'PAD_TOKEN']:\n",
    "            str = str + ' ' + x\n",
    "    return re.sub('(?<=\\d)+ (?=\\d)+', '', str)[1:]\n",
    "\n",
    "def translate(model, sentence, input_lang, output_lang, max_length):\n",
    "    model.eval()\n",
    "    with torch.no_grad():\n",
    "        input = tensorFromSentence( input_lang, sentence, max_length= max_length)\n",
    "        input = torch.transpose( input.unsqueeze(0) , 0 , 1)\n",
    "        output = model(input, target=None, teacher_forcing = 0)\n",
    "        dec_words = []\n",
    "        for x in output.squeeze():\n",
    "            v,i = x.data.topk(1)\n",
    "            if(i.item() == END_TOKEN ):\n",
    "                dec_words.append( output_lang.index2word[ i.item() ] )\n",
    "                break\n",
    "            else:\n",
    "                dec_words.append( output_lang.index2word[ i.item() ] )\n",
    "    \n",
    "    return make_sentence( dec_words )\n"
   ]
  },
  {
   "cell_type": "markdown",
   "metadata": {
    "id": "NXoK92_1o4Ez"
   },
   "source": [
    "PERFORMANCE EVALUATION"
   ]
  },
  {
   "cell_type": "code",
   "execution_count": null,
   "metadata": {
    "id": "hvQPdkMtov-L"
   },
   "outputs": [],
   "source": [
    "def get_bleu_score(model, pairs, input_lang, output_lang, max_length):\n",
    "\n",
    "  total_num = len(pairs)\n",
    "  total_bleu_scores = 0\n",
    "  total_meteor_scores = 0\n",
    "  \n",
    "  for i in tq.tqdm( range(total_num) ):\n",
    "    output    = translate(model, pairs[i][0], input_lang, output_lang, max_length)\n",
    "    original  = make_sentence(pairs[i][1])\n",
    "    total_bleu_scores   += sentence_bleu([output.split(\" \")], original.split(\" \"))\n",
    "    total_meteor_scores += single_meteor_score(output, original)\n",
    "\n",
    "  bleu_result = total_bleu_scores/total_num\n",
    "  meteor_result = total_meteor_scores/total_num\n",
    "  \n",
    "  print()\n",
    "  print(\"bleu score: \",bleu_result)\n",
    "  print(\"meteor score: \",meteor_result)"
   ]
  },
  {
   "cell_type": "markdown",
   "metadata": {
    "id": "SFtWOWbbsQwS"
   },
   "source": [
    "# **EXECUTION**"
   ]
  },
  {
   "cell_type": "markdown",
   "metadata": {
    "id": "OWWqvluwXPMG"
   },
   "source": [
    "### READ AND PROCESS FILE"
   ]
  },
  {
   "cell_type": "code",
   "execution_count": null,
   "metadata": {
    "id": "Bi-YuD2xMLss"
   },
   "outputs": [],
   "source": [
    "MAX_LENGTH = 32"
   ]
  },
  {
   "cell_type": "code",
   "execution_count": null,
   "metadata": {
    "colab": {
     "base_uri": "https://localhost:8080/",
     "height": 195
    },
    "executionInfo": {
     "elapsed": 1263,
     "status": "error",
     "timestamp": 1618111975112,
     "user": {
      "displayName": "Aman Aryan",
      "photoUrl": "https://lh3.googleusercontent.com/a-/AOh14GjK8COdTMVIts9k8ZQiYXt_e98hss7FWnXQm15B=s64",
      "userId": "06138380680336854578"
     },
     "user_tz": -330
    },
    "id": "KF2PDfoyrush",
    "outputId": "096555fc-e07b-46c4-d148-6bb1dd39c823"
   },
   "outputs": [
    {
     "ename": "NameError",
     "evalue": "ignored",
     "output_type": "error",
     "traceback": [
      "\u001b[0;31m---------------------------------------------------------------------------\u001b[0m",
      "\u001b[0;31mNameError\u001b[0m                                 Traceback (most recent call last)",
      "\u001b[0;32m<ipython-input-2-cb485a698c94>\u001b[0m in \u001b[0;36m<module>\u001b[0;34m()\u001b[0m\n\u001b[0;32m----> 1\u001b[0;31m \u001b[0mdata_location\u001b[0m \u001b[0;34m=\u001b[0m \u001b[0mlocation\u001b[0m \u001b[0;34m+\u001b[0m \u001b[0;34m'NMT/'\u001b[0m\u001b[0;34m\u001b[0m\u001b[0;34m\u001b[0m\u001b[0m\n\u001b[0m\u001b[1;32m      2\u001b[0m \u001b[0mmodel_location\u001b[0m \u001b[0;34m=\u001b[0m \u001b[0mlocation\u001b[0m \u001b[0;34m+\u001b[0m \u001b[0;34m'NMT/NMT_LSTM/'\u001b[0m\u001b[0;34m\u001b[0m\u001b[0;34m\u001b[0m\u001b[0m\n\u001b[1;32m      3\u001b[0m \u001b[0mdf\u001b[0m \u001b[0;34m=\u001b[0m \u001b[0mpd\u001b[0m\u001b[0;34m.\u001b[0m\u001b[0mread_csv\u001b[0m\u001b[0;34m(\u001b[0m\u001b[0mdata_location\u001b[0m\u001b[0;34m+\u001b[0m\u001b[0;34m'train.csv'\u001b[0m\u001b[0;34m,\u001b[0m  \u001b[0mindex_col\u001b[0m\u001b[0;34m=\u001b[0m\u001b[0;36m0\u001b[0m\u001b[0;34m)\u001b[0m\u001b[0;34m\u001b[0m\u001b[0;34m\u001b[0m\u001b[0m\n",
      "\u001b[0;31mNameError\u001b[0m: name 'location' is not defined"
     ]
    }
   ],
   "source": [
    "data_location = location + 'NMT/'\n",
    "model_location = location + 'NMT/NMT_LSTM/'\n",
    "df = pd.read_csv(data_location+'train.csv',  index_col=0)"
   ]
  },
  {
   "cell_type": "code",
   "execution_count": null,
   "metadata": {
    "id": "CVBTJ9xE6eUW"
   },
   "outputs": [],
   "source": [
    "pairs, tokens = process_pairs(df, load_from_file=1, location = data_location + 'DataPairs/')\n",
    "train_pairs, test_pairs, train_tokens, test_tokens = train_test_split( pairs, tokens, test_size = 0.2, shuffle = True, random_state = 200)\n",
    "fil_train, fil_train_tokens = get_filitered_data( MAX_LENGTH - 2, train_pairs, train_tokens)"
   ]
  },
  {
   "cell_type": "markdown",
   "metadata": {
    "id": "Gz-s9YulXTuY"
   },
   "source": [
    "GENERATE LANGUAGE"
   ]
  },
  {
   "cell_type": "code",
   "execution_count": null,
   "metadata": {
    "id": "NXybCQuygy9T"
   },
   "outputs": [],
   "source": [
    "hindi, english = generate_language(train_tokens)"
   ]
  },
  {
   "cell_type": "markdown",
   "metadata": {
    "id": "eUTkfpuxXXlI"
   },
   "source": [
    "GET TENSORS"
   ]
  },
  {
   "cell_type": "code",
   "execution_count": null,
   "metadata": {
    "id": "Ww5AxnJ1r6rK"
   },
   "outputs": [],
   "source": [
    "train_tensors = tensorsFromPair(train_tokens, hindi, english, MAX_LENGTH)\n",
    "test_tensors = tensorsFromPair(test_tokens, hindi, english, MAX_LENGTH)\n",
    "train_loader = torch.utils.data.DataLoader(train_tensors, batch_size=256, shuffle=True)"
   ]
  },
  {
   "cell_type": "markdown",
   "metadata": {
    "id": "D3zinlYyXay_"
   },
   "source": [
    "### TRAIN MODEL"
   ]
  },
  {
   "cell_type": "code",
   "execution_count": null,
   "metadata": {
    "id": "6KR75SsUXxE1"
   },
   "outputs": [],
   "source": [
    "hidden_size = 512\n",
    "input_vocab_size = hindi.num_words + 1\n",
    "output_vocab_size = english.num_words + 1\n",
    "embedding_dim = 300\n",
    "epochs = 20"
   ]
  },
  {
   "cell_type": "code",
   "execution_count": null,
   "metadata": {
    "id": "FxPgfDvYYr30"
   },
   "outputs": [],
   "source": [
    "model2 = seq2seq(input_vocab_size, output_vocab_size , embedding_dim, hidden_size, MAX_LENGTH)\n",
    "opt = optim.Adam( model2.parameters() )\n",
    "lossfn = nn.CrossEntropyLoss(ignore_index=PAD_TOKEN)"
   ]
  },
  {
   "cell_type": "code",
   "execution_count": null,
   "metadata": {
    "colab": {
     "base_uri": "https://localhost:8080/",
     "height": 1000,
     "referenced_widgets": [
      "c8b39c5990c6408fa05b2eefb591276e",
      "e92dddbf7673462cbd6a452981d1eb01",
      "b3441ece82b8441595ba60458737f40a",
      "7b54a860e68b403aab493256f00dd5cc",
      "9b133a95c5ff4f9a96acbbb42714b0d4",
      "d4e45a206fa6438aabf4f1609a55100b",
      "baf8c551d2a14da6aa75c42f1780d719",
      "e8c193b2ae2647178f66b48559c6524c",
      "0f849692234c4569b5ea03ddb38ee532",
      "55b6bf99996447588af0fc24106b0701",
      "4a0c36d79de64d7493d9c6a78b960a5b",
      "1cba51541fa24260bfee2091f9049ed0",
      "0ad6f2e3d1254841bb45c9f654c47504",
      "c0c9efef75144343a05299de8b3759f8",
      "c82d375693b943d99eca410eb1b2b3c5",
      "d8f0b4f553d644d5984eed99f3e810a4",
      "4f2733fca17f4ae4a99bb1cc0bdfb4f6",
      "a23d6004b88f43f0abf931a2e477294d",
      "b91cbcfd4bfe475493cb955f4f396fa3",
      "c29bb2b9255c47d79d5c6db97f5b3cde",
      "38128cc4bf3b431ba68e7b638c070512",
      "d7f5bce6cf774ecbb4aeac5aba85e595",
      "e7d6f7d0ecb84fb5a7f0ce46a8554054",
      "f90b98d4804e47e7b3f46be49b31ca8a",
      "d92e8dae714540c78e3d0ca7bedc06e5",
      "0e7a53cc43e74179abd3f929a46253e8",
      "c5b0419e2be64404a9320a04c9a807d7",
      "b74ee5f38473472bb8314333d7d44565",
      "035eaeebd9ef41469d6b0e1e43cb9b12",
      "7d4b36da09ad48d99dd100ef67947f8b",
      "2c7b7a6981c24188b344804e802b15d0",
      "cd9fbb8b31c3404eb823b8c85bfb9ed3",
      "a5706eba9ea5490ca854544948f32b68",
      "f18e9c5a966641729475f1ecacf14703",
      "7e60912639204e469476dc124a9a6a83",
      "9fab91e284d04d23a1185cce0a3224b1",
      "fc26387683324a50ba7c578516dcb694",
      "a9cff4878b7c4e6988b8417b3f1f5a19",
      "e1c1bd11eef84e2aa7132f551bf8fa9f",
      "774e26f2f3d44d9fa4df02754dd5db7e",
      "08bb3fa053de4eae8d729fba44f89aa0",
      "011d1b6feaf844ba9e97bf5024a253d9",
      "ea1215340c0b4fe7b57de2c38ea31edd",
      "7ae21d8c1ef74bd0bb5e93d867c35b2b",
      "72ee275ab9b74f4384eb429e92f6ab19",
      "bdd1991bd9f44c759994c026b2933c72",
      "5e01d120c45f4cca9d467c51cbd290f0",
      "2c8f52fea5c54e9798e1b2beba2237e4",
      "d3b34a89650c47608b6437759bd71d2d",
      "5eb967f22a8647d3956d353c92f8c4ab",
      "143b5e7f4f354310b6ed9854d38ad2a3",
      "45de4712717f46f9912aa776b157ceef",
      "0a38d280c1644fa6a2c86857f572a814",
      "2893b9b0afa643f4bac5df4e55ce82bc",
      "0688b8e18c214828b9023b0e3c661003",
      "e7b7382b74a04a9da987be7714b75830",
      "30ed6ae53f3c4ef1b8782c3f698c3241",
      "009ca000db6748008483bc28efb14baa",
      "3b57d533125749ea978096b8acb92e9d",
      "0b7c7e652dba43738c652553e4056793",
      "8a38ade187b64f889726e677f9e6bf9a",
      "55e3769cfd4840a58164c26ae46097d1",
      "9473d8dd18384cecab83a0e17f8c41ca",
      "3a73dd08d43a46898336488269785b7d",
      "3dac6d528c6644499997859034f6c57f",
      "46398fef6c5d4679ad43f906bdee1607",
      "175b96721b674f6a964c0e569b3869b6",
      "c32233fbf5f94510a617c9eb237dbb5a",
      "1ec0a50f8ac54d9a971e6b2bce0530e3",
      "f3c565e0bbd7482c97cec4d8605af69c",
      "41ad0205a5124f3d92d6b12f016adbac",
      "5d2ae9983b5744b0af817b5296a29b8b",
      "62fa36f86369490eac6919593329ab5a",
      "ec29c34008d9434daae939aee0ba5e56",
      "56849021bbe44b87822464415a26bfb4",
      "fe6b33631b5946a9a83d51e18d683ee4",
      "dbdc28045c524622b433deb4407ae10e",
      "bb433c80343243069b7b794e8d4fa440",
      "ef7b041df96343cc80b85e9b2cae394b",
      "855f2ef49d25484592821b7716575fc6",
      "008961821ac14f3ab5365fbf0f4e198d",
      "e432fbae7cd044ba836fe37817d72448",
      "6860ce557458418cafb4fc2d7095ea31",
      "bc32e9ad3acc47fdb711b2e10937c663",
      "3e6c951c16214922864ff306d9324d7b",
      "ce9ec5a054ca401cbdf278fbbff08dcc",
      "bea4b0ace9cb4cd69327bf099ea60600",
      "d59520399ae94fb28f11686e5bc0a23d",
      "7799da34968343c0bee38c2f07a1eda4",
      "0de01bc0b34e4a5fba9890d6d2919f8b",
      "6ee5f75e55274adab501ffa25825184e",
      "6b96116584b24fadb918f2f6930596a7",
      "7b11b2ed80d74e17a61092ac07a89f85",
      "b7279d42bbf040d2a1c26758b3ae2e70",
      "99673211f1ec4006a622f905596181d8",
      "545dbc6e51254fb893d0f13efc2bb040",
      "1cb71564c4904b20873d0e63b0e08edb",
      "c4288ee3ac5a419d9502dae2724cbcd4",
      "0fd8aa8305a74ef49fdd11c0144f6b47",
      "fa6b9aa1e01d4203b1275ad2285329ea",
      "aa041896b7204eebae6a678344a20e53",
      "caea7e96fe56410999cd1e58d8d8465d",
      "c3e0f870fa50456dad652f3fc7d36af5",
      "8c6e6e4397ea449d85a5f4d701f9dcae",
      "f3f079d97e36410bbfd2367b7758f5ec",
      "6d3e9eedce2c43c1997660ebfbc7954c",
      "315c7caaba1342ce8ca2ea6a27a8ead2",
      "1b1f8e1261f747188b741212deb13b92",
      "4b6d29eff9634409809c90069b9138ee",
      "1486565babf84069993317a1ff2430b1",
      "a8f86792e4b749d18d982a2e6e0e828c",
      "00c49c5e1832466996608537c19730c4",
      "f1756bf6ae384a14ba0d8bc0efe29c98",
      "f452e67b69274675b9844f4e35aec409",
      "32bef10d74104df2a2b1aebc44610282",
      "f94b4fd280584aeb9c1c3105eafc199a",
      "360cc53231fa4af59a0c8bb0edc18d41",
      "ea5f516c762e415f858f2775b8002f7d",
      "209862d8c75648dfa2b784a9ae6e057d",
      "9a26a227e6904d838407dcc49faf9a4e",
      "946922e7684e46e6ad33a2192f9683eb",
      "cfae2511bcc04da38339956c2f961f9b",
      "3f40b9459d2e42918282f6e3dbbe0485",
      "dec8af1eb9c84cb28f789cf586779cd7",
      "645eacc63d954d29a72f676a580988d7",
      "a78ae2653c8143c99e2d3505f0618cc6",
      "22ebf897df9a4d7093b8679a734ed3fd",
      "054aac1bea1b4024a61cd3833dabb818",
      "0898233d652b475da4f40a6e2ea6024d",
      "c2f88934db4e4bc5bc4336309fd0d2a7",
      "70d1be043251414cb54ddf4eb2dcd4e4",
      "28f6a9b3b15840a68017c4163d800e53",
      "e5a2a3fce75948acbbe88d7c5b223fbc",
      "19d1bcc2fbe2464ba63395818818a717",
      "fbf25959181e4865b7d997600649f976",
      "5de7ffbd123742049d1d46948a562419",
      "611726c3d3ac480cb6c715c0861cf825",
      "29d68a8c105c43fb95e465f3396cbd2e",
      "251a4cebc9294ff9a65c91f8a09c255e",
      "ebe7a43523184ae6b384f2f3fe2b943b",
      "b5dff37f022441fa813cc60c28fc5182",
      "a06ed1e0cf0e4c99bd729447779af30b",
      "e35a32566ffb42c299c6fadeb4efad00",
      "81c4706b27774346b9bb7977a486cf64",
      "ee04a175569849e3ada4a414e75bc2d7",
      "ae32186d7ba64e949d16dc2da73ac0b3",
      "6bf56028f934402da8c6b2a9de1f011e",
      "2486647da43a4155b937d5f47e3b0114",
      "00f4899b4aa54ae8bfe296367c2b9c45",
      "cdea0e32f6144511a24fda4cd56c7d8e",
      "d9e135d5bfd1499caecb1a826dac9964",
      "14c51ff2908e4b27ae54d89c366ce619",
      "aee425ecf8fa4e0fb17db8d2acec3998",
      "c004088d1de548c2aacd2af1023e0133",
      "9d8ec4f104fa4d83bd5c1ed7321f3c47",
      "7e37b0c44cb44f32b2dbc8fc11fd9809",
      "84e77c47517048a9a1641ced23d52f7f",
      "f5b44b8d43f241bbaafa1a3f773ceed0",
      "dedf265c057c469abb502048936e07aa",
      "73d32b33444d4953b259605d1cd75403"
     ]
    },
    "executionInfo": {
     "elapsed": 6802186,
     "status": "ok",
     "timestamp": 1617783054947,
     "user": {
      "displayName": "Aman Aryan",
      "photoUrl": "https://lh3.googleusercontent.com/a-/AOh14GjK8COdTMVIts9k8ZQiYXt_e98hss7FWnXQm15B=s64",
      "userId": "06138380680336854578"
     },
     "user_tz": -330
    },
    "id": "VEG2GbQDalME",
    "outputId": "4b4834e5-c5a2-4690-8f49-1fcc24f65d6f"
   },
   "outputs": [
    {
     "data": {
      "application/vnd.jupyter.widget-view+json": {
       "model_id": "c8b39c5990c6408fa05b2eefb591276e",
       "version_major": 2,
       "version_minor": 0
      },
      "text/plain": [
       "HBox(children=(FloatProgress(value=0.0, max=320.0), HTML(value='')))"
      ]
     },
     "metadata": {
      "tags": []
     },
     "output_type": "display_data"
    },
    {
     "name": "stdout",
     "output_type": "stream",
     "text": [
      "\n",
      " Epoch :  0    loss  :  2.732063106447458\n"
     ]
    },
    {
     "data": {
      "application/vnd.jupyter.widget-view+json": {
       "model_id": "0f849692234c4569b5ea03ddb38ee532",
       "version_major": 2,
       "version_minor": 0
      },
      "text/plain": [
       "HBox(children=(FloatProgress(value=0.0, max=320.0), HTML(value='')))"
      ]
     },
     "metadata": {
      "tags": []
     },
     "output_type": "display_data"
    },
    {
     "name": "stdout",
     "output_type": "stream",
     "text": [
      "\n",
      " Epoch :  1    loss  :  2.619626010209322\n"
     ]
    },
    {
     "data": {
      "application/vnd.jupyter.widget-view+json": {
       "model_id": "4f2733fca17f4ae4a99bb1cc0bdfb4f6",
       "version_major": 2,
       "version_minor": 0
      },
      "text/plain": [
       "HBox(children=(FloatProgress(value=0.0, max=320.0), HTML(value='')))"
      ]
     },
     "metadata": {
      "tags": []
     },
     "output_type": "display_data"
    },
    {
     "name": "stdout",
     "output_type": "stream",
     "text": [
      "\n",
      " Epoch :  2    loss  :  2.5192801848053934\n"
     ]
    },
    {
     "data": {
      "application/vnd.jupyter.widget-view+json": {
       "model_id": "d92e8dae714540c78e3d0ca7bedc06e5",
       "version_major": 2,
       "version_minor": 0
      },
      "text/plain": [
       "HBox(children=(FloatProgress(value=0.0, max=320.0), HTML(value='')))"
      ]
     },
     "metadata": {
      "tags": []
     },
     "output_type": "display_data"
    },
    {
     "name": "stdout",
     "output_type": "stream",
     "text": [
      "\n",
      " Epoch :  3    loss  :  2.4324987776577474\n"
     ]
    },
    {
     "data": {
      "application/vnd.jupyter.widget-view+json": {
       "model_id": "a5706eba9ea5490ca854544948f32b68",
       "version_major": 2,
       "version_minor": 0
      },
      "text/plain": [
       "HBox(children=(FloatProgress(value=0.0, max=320.0), HTML(value='')))"
      ]
     },
     "metadata": {
      "tags": []
     },
     "output_type": "display_data"
    },
    {
     "name": "stdout",
     "output_type": "stream",
     "text": [
      "\n",
      " Epoch :  4    loss  :  2.3544906467199325\n"
     ]
    },
    {
     "data": {
      "application/vnd.jupyter.widget-view+json": {
       "model_id": "08bb3fa053de4eae8d729fba44f89aa0",
       "version_major": 2,
       "version_minor": 0
      },
      "text/plain": [
       "HBox(children=(FloatProgress(value=0.0, max=320.0), HTML(value='')))"
      ]
     },
     "metadata": {
      "tags": []
     },
     "output_type": "display_data"
    },
    {
     "name": "stdout",
     "output_type": "stream",
     "text": [
      "\n",
      " Epoch :  5    loss  :  2.2653040904551744\n"
     ]
    },
    {
     "data": {
      "application/vnd.jupyter.widget-view+json": {
       "model_id": "d3b34a89650c47608b6437759bd71d2d",
       "version_major": 2,
       "version_minor": 0
      },
      "text/plain": [
       "HBox(children=(FloatProgress(value=0.0, max=320.0), HTML(value='')))"
      ]
     },
     "metadata": {
      "tags": []
     },
     "output_type": "display_data"
    },
    {
     "name": "stdout",
     "output_type": "stream",
     "text": [
      "\n",
      " Epoch :  6    loss  :  2.181982069090009\n"
     ]
    },
    {
     "data": {
      "application/vnd.jupyter.widget-view+json": {
       "model_id": "30ed6ae53f3c4ef1b8782c3f698c3241",
       "version_major": 2,
       "version_minor": 0
      },
      "text/plain": [
       "HBox(children=(FloatProgress(value=0.0, max=320.0), HTML(value='')))"
      ]
     },
     "metadata": {
      "tags": []
     },
     "output_type": "display_data"
    },
    {
     "name": "stdout",
     "output_type": "stream",
     "text": [
      "\n",
      " Epoch :  7    loss  :  2.11001419685781\n"
     ]
    },
    {
     "data": {
      "application/vnd.jupyter.widget-view+json": {
       "model_id": "3dac6d528c6644499997859034f6c57f",
       "version_major": 2,
       "version_minor": 0
      },
      "text/plain": [
       "HBox(children=(FloatProgress(value=0.0, max=320.0), HTML(value='')))"
      ]
     },
     "metadata": {
      "tags": []
     },
     "output_type": "display_data"
    },
    {
     "name": "stdout",
     "output_type": "stream",
     "text": [
      "\n",
      " Epoch :  8    loss  :  2.0231910202652217\n"
     ]
    },
    {
     "data": {
      "application/vnd.jupyter.widget-view+json": {
       "model_id": "62fa36f86369490eac6919593329ab5a",
       "version_major": 2,
       "version_minor": 0
      },
      "text/plain": [
       "HBox(children=(FloatProgress(value=0.0, max=320.0), HTML(value='')))"
      ]
     },
     "metadata": {
      "tags": []
     },
     "output_type": "display_data"
    },
    {
     "name": "stdout",
     "output_type": "stream",
     "text": [
      "\n",
      " Epoch :  9    loss  :  1.9554239954799413\n"
     ]
    },
    {
     "data": {
      "application/vnd.jupyter.widget-view+json": {
       "model_id": "008961821ac14f3ab5365fbf0f4e198d",
       "version_major": 2,
       "version_minor": 0
      },
      "text/plain": [
       "HBox(children=(FloatProgress(value=0.0, max=320.0), HTML(value='')))"
      ]
     },
     "metadata": {
      "tags": []
     },
     "output_type": "display_data"
    },
    {
     "name": "stdout",
     "output_type": "stream",
     "text": [
      "\n",
      " Epoch :  10    loss  :  1.8735475439578295\n"
     ]
    },
    {
     "data": {
      "application/vnd.jupyter.widget-view+json": {
       "model_id": "7799da34968343c0bee38c2f07a1eda4",
       "version_major": 2,
       "version_minor": 0
      },
      "text/plain": [
       "HBox(children=(FloatProgress(value=0.0, max=320.0), HTML(value='')))"
      ]
     },
     "metadata": {
      "tags": []
     },
     "output_type": "display_data"
    },
    {
     "name": "stdout",
     "output_type": "stream",
     "text": [
      "\n",
      " Epoch :  11    loss  :  1.817426684498787\n"
     ]
    },
    {
     "data": {
      "application/vnd.jupyter.widget-view+json": {
       "model_id": "1cb71564c4904b20873d0e63b0e08edb",
       "version_major": 2,
       "version_minor": 0
      },
      "text/plain": [
       "HBox(children=(FloatProgress(value=0.0, max=320.0), HTML(value='')))"
      ]
     },
     "metadata": {
      "tags": []
     },
     "output_type": "display_data"
    },
    {
     "name": "stdout",
     "output_type": "stream",
     "text": [
      "\n",
      " Epoch :  12    loss  :  1.7542444348335267\n"
     ]
    },
    {
     "data": {
      "application/vnd.jupyter.widget-view+json": {
       "model_id": "f3f079d97e36410bbfd2367b7758f5ec",
       "version_major": 2,
       "version_minor": 0
      },
      "text/plain": [
       "HBox(children=(FloatProgress(value=0.0, max=320.0), HTML(value='')))"
      ]
     },
     "metadata": {
      "tags": []
     },
     "output_type": "display_data"
    },
    {
     "name": "stdout",
     "output_type": "stream",
     "text": [
      "\n",
      " Epoch :  13    loss  :  1.6943654499948024\n"
     ]
    },
    {
     "data": {
      "application/vnd.jupyter.widget-view+json": {
       "model_id": "f1756bf6ae384a14ba0d8bc0efe29c98",
       "version_major": 2,
       "version_minor": 0
      },
      "text/plain": [
       "HBox(children=(FloatProgress(value=0.0, max=320.0), HTML(value='')))"
      ]
     },
     "metadata": {
      "tags": []
     },
     "output_type": "display_data"
    },
    {
     "name": "stdout",
     "output_type": "stream",
     "text": [
      "\n",
      " Epoch :  14    loss  :  1.6200547203421594\n"
     ]
    },
    {
     "data": {
      "application/vnd.jupyter.widget-view+json": {
       "model_id": "946922e7684e46e6ad33a2192f9683eb",
       "version_major": 2,
       "version_minor": 0
      },
      "text/plain": [
       "HBox(children=(FloatProgress(value=0.0, max=320.0), HTML(value='')))"
      ]
     },
     "metadata": {
      "tags": []
     },
     "output_type": "display_data"
    },
    {
     "name": "stdout",
     "output_type": "stream",
     "text": [
      "\n",
      " Epoch :  15    loss  :  1.5699385333806277\n"
     ]
    },
    {
     "data": {
      "application/vnd.jupyter.widget-view+json": {
       "model_id": "0898233d652b475da4f40a6e2ea6024d",
       "version_major": 2,
       "version_minor": 0
      },
      "text/plain": [
       "HBox(children=(FloatProgress(value=0.0, max=320.0), HTML(value='')))"
      ]
     },
     "metadata": {
      "tags": []
     },
     "output_type": "display_data"
    },
    {
     "name": "stdout",
     "output_type": "stream",
     "text": [
      "\n",
      " Epoch :  16    loss  :  1.517520174011588\n"
     ]
    },
    {
     "data": {
      "application/vnd.jupyter.widget-view+json": {
       "model_id": "611726c3d3ac480cb6c715c0861cf825",
       "version_major": 2,
       "version_minor": 0
      },
      "text/plain": [
       "HBox(children=(FloatProgress(value=0.0, max=320.0), HTML(value='')))"
      ]
     },
     "metadata": {
      "tags": []
     },
     "output_type": "display_data"
    },
    {
     "name": "stdout",
     "output_type": "stream",
     "text": [
      "\n",
      " Epoch :  17    loss  :  1.4485948540270328\n"
     ]
    },
    {
     "data": {
      "application/vnd.jupyter.widget-view+json": {
       "model_id": "ee04a175569849e3ada4a414e75bc2d7",
       "version_major": 2,
       "version_minor": 0
      },
      "text/plain": [
       "HBox(children=(FloatProgress(value=0.0, max=320.0), HTML(value='')))"
      ]
     },
     "metadata": {
      "tags": []
     },
     "output_type": "display_data"
    },
    {
     "name": "stdout",
     "output_type": "stream",
     "text": [
      "\n",
      " Epoch :  18    loss  :  1.3891402546316385\n"
     ]
    },
    {
     "data": {
      "application/vnd.jupyter.widget-view+json": {
       "model_id": "aee425ecf8fa4e0fb17db8d2acec3998",
       "version_major": 2,
       "version_minor": 0
      },
      "text/plain": [
       "HBox(children=(FloatProgress(value=0.0, max=320.0), HTML(value='')))"
      ]
     },
     "metadata": {
      "tags": []
     },
     "output_type": "display_data"
    },
    {
     "name": "stdout",
     "output_type": "stream",
     "text": [
      "\n",
      " Epoch :  19    loss  :  1.3445690371096135\n"
     ]
    },
    {
     "data": {
      "text/plain": [
       "[2.732063106447458,\n",
       " 2.619626010209322,\n",
       " 2.5192801848053934,\n",
       " 2.4324987776577474,\n",
       " 2.3544906467199325,\n",
       " 2.2653040904551744,\n",
       " 2.181982069090009,\n",
       " 2.11001419685781,\n",
       " 2.0231910202652217,\n",
       " 1.9554239954799413,\n",
       " 1.8735475439578295,\n",
       " 1.817426684498787,\n",
       " 1.7542444348335267,\n",
       " 1.6943654499948024,\n",
       " 1.6200547203421594,\n",
       " 1.5699385333806277,\n",
       " 1.517520174011588,\n",
       " 1.4485948540270328,\n",
       " 1.3891402546316385,\n",
       " 1.3445690371096135]"
      ]
     },
     "execution_count": 131,
     "metadata": {
      "tags": []
     },
     "output_type": "execute_result"
    }
   ],
   "source": [
    "train( model2, opt, lossfn, train_loader, epochs)"
   ]
  },
  {
   "cell_type": "code",
   "execution_count": null,
   "metadata": {
    "id": "KoHOOwy87HXv"
   },
   "outputs": [],
   "source": [
    "losses_0_20 = [6.523064902424812,\n",
    " 6.037573310732841, \n",
    " 5.599939221143723, \n",
    " 5.315892766416073, \n",
    " 5.09729093015194, \n",
    " 4.904697574675083, \n",
    " 4.731893748044968, \n",
    " 4.542162449657917, \n",
    " 4.382418308407068, \n",
    " 4.203161864727735, \n",
    " 4.039230632781982, \n",
    " 3.8850651726126673, \n",
    " 3.722262720763683, \n",
    " 3.574678003042936, \n",
    " 3.4505377903580667, \n",
    " 3.313774961978197, \n",
    " 3.1757298365235327, \n",
    " 3.0560265742242336, \n",
    " 2.944844899326563, \n",
    " 2.8258959256112575]\n",
    "\n",
    "losses_20_40 = [2.732063106447458,\n",
    " 2.619626010209322,\n",
    " 2.5192801848053934,\n",
    " 2.4324987776577474,\n",
    " 2.3544906467199325,\n",
    " 2.2653040904551744,\n",
    " 2.181982069090009,\n",
    " 2.11001419685781,\n",
    " 2.0231910202652217,\n",
    " 1.9554239954799413,\n",
    " 1.8735475439578295,\n",
    " 1.817426684498787,\n",
    " 1.7542444348335267,\n",
    " 1.6943654499948024,\n",
    " 1.6200547203421594,\n",
    " 1.5699385333806277,\n",
    " 1.517520174011588,\n",
    " 1.4485948540270328,\n",
    " 1.3891402546316385,\n",
    " 1.3445690371096135]"
   ]
  },
  {
   "cell_type": "code",
   "execution_count": null,
   "metadata": {
    "id": "EztokJJZ7KJY"
   },
   "outputs": [],
   "source": []
  },
  {
   "cell_type": "code",
   "execution_count": null,
   "metadata": {
    "id": "SJRl_b4IS6xp"
   },
   "outputs": [],
   "source": [
    "torch.save(model2.state_dict(), model_location + 'lstm2_dict_' + str(20+epochs) )\n",
    "torch.save(model2, model_location + 'lstm2_' + str(20+epochs) )"
   ]
  },
  {
   "cell_type": "markdown",
   "metadata": {
    "id": "GidWU1rMXdE-"
   },
   "source": [
    "LOAD MODEL"
   ]
  },
  {
   "cell_type": "code",
   "execution_count": null,
   "metadata": {
    "colab": {
     "base_uri": "https://localhost:8080/"
    },
    "executionInfo": {
     "elapsed": 1994,
     "status": "ok",
     "timestamp": 1617785416827,
     "user": {
      "displayName": "Aman Aryan",
      "photoUrl": "https://lh3.googleusercontent.com/a-/AOh14GjK8COdTMVIts9k8ZQiYXt_e98hss7FWnXQm15B=s64",
      "userId": "06138380680336854578"
     },
     "user_tz": -330
    },
    "id": "UU_Bd47QsiRu",
    "outputId": "ba9efb7e-20cb-48bd-e9dc-e1ed1a1b892e"
   },
   "outputs": [
    {
     "data": {
      "text/plain": [
       "seq2seq(\n",
       "  (encoder): Encoder(\n",
       "    (embedding): Embedding(40447, 300)\n",
       "    (lstm): LSTM(300, 512, num_layers=2)\n",
       "  )\n",
       "  (decoder): Decoder(\n",
       "    (embedding): Embedding(29686, 300)\n",
       "    (lstm): LSTM(300, 512, num_layers=2)\n",
       "    (out): Linear(in_features=512, out_features=29686, bias=True)\n",
       "  )\n",
       ")"
      ]
     },
     "execution_count": 155,
     "metadata": {
      "tags": []
     },
     "output_type": "execute_result"
    }
   ],
   "source": [
    "model = seq2seq(input_vocab_size, output_vocab_size , embedding_dim, hidden_size, MAX_LENGTH)\n",
    "model.load_state_dict( torch.load(model_location + 'lstm2_dict_40'))\n",
    "model.eval()"
   ]
  },
  {
   "cell_type": "markdown",
   "metadata": {
    "id": "SVuPC0bCTkT7"
   },
   "source": [
    "### USE MODEL"
   ]
  },
  {
   "cell_type": "code",
   "execution_count": null,
   "metadata": {
    "colab": {
     "base_uri": "https://localhost:8080/",
     "height": 438,
     "referenced_widgets": [
      "0b5d7fa86229439ba34fffa9a6b4bb03",
      "7f48634a74904e399093be66e236e0e1",
      "cfc15bb1e31341e2b5296914cfb35658",
      "74808efd207f4f98815b3872b853e76c",
      "b58b1ebf41fc4610b8ce61a32582285f",
      "52aaa6ee7116471ca083604ba59f52c6",
      "2ef79ce72e3f4834a640512d329ea0b2",
      "5e3da70a700f404abffd7319a4d49173"
     ]
    },
    "executionInfo": {
     "elapsed": 429545,
     "status": "ok",
     "timestamp": 1617785849256,
     "user": {
      "displayName": "Aman Aryan",
      "photoUrl": "https://lh3.googleusercontent.com/a-/AOh14GjK8COdTMVIts9k8ZQiYXt_e98hss7FWnXQm15B=s64",
      "userId": "06138380680336854578"
     },
     "user_tz": -330
    },
    "id": "lxy6OQrfZc_O",
    "outputId": "9a26b22d-4342-48db-a361-db89ba57ca65"
   },
   "outputs": [
    {
     "data": {
      "application/vnd.jupyter.widget-view+json": {
       "model_id": "0b5d7fa86229439ba34fffa9a6b4bb03",
       "version_major": 2,
       "version_minor": 0
      },
      "text/plain": [
       "HBox(children=(FloatProgress(value=0.0, max=20465.0), HTML(value='')))"
      ]
     },
     "metadata": {
      "tags": []
     },
     "output_type": "display_data"
    },
    {
     "name": "stderr",
     "output_type": "stream",
     "text": [
      "/usr/local/lib/python3.7/dist-packages/nltk/translate/bleu_score.py:516: UserWarning: \n",
      "The hypothesis contains 0 counts of 2-gram overlaps.\n",
      "Therefore the BLEU score evaluates to 0, independently of\n",
      "how many N-gram overlaps of lower order it contains.\n",
      "Consider using lower n-gram order or use SmoothingFunction()\n",
      "  warnings.warn(_msg)\n",
      "/usr/local/lib/python3.7/dist-packages/nltk/translate/bleu_score.py:516: UserWarning: \n",
      "The hypothesis contains 0 counts of 3-gram overlaps.\n",
      "Therefore the BLEU score evaluates to 0, independently of\n",
      "how many N-gram overlaps of lower order it contains.\n",
      "Consider using lower n-gram order or use SmoothingFunction()\n",
      "  warnings.warn(_msg)\n",
      "/usr/local/lib/python3.7/dist-packages/nltk/translate/bleu_score.py:516: UserWarning: \n",
      "The hypothesis contains 0 counts of 4-gram overlaps.\n",
      "Therefore the BLEU score evaluates to 0, independently of\n",
      "how many N-gram overlaps of lower order it contains.\n",
      "Consider using lower n-gram order or use SmoothingFunction()\n",
      "  warnings.warn(_msg)\n"
     ]
    },
    {
     "name": "stdout",
     "output_type": "stream",
     "text": [
      "\n",
      "\n",
      "bleu score:  0.022128485815101656\n",
      "meteor score:  0.24826904310138603\n"
     ]
    }
   ],
   "source": [
    "get_bleu_score(model, test_tokens, hindi, english, MAX_LENGTH)"
   ]
  },
  {
   "cell_type": "code",
   "execution_count": null,
   "metadata": {
    "id": "acTRjUA0bg7l"
   },
   "outputs": [],
   "source": []
  },
  {
   "cell_type": "markdown",
   "metadata": {
    "id": "Wd6jSg0bXg1a"
   },
   "source": [
    "### USE MODEL FOR TRANSLATION"
   ]
  },
  {
   "cell_type": "code",
   "execution_count": null,
   "metadata": {
    "id": "EmC5MWcQXmbH"
   },
   "outputs": [],
   "source": [
    "week = pd.read_csv(data_location+'Weekly Data/Week2/week2.csv', index_col=0)"
   ]
  },
  {
   "cell_type": "code",
   "execution_count": null,
   "metadata": {
    "id": "KLpeMuuHevZF"
   },
   "outputs": [],
   "source": []
  },
  {
   "cell_type": "code",
   "execution_count": null,
   "metadata": {
    "id": "EAmOtFd2hlU1"
   },
   "outputs": [],
   "source": [
    "week_processed = []\n",
    "for x in  week1['hindi']:\n",
    "  t = get_hindi_tokens(preprocess_hindi(x))\n",
    "  week_processed.append(t)"
   ]
  },
  {
   "cell_type": "code",
   "execution_count": null,
   "metadata": {
    "colab": {
     "base_uri": "https://localhost:8080/",
     "height": 35
    },
    "executionInfo": {
     "elapsed": 1074,
     "status": "ok",
     "timestamp": 1617784859250,
     "user": {
      "displayName": "Aman Aryan",
      "photoUrl": "https://lh3.googleusercontent.com/a-/AOh14GjK8COdTMVIts9k8ZQiYXt_e98hss7FWnXQm15B=s64",
      "userId": "06138380680336854578"
     },
     "user_tz": -330
    },
    "id": "KjGfuGbifOBx",
    "outputId": "26e7bbf2-5cf8-4d86-e5b5-4da0f865207b"
   },
   "outputs": [
    {
     "data": {
      "application/vnd.google.colaboratory.intrinsic+json": {
       "type": "string"
      },
      "text/plain": [
       "'what is they saying on the table or what are you'"
      ]
     },
     "execution_count": 147,
     "metadata": {
      "tags": []
     },
     "output_type": "execute_result"
    }
   ],
   "source": [
    "translate(model, week_processed[0], hindi, english, MAX_LENGTH)"
   ]
  },
  {
   "cell_type": "code",
   "execution_count": null,
   "metadata": {
    "id": "MTVkyBCMfaa_"
   },
   "outputs": [],
   "source": []
  },
  {
   "cell_type": "code",
   "execution_count": null,
   "metadata": {
    "colab": {
     "base_uri": "https://localhost:8080/",
     "height": 66,
     "referenced_widgets": [
      "b5a2ba33e6664af2ae5352cb4e3d775d",
      "121c64dce58a481896453c6488960002",
      "c2fa7e5c37734bef808ab8d8c1ee5be2",
      "9e0d9e8774794e74abd82e6077300f04",
      "0597f0fe4abc4a15b9ea91d28dd9b347",
      "74a7663d744240159a170c999f31e7a5",
      "d76bd8b32fef4ba4bc6e1faa53f9e760",
      "17bff9643dec45198296918a89a3f4c9"
     ]
    },
    "executionInfo": {
     "elapsed": 193096,
     "status": "ok",
     "timestamp": 1617785093889,
     "user": {
      "displayName": "Aman Aryan",
      "photoUrl": "https://lh3.googleusercontent.com/a-/AOh14GjK8COdTMVIts9k8ZQiYXt_e98hss7FWnXQm15B=s64",
      "userId": "06138380680336854578"
     },
     "user_tz": -330
    },
    "id": "DRsRuWQT1i7l",
    "outputId": "9f343f0d-dc42-4368-c3f6-0043b635d686"
   },
   "outputs": [
    {
     "data": {
      "application/vnd.jupyter.widget-view+json": {
       "model_id": "b5a2ba33e6664af2ae5352cb4e3d775d",
       "version_major": 2,
       "version_minor": 0
      },
      "text/plain": [
       "HBox(children=(FloatProgress(value=0.0, max=5000.0), HTML(value='')))"
      ]
     },
     "metadata": {
      "tags": []
     },
     "output_type": "display_data"
    },
    {
     "name": "stdout",
     "output_type": "stream",
     "text": [
      "\n"
     ]
    }
   ],
   "source": [
    "translated_texts = []\n",
    "for i in tq.tqdm( range(len(week_tensors)) ):\n",
    "  translated_texts.append( translate(model, week_processed[i], hindi, english, MAX_LENGTH) ) "
   ]
  },
  {
   "cell_type": "code",
   "execution_count": null,
   "metadata": {
    "id": "mDufBeCJXw1f"
   },
   "outputs": [],
   "source": [
    "with open(data_location + 'Weekly Data/Week2/lstm.txt', 'w') as f:\n",
    "    for item in translated_texts:\n",
    "        f.write(\"%s\\n\" % item)"
   ]
  },
  {
   "cell_type": "code",
   "execution_count": null,
   "metadata": {
    "id": "uGXG3VGnZbxr"
   },
   "outputs": [],
   "source": []
  },
  {
   "cell_type": "code",
   "execution_count": null,
   "metadata": {
    "id": "frk9g3E8r8X4"
   },
   "outputs": [],
   "source": [
    "#torch.save( tmodel.state_dict(), model_location + 'gru_dict_100')\n",
    "#torch.save(model, location+ 'gru_enc_dec')\n",
    "\n",
    "#tmodel = torch.load(model_location+ 'gru_100')\n",
    "#tmodel.eval()\n",
    "\n",
    "#tq.tqdm._instances.clear()"
   ]
  }
 ],
 "metadata": {
  "accelerator": "GPU",
  "colab": {
   "collapsed_sections": [
    "YkqUlmpnCNw-",
    "eOV8__452nrJ",
    "JfKCjT9t2Uce",
    "OWWqvluwXPMG"
   ],
   "name": "NMT_LSTM.ipynb",
   "provenance": []
  },
  "kernelspec": {
   "display_name": "Python 3",
   "language": "python",
   "name": "python3"
  },
  "language_info": {
   "codemirror_mode": {
    "name": "ipython",
    "version": 3
   },
   "file_extension": ".py",
   "mimetype": "text/x-python",
   "name": "python",
   "nbconvert_exporter": "python",
   "pygments_lexer": "ipython3",
   "version": "3.8.5"
  },
  "widgets": {
   "application/vnd.jupyter.widget-state+json": {
    "008961821ac14f3ab5365fbf0f4e198d": {
     "model_module": "@jupyter-widgets/controls",
     "model_name": "HBoxModel",
     "state": {
      "_dom_classes": [],
      "_model_module": "@jupyter-widgets/controls",
      "_model_module_version": "1.5.0",
      "_model_name": "HBoxModel",
      "_view_count": null,
      "_view_module": "@jupyter-widgets/controls",
      "_view_module_version": "1.5.0",
      "_view_name": "HBoxView",
      "box_style": "",
      "children": [
       "IPY_MODEL_6860ce557458418cafb4fc2d7095ea31",
       "IPY_MODEL_bc32e9ad3acc47fdb711b2e10937c663"
      ],
      "layout": "IPY_MODEL_e432fbae7cd044ba836fe37817d72448"
     }
    },
    "009ca000db6748008483bc28efb14baa": {
     "model_module": "@jupyter-widgets/base",
     "model_name": "LayoutModel",
     "state": {
      "_model_module": "@jupyter-widgets/base",
      "_model_module_version": "1.2.0",
      "_model_name": "LayoutModel",
      "_view_count": null,
      "_view_module": "@jupyter-widgets/base",
      "_view_module_version": "1.2.0",
      "_view_name": "LayoutView",
      "align_content": null,
      "align_items": null,
      "align_self": null,
      "border": null,
      "bottom": null,
      "display": null,
      "flex": null,
      "flex_flow": null,
      "grid_area": null,
      "grid_auto_columns": null,
      "grid_auto_flow": null,
      "grid_auto_rows": null,
      "grid_column": null,
      "grid_gap": null,
      "grid_row": null,
      "grid_template_areas": null,
      "grid_template_columns": null,
      "grid_template_rows": null,
      "height": null,
      "justify_content": null,
      "justify_items": null,
      "left": null,
      "margin": null,
      "max_height": null,
      "max_width": null,
      "min_height": null,
      "min_width": null,
      "object_fit": null,
      "object_position": null,
      "order": null,
      "overflow": null,
      "overflow_x": null,
      "overflow_y": null,
      "padding": null,
      "right": null,
      "top": null,
      "visibility": null,
      "width": null
     }
    },
    "00c49c5e1832466996608537c19730c4": {
     "model_module": "@jupyter-widgets/base",
     "model_name": "LayoutModel",
     "state": {
      "_model_module": "@jupyter-widgets/base",
      "_model_module_version": "1.2.0",
      "_model_name": "LayoutModel",
      "_view_count": null,
      "_view_module": "@jupyter-widgets/base",
      "_view_module_version": "1.2.0",
      "_view_name": "LayoutView",
      "align_content": null,
      "align_items": null,
      "align_self": null,
      "border": null,
      "bottom": null,
      "display": null,
      "flex": null,
      "flex_flow": null,
      "grid_area": null,
      "grid_auto_columns": null,
      "grid_auto_flow": null,
      "grid_auto_rows": null,
      "grid_column": null,
      "grid_gap": null,
      "grid_row": null,
      "grid_template_areas": null,
      "grid_template_columns": null,
      "grid_template_rows": null,
      "height": null,
      "justify_content": null,
      "justify_items": null,
      "left": null,
      "margin": null,
      "max_height": null,
      "max_width": null,
      "min_height": null,
      "min_width": null,
      "object_fit": null,
      "object_position": null,
      "order": null,
      "overflow": null,
      "overflow_x": null,
      "overflow_y": null,
      "padding": null,
      "right": null,
      "top": null,
      "visibility": null,
      "width": null
     }
    },
    "00f4899b4aa54ae8bfe296367c2b9c45": {
     "model_module": "@jupyter-widgets/controls",
     "model_name": "ProgressStyleModel",
     "state": {
      "_model_module": "@jupyter-widgets/controls",
      "_model_module_version": "1.5.0",
      "_model_name": "ProgressStyleModel",
      "_view_count": null,
      "_view_module": "@jupyter-widgets/base",
      "_view_module_version": "1.2.0",
      "_view_name": "StyleView",
      "bar_color": null,
      "description_width": "initial"
     }
    },
    "011d1b6feaf844ba9e97bf5024a253d9": {
     "model_module": "@jupyter-widgets/base",
     "model_name": "LayoutModel",
     "state": {
      "_model_module": "@jupyter-widgets/base",
      "_model_module_version": "1.2.0",
      "_model_name": "LayoutModel",
      "_view_count": null,
      "_view_module": "@jupyter-widgets/base",
      "_view_module_version": "1.2.0",
      "_view_name": "LayoutView",
      "align_content": null,
      "align_items": null,
      "align_self": null,
      "border": null,
      "bottom": null,
      "display": null,
      "flex": null,
      "flex_flow": null,
      "grid_area": null,
      "grid_auto_columns": null,
      "grid_auto_flow": null,
      "grid_auto_rows": null,
      "grid_column": null,
      "grid_gap": null,
      "grid_row": null,
      "grid_template_areas": null,
      "grid_template_columns": null,
      "grid_template_rows": null,
      "height": null,
      "justify_content": null,
      "justify_items": null,
      "left": null,
      "margin": null,
      "max_height": null,
      "max_width": null,
      "min_height": null,
      "min_width": null,
      "object_fit": null,
      "object_position": null,
      "order": null,
      "overflow": null,
      "overflow_x": null,
      "overflow_y": null,
      "padding": null,
      "right": null,
      "top": null,
      "visibility": null,
      "width": null
     }
    },
    "035eaeebd9ef41469d6b0e1e43cb9b12": {
     "model_module": "@jupyter-widgets/controls",
     "model_name": "ProgressStyleModel",
     "state": {
      "_model_module": "@jupyter-widgets/controls",
      "_model_module_version": "1.5.0",
      "_model_name": "ProgressStyleModel",
      "_view_count": null,
      "_view_module": "@jupyter-widgets/base",
      "_view_module_version": "1.2.0",
      "_view_name": "StyleView",
      "bar_color": null,
      "description_width": "initial"
     }
    },
    "054aac1bea1b4024a61cd3833dabb818": {
     "model_module": "@jupyter-widgets/base",
     "model_name": "LayoutModel",
     "state": {
      "_model_module": "@jupyter-widgets/base",
      "_model_module_version": "1.2.0",
      "_model_name": "LayoutModel",
      "_view_count": null,
      "_view_module": "@jupyter-widgets/base",
      "_view_module_version": "1.2.0",
      "_view_name": "LayoutView",
      "align_content": null,
      "align_items": null,
      "align_self": null,
      "border": null,
      "bottom": null,
      "display": null,
      "flex": null,
      "flex_flow": null,
      "grid_area": null,
      "grid_auto_columns": null,
      "grid_auto_flow": null,
      "grid_auto_rows": null,
      "grid_column": null,
      "grid_gap": null,
      "grid_row": null,
      "grid_template_areas": null,
      "grid_template_columns": null,
      "grid_template_rows": null,
      "height": null,
      "justify_content": null,
      "justify_items": null,
      "left": null,
      "margin": null,
      "max_height": null,
      "max_width": null,
      "min_height": null,
      "min_width": null,
      "object_fit": null,
      "object_position": null,
      "order": null,
      "overflow": null,
      "overflow_x": null,
      "overflow_y": null,
      "padding": null,
      "right": null,
      "top": null,
      "visibility": null,
      "width": null
     }
    },
    "0597f0fe4abc4a15b9ea91d28dd9b347": {
     "model_module": "@jupyter-widgets/controls",
     "model_name": "ProgressStyleModel",
     "state": {
      "_model_module": "@jupyter-widgets/controls",
      "_model_module_version": "1.5.0",
      "_model_name": "ProgressStyleModel",
      "_view_count": null,
      "_view_module": "@jupyter-widgets/base",
      "_view_module_version": "1.2.0",
      "_view_name": "StyleView",
      "bar_color": null,
      "description_width": "initial"
     }
    },
    "0688b8e18c214828b9023b0e3c661003": {
     "model_module": "@jupyter-widgets/controls",
     "model_name": "DescriptionStyleModel",
     "state": {
      "_model_module": "@jupyter-widgets/controls",
      "_model_module_version": "1.5.0",
      "_model_name": "DescriptionStyleModel",
      "_view_count": null,
      "_view_module": "@jupyter-widgets/base",
      "_view_module_version": "1.2.0",
      "_view_name": "StyleView",
      "description_width": ""
     }
    },
    "0898233d652b475da4f40a6e2ea6024d": {
     "model_module": "@jupyter-widgets/controls",
     "model_name": "HBoxModel",
     "state": {
      "_dom_classes": [],
      "_model_module": "@jupyter-widgets/controls",
      "_model_module_version": "1.5.0",
      "_model_name": "HBoxModel",
      "_view_count": null,
      "_view_module": "@jupyter-widgets/controls",
      "_view_module_version": "1.5.0",
      "_view_name": "HBoxView",
      "box_style": "",
      "children": [
       "IPY_MODEL_70d1be043251414cb54ddf4eb2dcd4e4",
       "IPY_MODEL_28f6a9b3b15840a68017c4163d800e53"
      ],
      "layout": "IPY_MODEL_c2f88934db4e4bc5bc4336309fd0d2a7"
     }
    },
    "08bb3fa053de4eae8d729fba44f89aa0": {
     "model_module": "@jupyter-widgets/controls",
     "model_name": "HBoxModel",
     "state": {
      "_dom_classes": [],
      "_model_module": "@jupyter-widgets/controls",
      "_model_module_version": "1.5.0",
      "_model_name": "HBoxModel",
      "_view_count": null,
      "_view_module": "@jupyter-widgets/controls",
      "_view_module_version": "1.5.0",
      "_view_name": "HBoxView",
      "box_style": "",
      "children": [
       "IPY_MODEL_ea1215340c0b4fe7b57de2c38ea31edd",
       "IPY_MODEL_7ae21d8c1ef74bd0bb5e93d867c35b2b"
      ],
      "layout": "IPY_MODEL_011d1b6feaf844ba9e97bf5024a253d9"
     }
    },
    "0a38d280c1644fa6a2c86857f572a814": {
     "model_module": "@jupyter-widgets/controls",
     "model_name": "ProgressStyleModel",
     "state": {
      "_model_module": "@jupyter-widgets/controls",
      "_model_module_version": "1.5.0",
      "_model_name": "ProgressStyleModel",
      "_view_count": null,
      "_view_module": "@jupyter-widgets/base",
      "_view_module_version": "1.2.0",
      "_view_name": "StyleView",
      "bar_color": null,
      "description_width": "initial"
     }
    },
    "0ad6f2e3d1254841bb45c9f654c47504": {
     "model_module": "@jupyter-widgets/controls",
     "model_name": "ProgressStyleModel",
     "state": {
      "_model_module": "@jupyter-widgets/controls",
      "_model_module_version": "1.5.0",
      "_model_name": "ProgressStyleModel",
      "_view_count": null,
      "_view_module": "@jupyter-widgets/base",
      "_view_module_version": "1.2.0",
      "_view_name": "StyleView",
      "bar_color": null,
      "description_width": "initial"
     }
    },
    "0b5d7fa86229439ba34fffa9a6b4bb03": {
     "model_module": "@jupyter-widgets/controls",
     "model_name": "HBoxModel",
     "state": {
      "_dom_classes": [],
      "_model_module": "@jupyter-widgets/controls",
      "_model_module_version": "1.5.0",
      "_model_name": "HBoxModel",
      "_view_count": null,
      "_view_module": "@jupyter-widgets/controls",
      "_view_module_version": "1.5.0",
      "_view_name": "HBoxView",
      "box_style": "",
      "children": [
       "IPY_MODEL_cfc15bb1e31341e2b5296914cfb35658",
       "IPY_MODEL_74808efd207f4f98815b3872b853e76c"
      ],
      "layout": "IPY_MODEL_7f48634a74904e399093be66e236e0e1"
     }
    },
    "0b7c7e652dba43738c652553e4056793": {
     "model_module": "@jupyter-widgets/controls",
     "model_name": "HTMLModel",
     "state": {
      "_dom_classes": [],
      "_model_module": "@jupyter-widgets/controls",
      "_model_module_version": "1.5.0",
      "_model_name": "HTMLModel",
      "_view_count": null,
      "_view_module": "@jupyter-widgets/controls",
      "_view_module_version": "1.5.0",
      "_view_name": "HTMLView",
      "description": "",
      "description_tooltip": null,
      "layout": "IPY_MODEL_3a73dd08d43a46898336488269785b7d",
      "placeholder": "​",
      "style": "IPY_MODEL_9473d8dd18384cecab83a0e17f8c41ca",
      "value": " 320/320 [1:13:35&lt;00:00, 13.80s/it]"
     }
    },
    "0de01bc0b34e4a5fba9890d6d2919f8b": {
     "model_module": "@jupyter-widgets/base",
     "model_name": "LayoutModel",
     "state": {
      "_model_module": "@jupyter-widgets/base",
      "_model_module_version": "1.2.0",
      "_model_name": "LayoutModel",
      "_view_count": null,
      "_view_module": "@jupyter-widgets/base",
      "_view_module_version": "1.2.0",
      "_view_name": "LayoutView",
      "align_content": null,
      "align_items": null,
      "align_self": null,
      "border": null,
      "bottom": null,
      "display": null,
      "flex": null,
      "flex_flow": null,
      "grid_area": null,
      "grid_auto_columns": null,
      "grid_auto_flow": null,
      "grid_auto_rows": null,
      "grid_column": null,
      "grid_gap": null,
      "grid_row": null,
      "grid_template_areas": null,
      "grid_template_columns": null,
      "grid_template_rows": null,
      "height": null,
      "justify_content": null,
      "justify_items": null,
      "left": null,
      "margin": null,
      "max_height": null,
      "max_width": null,
      "min_height": null,
      "min_width": null,
      "object_fit": null,
      "object_position": null,
      "order": null,
      "overflow": null,
      "overflow_x": null,
      "overflow_y": null,
      "padding": null,
      "right": null,
      "top": null,
      "visibility": null,
      "width": null
     }
    },
    "0e7a53cc43e74179abd3f929a46253e8": {
     "model_module": "@jupyter-widgets/base",
     "model_name": "LayoutModel",
     "state": {
      "_model_module": "@jupyter-widgets/base",
      "_model_module_version": "1.2.0",
      "_model_name": "LayoutModel",
      "_view_count": null,
      "_view_module": "@jupyter-widgets/base",
      "_view_module_version": "1.2.0",
      "_view_name": "LayoutView",
      "align_content": null,
      "align_items": null,
      "align_self": null,
      "border": null,
      "bottom": null,
      "display": null,
      "flex": null,
      "flex_flow": null,
      "grid_area": null,
      "grid_auto_columns": null,
      "grid_auto_flow": null,
      "grid_auto_rows": null,
      "grid_column": null,
      "grid_gap": null,
      "grid_row": null,
      "grid_template_areas": null,
      "grid_template_columns": null,
      "grid_template_rows": null,
      "height": null,
      "justify_content": null,
      "justify_items": null,
      "left": null,
      "margin": null,
      "max_height": null,
      "max_width": null,
      "min_height": null,
      "min_width": null,
      "object_fit": null,
      "object_position": null,
      "order": null,
      "overflow": null,
      "overflow_x": null,
      "overflow_y": null,
      "padding": null,
      "right": null,
      "top": null,
      "visibility": null,
      "width": null
     }
    },
    "0f849692234c4569b5ea03ddb38ee532": {
     "model_module": "@jupyter-widgets/controls",
     "model_name": "HBoxModel",
     "state": {
      "_dom_classes": [],
      "_model_module": "@jupyter-widgets/controls",
      "_model_module_version": "1.5.0",
      "_model_name": "HBoxModel",
      "_view_count": null,
      "_view_module": "@jupyter-widgets/controls",
      "_view_module_version": "1.5.0",
      "_view_name": "HBoxView",
      "box_style": "",
      "children": [
       "IPY_MODEL_4a0c36d79de64d7493d9c6a78b960a5b",
       "IPY_MODEL_1cba51541fa24260bfee2091f9049ed0"
      ],
      "layout": "IPY_MODEL_55b6bf99996447588af0fc24106b0701"
     }
    },
    "0fd8aa8305a74ef49fdd11c0144f6b47": {
     "model_module": "@jupyter-widgets/controls",
     "model_name": "FloatProgressModel",
     "state": {
      "_dom_classes": [],
      "_model_module": "@jupyter-widgets/controls",
      "_model_module_version": "1.5.0",
      "_model_name": "FloatProgressModel",
      "_view_count": null,
      "_view_module": "@jupyter-widgets/controls",
      "_view_module_version": "1.5.0",
      "_view_name": "ProgressView",
      "bar_style": "success",
      "description": "100%",
      "description_tooltip": null,
      "layout": "IPY_MODEL_caea7e96fe56410999cd1e58d8d8465d",
      "max": 320,
      "min": 0,
      "orientation": "horizontal",
      "style": "IPY_MODEL_aa041896b7204eebae6a678344a20e53",
      "value": 320
     }
    },
    "121c64dce58a481896453c6488960002": {
     "model_module": "@jupyter-widgets/base",
     "model_name": "LayoutModel",
     "state": {
      "_model_module": "@jupyter-widgets/base",
      "_model_module_version": "1.2.0",
      "_model_name": "LayoutModel",
      "_view_count": null,
      "_view_module": "@jupyter-widgets/base",
      "_view_module_version": "1.2.0",
      "_view_name": "LayoutView",
      "align_content": null,
      "align_items": null,
      "align_self": null,
      "border": null,
      "bottom": null,
      "display": null,
      "flex": null,
      "flex_flow": null,
      "grid_area": null,
      "grid_auto_columns": null,
      "grid_auto_flow": null,
      "grid_auto_rows": null,
      "grid_column": null,
      "grid_gap": null,
      "grid_row": null,
      "grid_template_areas": null,
      "grid_template_columns": null,
      "grid_template_rows": null,
      "height": null,
      "justify_content": null,
      "justify_items": null,
      "left": null,
      "margin": null,
      "max_height": null,
      "max_width": null,
      "min_height": null,
      "min_width": null,
      "object_fit": null,
      "object_position": null,
      "order": null,
      "overflow": null,
      "overflow_x": null,
      "overflow_y": null,
      "padding": null,
      "right": null,
      "top": null,
      "visibility": null,
      "width": null
     }
    },
    "143b5e7f4f354310b6ed9854d38ad2a3": {
     "model_module": "@jupyter-widgets/controls",
     "model_name": "FloatProgressModel",
     "state": {
      "_dom_classes": [],
      "_model_module": "@jupyter-widgets/controls",
      "_model_module_version": "1.5.0",
      "_model_name": "FloatProgressModel",
      "_view_count": null,
      "_view_module": "@jupyter-widgets/controls",
      "_view_module_version": "1.5.0",
      "_view_name": "ProgressView",
      "bar_style": "success",
      "description": "100%",
      "description_tooltip": null,
      "layout": "IPY_MODEL_2893b9b0afa643f4bac5df4e55ce82bc",
      "max": 320,
      "min": 0,
      "orientation": "horizontal",
      "style": "IPY_MODEL_0a38d280c1644fa6a2c86857f572a814",
      "value": 320
     }
    },
    "1486565babf84069993317a1ff2430b1": {
     "model_module": "@jupyter-widgets/base",
     "model_name": "LayoutModel",
     "state": {
      "_model_module": "@jupyter-widgets/base",
      "_model_module_version": "1.2.0",
      "_model_name": "LayoutModel",
      "_view_count": null,
      "_view_module": "@jupyter-widgets/base",
      "_view_module_version": "1.2.0",
      "_view_name": "LayoutView",
      "align_content": null,
      "align_items": null,
      "align_self": null,
      "border": null,
      "bottom": null,
      "display": null,
      "flex": null,
      "flex_flow": null,
      "grid_area": null,
      "grid_auto_columns": null,
      "grid_auto_flow": null,
      "grid_auto_rows": null,
      "grid_column": null,
      "grid_gap": null,
      "grid_row": null,
      "grid_template_areas": null,
      "grid_template_columns": null,
      "grid_template_rows": null,
      "height": null,
      "justify_content": null,
      "justify_items": null,
      "left": null,
      "margin": null,
      "max_height": null,
      "max_width": null,
      "min_height": null,
      "min_width": null,
      "object_fit": null,
      "object_position": null,
      "order": null,
      "overflow": null,
      "overflow_x": null,
      "overflow_y": null,
      "padding": null,
      "right": null,
      "top": null,
      "visibility": null,
      "width": null
     }
    },
    "14c51ff2908e4b27ae54d89c366ce619": {
     "model_module": "@jupyter-widgets/base",
     "model_name": "LayoutModel",
     "state": {
      "_model_module": "@jupyter-widgets/base",
      "_model_module_version": "1.2.0",
      "_model_name": "LayoutModel",
      "_view_count": null,
      "_view_module": "@jupyter-widgets/base",
      "_view_module_version": "1.2.0",
      "_view_name": "LayoutView",
      "align_content": null,
      "align_items": null,
      "align_self": null,
      "border": null,
      "bottom": null,
      "display": null,
      "flex": null,
      "flex_flow": null,
      "grid_area": null,
      "grid_auto_columns": null,
      "grid_auto_flow": null,
      "grid_auto_rows": null,
      "grid_column": null,
      "grid_gap": null,
      "grid_row": null,
      "grid_template_areas": null,
      "grid_template_columns": null,
      "grid_template_rows": null,
      "height": null,
      "justify_content": null,
      "justify_items": null,
      "left": null,
      "margin": null,
      "max_height": null,
      "max_width": null,
      "min_height": null,
      "min_width": null,
      "object_fit": null,
      "object_position": null,
      "order": null,
      "overflow": null,
      "overflow_x": null,
      "overflow_y": null,
      "padding": null,
      "right": null,
      "top": null,
      "visibility": null,
      "width": null
     }
    },
    "175b96721b674f6a964c0e569b3869b6": {
     "model_module": "@jupyter-widgets/controls",
     "model_name": "FloatProgressModel",
     "state": {
      "_dom_classes": [],
      "_model_module": "@jupyter-widgets/controls",
      "_model_module_version": "1.5.0",
      "_model_name": "FloatProgressModel",
      "_view_count": null,
      "_view_module": "@jupyter-widgets/controls",
      "_view_module_version": "1.5.0",
      "_view_name": "ProgressView",
      "bar_style": "success",
      "description": "100%",
      "description_tooltip": null,
      "layout": "IPY_MODEL_f3c565e0bbd7482c97cec4d8605af69c",
      "max": 320,
      "min": 0,
      "orientation": "horizontal",
      "style": "IPY_MODEL_1ec0a50f8ac54d9a971e6b2bce0530e3",
      "value": 320
     }
    },
    "17bff9643dec45198296918a89a3f4c9": {
     "model_module": "@jupyter-widgets/base",
     "model_name": "LayoutModel",
     "state": {
      "_model_module": "@jupyter-widgets/base",
      "_model_module_version": "1.2.0",
      "_model_name": "LayoutModel",
      "_view_count": null,
      "_view_module": "@jupyter-widgets/base",
      "_view_module_version": "1.2.0",
      "_view_name": "LayoutView",
      "align_content": null,
      "align_items": null,
      "align_self": null,
      "border": null,
      "bottom": null,
      "display": null,
      "flex": null,
      "flex_flow": null,
      "grid_area": null,
      "grid_auto_columns": null,
      "grid_auto_flow": null,
      "grid_auto_rows": null,
      "grid_column": null,
      "grid_gap": null,
      "grid_row": null,
      "grid_template_areas": null,
      "grid_template_columns": null,
      "grid_template_rows": null,
      "height": null,
      "justify_content": null,
      "justify_items": null,
      "left": null,
      "margin": null,
      "max_height": null,
      "max_width": null,
      "min_height": null,
      "min_width": null,
      "object_fit": null,
      "object_position": null,
      "order": null,
      "overflow": null,
      "overflow_x": null,
      "overflow_y": null,
      "padding": null,
      "right": null,
      "top": null,
      "visibility": null,
      "width": null
     }
    },
    "19d1bcc2fbe2464ba63395818818a717": {
     "model_module": "@jupyter-widgets/base",
     "model_name": "LayoutModel",
     "state": {
      "_model_module": "@jupyter-widgets/base",
      "_model_module_version": "1.2.0",
      "_model_name": "LayoutModel",
      "_view_count": null,
      "_view_module": "@jupyter-widgets/base",
      "_view_module_version": "1.2.0",
      "_view_name": "LayoutView",
      "align_content": null,
      "align_items": null,
      "align_self": null,
      "border": null,
      "bottom": null,
      "display": null,
      "flex": null,
      "flex_flow": null,
      "grid_area": null,
      "grid_auto_columns": null,
      "grid_auto_flow": null,
      "grid_auto_rows": null,
      "grid_column": null,
      "grid_gap": null,
      "grid_row": null,
      "grid_template_areas": null,
      "grid_template_columns": null,
      "grid_template_rows": null,
      "height": null,
      "justify_content": null,
      "justify_items": null,
      "left": null,
      "margin": null,
      "max_height": null,
      "max_width": null,
      "min_height": null,
      "min_width": null,
      "object_fit": null,
      "object_position": null,
      "order": null,
      "overflow": null,
      "overflow_x": null,
      "overflow_y": null,
      "padding": null,
      "right": null,
      "top": null,
      "visibility": null,
      "width": null
     }
    },
    "1b1f8e1261f747188b741212deb13b92": {
     "model_module": "@jupyter-widgets/controls",
     "model_name": "HTMLModel",
     "state": {
      "_dom_classes": [],
      "_model_module": "@jupyter-widgets/controls",
      "_model_module_version": "1.5.0",
      "_model_name": "HTMLModel",
      "_view_count": null,
      "_view_module": "@jupyter-widgets/controls",
      "_view_module_version": "1.5.0",
      "_view_name": "HTMLView",
      "description": "",
      "description_tooltip": null,
      "layout": "IPY_MODEL_00c49c5e1832466996608537c19730c4",
      "placeholder": "​",
      "style": "IPY_MODEL_a8f86792e4b749d18d982a2e6e0e828c",
      "value": " 320/320 [39:38&lt;00:00,  7.43s/it]"
     }
    },
    "1cb71564c4904b20873d0e63b0e08edb": {
     "model_module": "@jupyter-widgets/controls",
     "model_name": "HBoxModel",
     "state": {
      "_dom_classes": [],
      "_model_module": "@jupyter-widgets/controls",
      "_model_module_version": "1.5.0",
      "_model_name": "HBoxModel",
      "_view_count": null,
      "_view_module": "@jupyter-widgets/controls",
      "_view_module_version": "1.5.0",
      "_view_name": "HBoxView",
      "box_style": "",
      "children": [
       "IPY_MODEL_0fd8aa8305a74ef49fdd11c0144f6b47",
       "IPY_MODEL_fa6b9aa1e01d4203b1275ad2285329ea"
      ],
      "layout": "IPY_MODEL_c4288ee3ac5a419d9502dae2724cbcd4"
     }
    },
    "1cba51541fa24260bfee2091f9049ed0": {
     "model_module": "@jupyter-widgets/controls",
     "model_name": "HTMLModel",
     "state": {
      "_dom_classes": [],
      "_model_module": "@jupyter-widgets/controls",
      "_model_module_version": "1.5.0",
      "_model_name": "HTMLModel",
      "_view_count": null,
      "_view_module": "@jupyter-widgets/controls",
      "_view_module_version": "1.5.0",
      "_view_name": "HTMLView",
      "description": "",
      "description_tooltip": null,
      "layout": "IPY_MODEL_d8f0b4f553d644d5984eed99f3e810a4",
      "placeholder": "​",
      "style": "IPY_MODEL_c82d375693b943d99eca410eb1b2b3c5",
      "value": " 320/320 [1:47:40&lt;00:00, 20.19s/it]"
     }
    },
    "1ec0a50f8ac54d9a971e6b2bce0530e3": {
     "model_module": "@jupyter-widgets/controls",
     "model_name": "ProgressStyleModel",
     "state": {
      "_model_module": "@jupyter-widgets/controls",
      "_model_module_version": "1.5.0",
      "_model_name": "ProgressStyleModel",
      "_view_count": null,
      "_view_module": "@jupyter-widgets/base",
      "_view_module_version": "1.2.0",
      "_view_name": "StyleView",
      "bar_color": null,
      "description_width": "initial"
     }
    },
    "209862d8c75648dfa2b784a9ae6e057d": {
     "model_module": "@jupyter-widgets/controls",
     "model_name": "DescriptionStyleModel",
     "state": {
      "_model_module": "@jupyter-widgets/controls",
      "_model_module_version": "1.5.0",
      "_model_name": "DescriptionStyleModel",
      "_view_count": null,
      "_view_module": "@jupyter-widgets/base",
      "_view_module_version": "1.2.0",
      "_view_name": "StyleView",
      "description_width": ""
     }
    },
    "22ebf897df9a4d7093b8679a734ed3fd": {
     "model_module": "@jupyter-widgets/controls",
     "model_name": "DescriptionStyleModel",
     "state": {
      "_model_module": "@jupyter-widgets/controls",
      "_model_module_version": "1.5.0",
      "_model_name": "DescriptionStyleModel",
      "_view_count": null,
      "_view_module": "@jupyter-widgets/base",
      "_view_module_version": "1.2.0",
      "_view_name": "StyleView",
      "description_width": ""
     }
    },
    "2486647da43a4155b937d5f47e3b0114": {
     "model_module": "@jupyter-widgets/controls",
     "model_name": "HTMLModel",
     "state": {
      "_dom_classes": [],
      "_model_module": "@jupyter-widgets/controls",
      "_model_module_version": "1.5.0",
      "_model_name": "HTMLModel",
      "_view_count": null,
      "_view_module": "@jupyter-widgets/controls",
      "_view_module_version": "1.5.0",
      "_view_name": "HTMLView",
      "description": "",
      "description_tooltip": null,
      "layout": "IPY_MODEL_14c51ff2908e4b27ae54d89c366ce619",
      "placeholder": "​",
      "style": "IPY_MODEL_d9e135d5bfd1499caecb1a826dac9964",
      "value": " 320/320 [11:20&lt;00:00,  2.13s/it]"
     }
    },
    "251a4cebc9294ff9a65c91f8a09c255e": {
     "model_module": "@jupyter-widgets/controls",
     "model_name": "FloatProgressModel",
     "state": {
      "_dom_classes": [],
      "_model_module": "@jupyter-widgets/controls",
      "_model_module_version": "1.5.0",
      "_model_name": "FloatProgressModel",
      "_view_count": null,
      "_view_module": "@jupyter-widgets/controls",
      "_view_module_version": "1.5.0",
      "_view_name": "ProgressView",
      "bar_style": "success",
      "description": "100%",
      "description_tooltip": null,
      "layout": "IPY_MODEL_a06ed1e0cf0e4c99bd729447779af30b",
      "max": 320,
      "min": 0,
      "orientation": "horizontal",
      "style": "IPY_MODEL_b5dff37f022441fa813cc60c28fc5182",
      "value": 320
     }
    },
    "2893b9b0afa643f4bac5df4e55ce82bc": {
     "model_module": "@jupyter-widgets/base",
     "model_name": "LayoutModel",
     "state": {
      "_model_module": "@jupyter-widgets/base",
      "_model_module_version": "1.2.0",
      "_model_name": "LayoutModel",
      "_view_count": null,
      "_view_module": "@jupyter-widgets/base",
      "_view_module_version": "1.2.0",
      "_view_name": "LayoutView",
      "align_content": null,
      "align_items": null,
      "align_self": null,
      "border": null,
      "bottom": null,
      "display": null,
      "flex": null,
      "flex_flow": null,
      "grid_area": null,
      "grid_auto_columns": null,
      "grid_auto_flow": null,
      "grid_auto_rows": null,
      "grid_column": null,
      "grid_gap": null,
      "grid_row": null,
      "grid_template_areas": null,
      "grid_template_columns": null,
      "grid_template_rows": null,
      "height": null,
      "justify_content": null,
      "justify_items": null,
      "left": null,
      "margin": null,
      "max_height": null,
      "max_width": null,
      "min_height": null,
      "min_width": null,
      "object_fit": null,
      "object_position": null,
      "order": null,
      "overflow": null,
      "overflow_x": null,
      "overflow_y": null,
      "padding": null,
      "right": null,
      "top": null,
      "visibility": null,
      "width": null
     }
    },
    "28f6a9b3b15840a68017c4163d800e53": {
     "model_module": "@jupyter-widgets/controls",
     "model_name": "HTMLModel",
     "state": {
      "_dom_classes": [],
      "_model_module": "@jupyter-widgets/controls",
      "_model_module_version": "1.5.0",
      "_model_name": "HTMLModel",
      "_view_count": null,
      "_view_module": "@jupyter-widgets/controls",
      "_view_module_version": "1.5.0",
      "_view_name": "HTMLView",
      "description": "",
      "description_tooltip": null,
      "layout": "IPY_MODEL_5de7ffbd123742049d1d46948a562419",
      "placeholder": "​",
      "style": "IPY_MODEL_fbf25959181e4865b7d997600649f976",
      "value": " 320/320 [22:40&lt;00:00,  4.25s/it]"
     }
    },
    "29d68a8c105c43fb95e465f3396cbd2e": {
     "model_module": "@jupyter-widgets/base",
     "model_name": "LayoutModel",
     "state": {
      "_model_module": "@jupyter-widgets/base",
      "_model_module_version": "1.2.0",
      "_model_name": "LayoutModel",
      "_view_count": null,
      "_view_module": "@jupyter-widgets/base",
      "_view_module_version": "1.2.0",
      "_view_name": "LayoutView",
      "align_content": null,
      "align_items": null,
      "align_self": null,
      "border": null,
      "bottom": null,
      "display": null,
      "flex": null,
      "flex_flow": null,
      "grid_area": null,
      "grid_auto_columns": null,
      "grid_auto_flow": null,
      "grid_auto_rows": null,
      "grid_column": null,
      "grid_gap": null,
      "grid_row": null,
      "grid_template_areas": null,
      "grid_template_columns": null,
      "grid_template_rows": null,
      "height": null,
      "justify_content": null,
      "justify_items": null,
      "left": null,
      "margin": null,
      "max_height": null,
      "max_width": null,
      "min_height": null,
      "min_width": null,
      "object_fit": null,
      "object_position": null,
      "order": null,
      "overflow": null,
      "overflow_x": null,
      "overflow_y": null,
      "padding": null,
      "right": null,
      "top": null,
      "visibility": null,
      "width": null
     }
    },
    "2c7b7a6981c24188b344804e802b15d0": {
     "model_module": "@jupyter-widgets/controls",
     "model_name": "DescriptionStyleModel",
     "state": {
      "_model_module": "@jupyter-widgets/controls",
      "_model_module_version": "1.5.0",
      "_model_name": "DescriptionStyleModel",
      "_view_count": null,
      "_view_module": "@jupyter-widgets/base",
      "_view_module_version": "1.2.0",
      "_view_name": "StyleView",
      "description_width": ""
     }
    },
    "2c8f52fea5c54e9798e1b2beba2237e4": {
     "model_module": "@jupyter-widgets/base",
     "model_name": "LayoutModel",
     "state": {
      "_model_module": "@jupyter-widgets/base",
      "_model_module_version": "1.2.0",
      "_model_name": "LayoutModel",
      "_view_count": null,
      "_view_module": "@jupyter-widgets/base",
      "_view_module_version": "1.2.0",
      "_view_name": "LayoutView",
      "align_content": null,
      "align_items": null,
      "align_self": null,
      "border": null,
      "bottom": null,
      "display": null,
      "flex": null,
      "flex_flow": null,
      "grid_area": null,
      "grid_auto_columns": null,
      "grid_auto_flow": null,
      "grid_auto_rows": null,
      "grid_column": null,
      "grid_gap": null,
      "grid_row": null,
      "grid_template_areas": null,
      "grid_template_columns": null,
      "grid_template_rows": null,
      "height": null,
      "justify_content": null,
      "justify_items": null,
      "left": null,
      "margin": null,
      "max_height": null,
      "max_width": null,
      "min_height": null,
      "min_width": null,
      "object_fit": null,
      "object_position": null,
      "order": null,
      "overflow": null,
      "overflow_x": null,
      "overflow_y": null,
      "padding": null,
      "right": null,
      "top": null,
      "visibility": null,
      "width": null
     }
    },
    "2ef79ce72e3f4834a640512d329ea0b2": {
     "model_module": "@jupyter-widgets/controls",
     "model_name": "DescriptionStyleModel",
     "state": {
      "_model_module": "@jupyter-widgets/controls",
      "_model_module_version": "1.5.0",
      "_model_name": "DescriptionStyleModel",
      "_view_count": null,
      "_view_module": "@jupyter-widgets/base",
      "_view_module_version": "1.2.0",
      "_view_name": "StyleView",
      "description_width": ""
     }
    },
    "30ed6ae53f3c4ef1b8782c3f698c3241": {
     "model_module": "@jupyter-widgets/controls",
     "model_name": "HBoxModel",
     "state": {
      "_dom_classes": [],
      "_model_module": "@jupyter-widgets/controls",
      "_model_module_version": "1.5.0",
      "_model_name": "HBoxModel",
      "_view_count": null,
      "_view_module": "@jupyter-widgets/controls",
      "_view_module_version": "1.5.0",
      "_view_name": "HBoxView",
      "box_style": "",
      "children": [
       "IPY_MODEL_3b57d533125749ea978096b8acb92e9d",
       "IPY_MODEL_0b7c7e652dba43738c652553e4056793"
      ],
      "layout": "IPY_MODEL_009ca000db6748008483bc28efb14baa"
     }
    },
    "315c7caaba1342ce8ca2ea6a27a8ead2": {
     "model_module": "@jupyter-widgets/controls",
     "model_name": "FloatProgressModel",
     "state": {
      "_dom_classes": [],
      "_model_module": "@jupyter-widgets/controls",
      "_model_module_version": "1.5.0",
      "_model_name": "FloatProgressModel",
      "_view_count": null,
      "_view_module": "@jupyter-widgets/controls",
      "_view_module_version": "1.5.0",
      "_view_name": "ProgressView",
      "bar_style": "success",
      "description": "100%",
      "description_tooltip": null,
      "layout": "IPY_MODEL_1486565babf84069993317a1ff2430b1",
      "max": 320,
      "min": 0,
      "orientation": "horizontal",
      "style": "IPY_MODEL_4b6d29eff9634409809c90069b9138ee",
      "value": 320
     }
    },
    "32bef10d74104df2a2b1aebc44610282": {
     "model_module": "@jupyter-widgets/controls",
     "model_name": "FloatProgressModel",
     "state": {
      "_dom_classes": [],
      "_model_module": "@jupyter-widgets/controls",
      "_model_module_version": "1.5.0",
      "_model_name": "FloatProgressModel",
      "_view_count": null,
      "_view_module": "@jupyter-widgets/controls",
      "_view_module_version": "1.5.0",
      "_view_name": "ProgressView",
      "bar_style": "success",
      "description": "100%",
      "description_tooltip": null,
      "layout": "IPY_MODEL_ea5f516c762e415f858f2775b8002f7d",
      "max": 320,
      "min": 0,
      "orientation": "horizontal",
      "style": "IPY_MODEL_360cc53231fa4af59a0c8bb0edc18d41",
      "value": 320
     }
    },
    "360cc53231fa4af59a0c8bb0edc18d41": {
     "model_module": "@jupyter-widgets/controls",
     "model_name": "ProgressStyleModel",
     "state": {
      "_model_module": "@jupyter-widgets/controls",
      "_model_module_version": "1.5.0",
      "_model_name": "ProgressStyleModel",
      "_view_count": null,
      "_view_module": "@jupyter-widgets/base",
      "_view_module_version": "1.2.0",
      "_view_name": "StyleView",
      "bar_color": null,
      "description_width": "initial"
     }
    },
    "38128cc4bf3b431ba68e7b638c070512": {
     "model_module": "@jupyter-widgets/controls",
     "model_name": "ProgressStyleModel",
     "state": {
      "_model_module": "@jupyter-widgets/controls",
      "_model_module_version": "1.5.0",
      "_model_name": "ProgressStyleModel",
      "_view_count": null,
      "_view_module": "@jupyter-widgets/base",
      "_view_module_version": "1.2.0",
      "_view_name": "StyleView",
      "bar_color": null,
      "description_width": "initial"
     }
    },
    "3a73dd08d43a46898336488269785b7d": {
     "model_module": "@jupyter-widgets/base",
     "model_name": "LayoutModel",
     "state": {
      "_model_module": "@jupyter-widgets/base",
      "_model_module_version": "1.2.0",
      "_model_name": "LayoutModel",
      "_view_count": null,
      "_view_module": "@jupyter-widgets/base",
      "_view_module_version": "1.2.0",
      "_view_name": "LayoutView",
      "align_content": null,
      "align_items": null,
      "align_self": null,
      "border": null,
      "bottom": null,
      "display": null,
      "flex": null,
      "flex_flow": null,
      "grid_area": null,
      "grid_auto_columns": null,
      "grid_auto_flow": null,
      "grid_auto_rows": null,
      "grid_column": null,
      "grid_gap": null,
      "grid_row": null,
      "grid_template_areas": null,
      "grid_template_columns": null,
      "grid_template_rows": null,
      "height": null,
      "justify_content": null,
      "justify_items": null,
      "left": null,
      "margin": null,
      "max_height": null,
      "max_width": null,
      "min_height": null,
      "min_width": null,
      "object_fit": null,
      "object_position": null,
      "order": null,
      "overflow": null,
      "overflow_x": null,
      "overflow_y": null,
      "padding": null,
      "right": null,
      "top": null,
      "visibility": null,
      "width": null
     }
    },
    "3b57d533125749ea978096b8acb92e9d": {
     "model_module": "@jupyter-widgets/controls",
     "model_name": "FloatProgressModel",
     "state": {
      "_dom_classes": [],
      "_model_module": "@jupyter-widgets/controls",
      "_model_module_version": "1.5.0",
      "_model_name": "FloatProgressModel",
      "_view_count": null,
      "_view_module": "@jupyter-widgets/controls",
      "_view_module_version": "1.5.0",
      "_view_name": "ProgressView",
      "bar_style": "success",
      "description": "100%",
      "description_tooltip": null,
      "layout": "IPY_MODEL_55e3769cfd4840a58164c26ae46097d1",
      "max": 320,
      "min": 0,
      "orientation": "horizontal",
      "style": "IPY_MODEL_8a38ade187b64f889726e677f9e6bf9a",
      "value": 320
     }
    },
    "3dac6d528c6644499997859034f6c57f": {
     "model_module": "@jupyter-widgets/controls",
     "model_name": "HBoxModel",
     "state": {
      "_dom_classes": [],
      "_model_module": "@jupyter-widgets/controls",
      "_model_module_version": "1.5.0",
      "_model_name": "HBoxModel",
      "_view_count": null,
      "_view_module": "@jupyter-widgets/controls",
      "_view_module_version": "1.5.0",
      "_view_name": "HBoxView",
      "box_style": "",
      "children": [
       "IPY_MODEL_175b96721b674f6a964c0e569b3869b6",
       "IPY_MODEL_c32233fbf5f94510a617c9eb237dbb5a"
      ],
      "layout": "IPY_MODEL_46398fef6c5d4679ad43f906bdee1607"
     }
    },
    "3e6c951c16214922864ff306d9324d7b": {
     "model_module": "@jupyter-widgets/controls",
     "model_name": "ProgressStyleModel",
     "state": {
      "_model_module": "@jupyter-widgets/controls",
      "_model_module_version": "1.5.0",
      "_model_name": "ProgressStyleModel",
      "_view_count": null,
      "_view_module": "@jupyter-widgets/base",
      "_view_module_version": "1.2.0",
      "_view_name": "StyleView",
      "bar_color": null,
      "description_width": "initial"
     }
    },
    "3f40b9459d2e42918282f6e3dbbe0485": {
     "model_module": "@jupyter-widgets/controls",
     "model_name": "FloatProgressModel",
     "state": {
      "_dom_classes": [],
      "_model_module": "@jupyter-widgets/controls",
      "_model_module_version": "1.5.0",
      "_model_name": "FloatProgressModel",
      "_view_count": null,
      "_view_module": "@jupyter-widgets/controls",
      "_view_module_version": "1.5.0",
      "_view_name": "ProgressView",
      "bar_style": "success",
      "description": "100%",
      "description_tooltip": null,
      "layout": "IPY_MODEL_a78ae2653c8143c99e2d3505f0618cc6",
      "max": 320,
      "min": 0,
      "orientation": "horizontal",
      "style": "IPY_MODEL_645eacc63d954d29a72f676a580988d7",
      "value": 320
     }
    },
    "41ad0205a5124f3d92d6b12f016adbac": {
     "model_module": "@jupyter-widgets/controls",
     "model_name": "DescriptionStyleModel",
     "state": {
      "_model_module": "@jupyter-widgets/controls",
      "_model_module_version": "1.5.0",
      "_model_name": "DescriptionStyleModel",
      "_view_count": null,
      "_view_module": "@jupyter-widgets/base",
      "_view_module_version": "1.2.0",
      "_view_name": "StyleView",
      "description_width": ""
     }
    },
    "45de4712717f46f9912aa776b157ceef": {
     "model_module": "@jupyter-widgets/controls",
     "model_name": "HTMLModel",
     "state": {
      "_dom_classes": [],
      "_model_module": "@jupyter-widgets/controls",
      "_model_module_version": "1.5.0",
      "_model_name": "HTMLModel",
      "_view_count": null,
      "_view_module": "@jupyter-widgets/controls",
      "_view_module_version": "1.5.0",
      "_view_name": "HTMLView",
      "description": "",
      "description_tooltip": null,
      "layout": "IPY_MODEL_e7b7382b74a04a9da987be7714b75830",
      "placeholder": "​",
      "style": "IPY_MODEL_0688b8e18c214828b9023b0e3c661003",
      "value": " 320/320 [1:19:16&lt;00:00, 14.86s/it]"
     }
    },
    "46398fef6c5d4679ad43f906bdee1607": {
     "model_module": "@jupyter-widgets/base",
     "model_name": "LayoutModel",
     "state": {
      "_model_module": "@jupyter-widgets/base",
      "_model_module_version": "1.2.0",
      "_model_name": "LayoutModel",
      "_view_count": null,
      "_view_module": "@jupyter-widgets/base",
      "_view_module_version": "1.2.0",
      "_view_name": "LayoutView",
      "align_content": null,
      "align_items": null,
      "align_self": null,
      "border": null,
      "bottom": null,
      "display": null,
      "flex": null,
      "flex_flow": null,
      "grid_area": null,
      "grid_auto_columns": null,
      "grid_auto_flow": null,
      "grid_auto_rows": null,
      "grid_column": null,
      "grid_gap": null,
      "grid_row": null,
      "grid_template_areas": null,
      "grid_template_columns": null,
      "grid_template_rows": null,
      "height": null,
      "justify_content": null,
      "justify_items": null,
      "left": null,
      "margin": null,
      "max_height": null,
      "max_width": null,
      "min_height": null,
      "min_width": null,
      "object_fit": null,
      "object_position": null,
      "order": null,
      "overflow": null,
      "overflow_x": null,
      "overflow_y": null,
      "padding": null,
      "right": null,
      "top": null,
      "visibility": null,
      "width": null
     }
    },
    "4a0c36d79de64d7493d9c6a78b960a5b": {
     "model_module": "@jupyter-widgets/controls",
     "model_name": "FloatProgressModel",
     "state": {
      "_dom_classes": [],
      "_model_module": "@jupyter-widgets/controls",
      "_model_module_version": "1.5.0",
      "_model_name": "FloatProgressModel",
      "_view_count": null,
      "_view_module": "@jupyter-widgets/controls",
      "_view_module_version": "1.5.0",
      "_view_name": "ProgressView",
      "bar_style": "success",
      "description": "100%",
      "description_tooltip": null,
      "layout": "IPY_MODEL_c0c9efef75144343a05299de8b3759f8",
      "max": 320,
      "min": 0,
      "orientation": "horizontal",
      "style": "IPY_MODEL_0ad6f2e3d1254841bb45c9f654c47504",
      "value": 320
     }
    },
    "4b6d29eff9634409809c90069b9138ee": {
     "model_module": "@jupyter-widgets/controls",
     "model_name": "ProgressStyleModel",
     "state": {
      "_model_module": "@jupyter-widgets/controls",
      "_model_module_version": "1.5.0",
      "_model_name": "ProgressStyleModel",
      "_view_count": null,
      "_view_module": "@jupyter-widgets/base",
      "_view_module_version": "1.2.0",
      "_view_name": "StyleView",
      "bar_color": null,
      "description_width": "initial"
     }
    },
    "4f2733fca17f4ae4a99bb1cc0bdfb4f6": {
     "model_module": "@jupyter-widgets/controls",
     "model_name": "HBoxModel",
     "state": {
      "_dom_classes": [],
      "_model_module": "@jupyter-widgets/controls",
      "_model_module_version": "1.5.0",
      "_model_name": "HBoxModel",
      "_view_count": null,
      "_view_module": "@jupyter-widgets/controls",
      "_view_module_version": "1.5.0",
      "_view_name": "HBoxView",
      "box_style": "",
      "children": [
       "IPY_MODEL_b91cbcfd4bfe475493cb955f4f396fa3",
       "IPY_MODEL_c29bb2b9255c47d79d5c6db97f5b3cde"
      ],
      "layout": "IPY_MODEL_a23d6004b88f43f0abf931a2e477294d"
     }
    },
    "52aaa6ee7116471ca083604ba59f52c6": {
     "model_module": "@jupyter-widgets/base",
     "model_name": "LayoutModel",
     "state": {
      "_model_module": "@jupyter-widgets/base",
      "_model_module_version": "1.2.0",
      "_model_name": "LayoutModel",
      "_view_count": null,
      "_view_module": "@jupyter-widgets/base",
      "_view_module_version": "1.2.0",
      "_view_name": "LayoutView",
      "align_content": null,
      "align_items": null,
      "align_self": null,
      "border": null,
      "bottom": null,
      "display": null,
      "flex": null,
      "flex_flow": null,
      "grid_area": null,
      "grid_auto_columns": null,
      "grid_auto_flow": null,
      "grid_auto_rows": null,
      "grid_column": null,
      "grid_gap": null,
      "grid_row": null,
      "grid_template_areas": null,
      "grid_template_columns": null,
      "grid_template_rows": null,
      "height": null,
      "justify_content": null,
      "justify_items": null,
      "left": null,
      "margin": null,
      "max_height": null,
      "max_width": null,
      "min_height": null,
      "min_width": null,
      "object_fit": null,
      "object_position": null,
      "order": null,
      "overflow": null,
      "overflow_x": null,
      "overflow_y": null,
      "padding": null,
      "right": null,
      "top": null,
      "visibility": null,
      "width": null
     }
    },
    "545dbc6e51254fb893d0f13efc2bb040": {
     "model_module": "@jupyter-widgets/base",
     "model_name": "LayoutModel",
     "state": {
      "_model_module": "@jupyter-widgets/base",
      "_model_module_version": "1.2.0",
      "_model_name": "LayoutModel",
      "_view_count": null,
      "_view_module": "@jupyter-widgets/base",
      "_view_module_version": "1.2.0",
      "_view_name": "LayoutView",
      "align_content": null,
      "align_items": null,
      "align_self": null,
      "border": null,
      "bottom": null,
      "display": null,
      "flex": null,
      "flex_flow": null,
      "grid_area": null,
      "grid_auto_columns": null,
      "grid_auto_flow": null,
      "grid_auto_rows": null,
      "grid_column": null,
      "grid_gap": null,
      "grid_row": null,
      "grid_template_areas": null,
      "grid_template_columns": null,
      "grid_template_rows": null,
      "height": null,
      "justify_content": null,
      "justify_items": null,
      "left": null,
      "margin": null,
      "max_height": null,
      "max_width": null,
      "min_height": null,
      "min_width": null,
      "object_fit": null,
      "object_position": null,
      "order": null,
      "overflow": null,
      "overflow_x": null,
      "overflow_y": null,
      "padding": null,
      "right": null,
      "top": null,
      "visibility": null,
      "width": null
     }
    },
    "55b6bf99996447588af0fc24106b0701": {
     "model_module": "@jupyter-widgets/base",
     "model_name": "LayoutModel",
     "state": {
      "_model_module": "@jupyter-widgets/base",
      "_model_module_version": "1.2.0",
      "_model_name": "LayoutModel",
      "_view_count": null,
      "_view_module": "@jupyter-widgets/base",
      "_view_module_version": "1.2.0",
      "_view_name": "LayoutView",
      "align_content": null,
      "align_items": null,
      "align_self": null,
      "border": null,
      "bottom": null,
      "display": null,
      "flex": null,
      "flex_flow": null,
      "grid_area": null,
      "grid_auto_columns": null,
      "grid_auto_flow": null,
      "grid_auto_rows": null,
      "grid_column": null,
      "grid_gap": null,
      "grid_row": null,
      "grid_template_areas": null,
      "grid_template_columns": null,
      "grid_template_rows": null,
      "height": null,
      "justify_content": null,
      "justify_items": null,
      "left": null,
      "margin": null,
      "max_height": null,
      "max_width": null,
      "min_height": null,
      "min_width": null,
      "object_fit": null,
      "object_position": null,
      "order": null,
      "overflow": null,
      "overflow_x": null,
      "overflow_y": null,
      "padding": null,
      "right": null,
      "top": null,
      "visibility": null,
      "width": null
     }
    },
    "55e3769cfd4840a58164c26ae46097d1": {
     "model_module": "@jupyter-widgets/base",
     "model_name": "LayoutModel",
     "state": {
      "_model_module": "@jupyter-widgets/base",
      "_model_module_version": "1.2.0",
      "_model_name": "LayoutModel",
      "_view_count": null,
      "_view_module": "@jupyter-widgets/base",
      "_view_module_version": "1.2.0",
      "_view_name": "LayoutView",
      "align_content": null,
      "align_items": null,
      "align_self": null,
      "border": null,
      "bottom": null,
      "display": null,
      "flex": null,
      "flex_flow": null,
      "grid_area": null,
      "grid_auto_columns": null,
      "grid_auto_flow": null,
      "grid_auto_rows": null,
      "grid_column": null,
      "grid_gap": null,
      "grid_row": null,
      "grid_template_areas": null,
      "grid_template_columns": null,
      "grid_template_rows": null,
      "height": null,
      "justify_content": null,
      "justify_items": null,
      "left": null,
      "margin": null,
      "max_height": null,
      "max_width": null,
      "min_height": null,
      "min_width": null,
      "object_fit": null,
      "object_position": null,
      "order": null,
      "overflow": null,
      "overflow_x": null,
      "overflow_y": null,
      "padding": null,
      "right": null,
      "top": null,
      "visibility": null,
      "width": null
     }
    },
    "56849021bbe44b87822464415a26bfb4": {
     "model_module": "@jupyter-widgets/controls",
     "model_name": "FloatProgressModel",
     "state": {
      "_dom_classes": [],
      "_model_module": "@jupyter-widgets/controls",
      "_model_module_version": "1.5.0",
      "_model_name": "FloatProgressModel",
      "_view_count": null,
      "_view_module": "@jupyter-widgets/controls",
      "_view_module_version": "1.5.0",
      "_view_name": "ProgressView",
      "bar_style": "success",
      "description": "100%",
      "description_tooltip": null,
      "layout": "IPY_MODEL_bb433c80343243069b7b794e8d4fa440",
      "max": 320,
      "min": 0,
      "orientation": "horizontal",
      "style": "IPY_MODEL_dbdc28045c524622b433deb4407ae10e",
      "value": 320
     }
    },
    "5d2ae9983b5744b0af817b5296a29b8b": {
     "model_module": "@jupyter-widgets/base",
     "model_name": "LayoutModel",
     "state": {
      "_model_module": "@jupyter-widgets/base",
      "_model_module_version": "1.2.0",
      "_model_name": "LayoutModel",
      "_view_count": null,
      "_view_module": "@jupyter-widgets/base",
      "_view_module_version": "1.2.0",
      "_view_name": "LayoutView",
      "align_content": null,
      "align_items": null,
      "align_self": null,
      "border": null,
      "bottom": null,
      "display": null,
      "flex": null,
      "flex_flow": null,
      "grid_area": null,
      "grid_auto_columns": null,
      "grid_auto_flow": null,
      "grid_auto_rows": null,
      "grid_column": null,
      "grid_gap": null,
      "grid_row": null,
      "grid_template_areas": null,
      "grid_template_columns": null,
      "grid_template_rows": null,
      "height": null,
      "justify_content": null,
      "justify_items": null,
      "left": null,
      "margin": null,
      "max_height": null,
      "max_width": null,
      "min_height": null,
      "min_width": null,
      "object_fit": null,
      "object_position": null,
      "order": null,
      "overflow": null,
      "overflow_x": null,
      "overflow_y": null,
      "padding": null,
      "right": null,
      "top": null,
      "visibility": null,
      "width": null
     }
    },
    "5de7ffbd123742049d1d46948a562419": {
     "model_module": "@jupyter-widgets/base",
     "model_name": "LayoutModel",
     "state": {
      "_model_module": "@jupyter-widgets/base",
      "_model_module_version": "1.2.0",
      "_model_name": "LayoutModel",
      "_view_count": null,
      "_view_module": "@jupyter-widgets/base",
      "_view_module_version": "1.2.0",
      "_view_name": "LayoutView",
      "align_content": null,
      "align_items": null,
      "align_self": null,
      "border": null,
      "bottom": null,
      "display": null,
      "flex": null,
      "flex_flow": null,
      "grid_area": null,
      "grid_auto_columns": null,
      "grid_auto_flow": null,
      "grid_auto_rows": null,
      "grid_column": null,
      "grid_gap": null,
      "grid_row": null,
      "grid_template_areas": null,
      "grid_template_columns": null,
      "grid_template_rows": null,
      "height": null,
      "justify_content": null,
      "justify_items": null,
      "left": null,
      "margin": null,
      "max_height": null,
      "max_width": null,
      "min_height": null,
      "min_width": null,
      "object_fit": null,
      "object_position": null,
      "order": null,
      "overflow": null,
      "overflow_x": null,
      "overflow_y": null,
      "padding": null,
      "right": null,
      "top": null,
      "visibility": null,
      "width": null
     }
    },
    "5e01d120c45f4cca9d467c51cbd290f0": {
     "model_module": "@jupyter-widgets/controls",
     "model_name": "DescriptionStyleModel",
     "state": {
      "_model_module": "@jupyter-widgets/controls",
      "_model_module_version": "1.5.0",
      "_model_name": "DescriptionStyleModel",
      "_view_count": null,
      "_view_module": "@jupyter-widgets/base",
      "_view_module_version": "1.2.0",
      "_view_name": "StyleView",
      "description_width": ""
     }
    },
    "5e3da70a700f404abffd7319a4d49173": {
     "model_module": "@jupyter-widgets/base",
     "model_name": "LayoutModel",
     "state": {
      "_model_module": "@jupyter-widgets/base",
      "_model_module_version": "1.2.0",
      "_model_name": "LayoutModel",
      "_view_count": null,
      "_view_module": "@jupyter-widgets/base",
      "_view_module_version": "1.2.0",
      "_view_name": "LayoutView",
      "align_content": null,
      "align_items": null,
      "align_self": null,
      "border": null,
      "bottom": null,
      "display": null,
      "flex": null,
      "flex_flow": null,
      "grid_area": null,
      "grid_auto_columns": null,
      "grid_auto_flow": null,
      "grid_auto_rows": null,
      "grid_column": null,
      "grid_gap": null,
      "grid_row": null,
      "grid_template_areas": null,
      "grid_template_columns": null,
      "grid_template_rows": null,
      "height": null,
      "justify_content": null,
      "justify_items": null,
      "left": null,
      "margin": null,
      "max_height": null,
      "max_width": null,
      "min_height": null,
      "min_width": null,
      "object_fit": null,
      "object_position": null,
      "order": null,
      "overflow": null,
      "overflow_x": null,
      "overflow_y": null,
      "padding": null,
      "right": null,
      "top": null,
      "visibility": null,
      "width": null
     }
    },
    "5eb967f22a8647d3956d353c92f8c4ab": {
     "model_module": "@jupyter-widgets/base",
     "model_name": "LayoutModel",
     "state": {
      "_model_module": "@jupyter-widgets/base",
      "_model_module_version": "1.2.0",
      "_model_name": "LayoutModel",
      "_view_count": null,
      "_view_module": "@jupyter-widgets/base",
      "_view_module_version": "1.2.0",
      "_view_name": "LayoutView",
      "align_content": null,
      "align_items": null,
      "align_self": null,
      "border": null,
      "bottom": null,
      "display": null,
      "flex": null,
      "flex_flow": null,
      "grid_area": null,
      "grid_auto_columns": null,
      "grid_auto_flow": null,
      "grid_auto_rows": null,
      "grid_column": null,
      "grid_gap": null,
      "grid_row": null,
      "grid_template_areas": null,
      "grid_template_columns": null,
      "grid_template_rows": null,
      "height": null,
      "justify_content": null,
      "justify_items": null,
      "left": null,
      "margin": null,
      "max_height": null,
      "max_width": null,
      "min_height": null,
      "min_width": null,
      "object_fit": null,
      "object_position": null,
      "order": null,
      "overflow": null,
      "overflow_x": null,
      "overflow_y": null,
      "padding": null,
      "right": null,
      "top": null,
      "visibility": null,
      "width": null
     }
    },
    "611726c3d3ac480cb6c715c0861cf825": {
     "model_module": "@jupyter-widgets/controls",
     "model_name": "HBoxModel",
     "state": {
      "_dom_classes": [],
      "_model_module": "@jupyter-widgets/controls",
      "_model_module_version": "1.5.0",
      "_model_name": "HBoxModel",
      "_view_count": null,
      "_view_module": "@jupyter-widgets/controls",
      "_view_module_version": "1.5.0",
      "_view_name": "HBoxView",
      "box_style": "",
      "children": [
       "IPY_MODEL_251a4cebc9294ff9a65c91f8a09c255e",
       "IPY_MODEL_ebe7a43523184ae6b384f2f3fe2b943b"
      ],
      "layout": "IPY_MODEL_29d68a8c105c43fb95e465f3396cbd2e"
     }
    },
    "62fa36f86369490eac6919593329ab5a": {
     "model_module": "@jupyter-widgets/controls",
     "model_name": "HBoxModel",
     "state": {
      "_dom_classes": [],
      "_model_module": "@jupyter-widgets/controls",
      "_model_module_version": "1.5.0",
      "_model_name": "HBoxModel",
      "_view_count": null,
      "_view_module": "@jupyter-widgets/controls",
      "_view_module_version": "1.5.0",
      "_view_name": "HBoxView",
      "box_style": "",
      "children": [
       "IPY_MODEL_56849021bbe44b87822464415a26bfb4",
       "IPY_MODEL_fe6b33631b5946a9a83d51e18d683ee4"
      ],
      "layout": "IPY_MODEL_ec29c34008d9434daae939aee0ba5e56"
     }
    },
    "645eacc63d954d29a72f676a580988d7": {
     "model_module": "@jupyter-widgets/controls",
     "model_name": "ProgressStyleModel",
     "state": {
      "_model_module": "@jupyter-widgets/controls",
      "_model_module_version": "1.5.0",
      "_model_name": "ProgressStyleModel",
      "_view_count": null,
      "_view_module": "@jupyter-widgets/base",
      "_view_module_version": "1.2.0",
      "_view_name": "StyleView",
      "bar_color": null,
      "description_width": "initial"
     }
    },
    "6860ce557458418cafb4fc2d7095ea31": {
     "model_module": "@jupyter-widgets/controls",
     "model_name": "FloatProgressModel",
     "state": {
      "_dom_classes": [],
      "_model_module": "@jupyter-widgets/controls",
      "_model_module_version": "1.5.0",
      "_model_name": "FloatProgressModel",
      "_view_count": null,
      "_view_module": "@jupyter-widgets/controls",
      "_view_module_version": "1.5.0",
      "_view_name": "ProgressView",
      "bar_style": "success",
      "description": "100%",
      "description_tooltip": null,
      "layout": "IPY_MODEL_ce9ec5a054ca401cbdf278fbbff08dcc",
      "max": 320,
      "min": 0,
      "orientation": "horizontal",
      "style": "IPY_MODEL_3e6c951c16214922864ff306d9324d7b",
      "value": 320
     }
    },
    "6b96116584b24fadb918f2f6930596a7": {
     "model_module": "@jupyter-widgets/controls",
     "model_name": "HTMLModel",
     "state": {
      "_dom_classes": [],
      "_model_module": "@jupyter-widgets/controls",
      "_model_module_version": "1.5.0",
      "_model_name": "HTMLModel",
      "_view_count": null,
      "_view_module": "@jupyter-widgets/controls",
      "_view_module_version": "1.5.0",
      "_view_name": "HTMLView",
      "description": "",
      "description_tooltip": null,
      "layout": "IPY_MODEL_545dbc6e51254fb893d0f13efc2bb040",
      "placeholder": "​",
      "style": "IPY_MODEL_99673211f1ec4006a622f905596181d8",
      "value": " 320/320 [11:17&lt;00:00,  2.12s/it]"
     }
    },
    "6bf56028f934402da8c6b2a9de1f011e": {
     "model_module": "@jupyter-widgets/controls",
     "model_name": "FloatProgressModel",
     "state": {
      "_dom_classes": [],
      "_model_module": "@jupyter-widgets/controls",
      "_model_module_version": "1.5.0",
      "_model_name": "FloatProgressModel",
      "_view_count": null,
      "_view_module": "@jupyter-widgets/controls",
      "_view_module_version": "1.5.0",
      "_view_name": "ProgressView",
      "bar_style": "success",
      "description": "100%",
      "description_tooltip": null,
      "layout": "IPY_MODEL_cdea0e32f6144511a24fda4cd56c7d8e",
      "max": 320,
      "min": 0,
      "orientation": "horizontal",
      "style": "IPY_MODEL_00f4899b4aa54ae8bfe296367c2b9c45",
      "value": 320
     }
    },
    "6d3e9eedce2c43c1997660ebfbc7954c": {
     "model_module": "@jupyter-widgets/base",
     "model_name": "LayoutModel",
     "state": {
      "_model_module": "@jupyter-widgets/base",
      "_model_module_version": "1.2.0",
      "_model_name": "LayoutModel",
      "_view_count": null,
      "_view_module": "@jupyter-widgets/base",
      "_view_module_version": "1.2.0",
      "_view_name": "LayoutView",
      "align_content": null,
      "align_items": null,
      "align_self": null,
      "border": null,
      "bottom": null,
      "display": null,
      "flex": null,
      "flex_flow": null,
      "grid_area": null,
      "grid_auto_columns": null,
      "grid_auto_flow": null,
      "grid_auto_rows": null,
      "grid_column": null,
      "grid_gap": null,
      "grid_row": null,
      "grid_template_areas": null,
      "grid_template_columns": null,
      "grid_template_rows": null,
      "height": null,
      "justify_content": null,
      "justify_items": null,
      "left": null,
      "margin": null,
      "max_height": null,
      "max_width": null,
      "min_height": null,
      "min_width": null,
      "object_fit": null,
      "object_position": null,
      "order": null,
      "overflow": null,
      "overflow_x": null,
      "overflow_y": null,
      "padding": null,
      "right": null,
      "top": null,
      "visibility": null,
      "width": null
     }
    },
    "6ee5f75e55274adab501ffa25825184e": {
     "model_module": "@jupyter-widgets/controls",
     "model_name": "FloatProgressModel",
     "state": {
      "_dom_classes": [],
      "_model_module": "@jupyter-widgets/controls",
      "_model_module_version": "1.5.0",
      "_model_name": "FloatProgressModel",
      "_view_count": null,
      "_view_module": "@jupyter-widgets/controls",
      "_view_module_version": "1.5.0",
      "_view_name": "ProgressView",
      "bar_style": "success",
      "description": "100%",
      "description_tooltip": null,
      "layout": "IPY_MODEL_b7279d42bbf040d2a1c26758b3ae2e70",
      "max": 320,
      "min": 0,
      "orientation": "horizontal",
      "style": "IPY_MODEL_7b11b2ed80d74e17a61092ac07a89f85",
      "value": 320
     }
    },
    "70d1be043251414cb54ddf4eb2dcd4e4": {
     "model_module": "@jupyter-widgets/controls",
     "model_name": "FloatProgressModel",
     "state": {
      "_dom_classes": [],
      "_model_module": "@jupyter-widgets/controls",
      "_model_module_version": "1.5.0",
      "_model_name": "FloatProgressModel",
      "_view_count": null,
      "_view_module": "@jupyter-widgets/controls",
      "_view_module_version": "1.5.0",
      "_view_name": "ProgressView",
      "bar_style": "success",
      "description": "100%",
      "description_tooltip": null,
      "layout": "IPY_MODEL_19d1bcc2fbe2464ba63395818818a717",
      "max": 320,
      "min": 0,
      "orientation": "horizontal",
      "style": "IPY_MODEL_e5a2a3fce75948acbbe88d7c5b223fbc",
      "value": 320
     }
    },
    "72ee275ab9b74f4384eb429e92f6ab19": {
     "model_module": "@jupyter-widgets/controls",
     "model_name": "ProgressStyleModel",
     "state": {
      "_model_module": "@jupyter-widgets/controls",
      "_model_module_version": "1.5.0",
      "_model_name": "ProgressStyleModel",
      "_view_count": null,
      "_view_module": "@jupyter-widgets/base",
      "_view_module_version": "1.2.0",
      "_view_name": "StyleView",
      "bar_color": null,
      "description_width": "initial"
     }
    },
    "73d32b33444d4953b259605d1cd75403": {
     "model_module": "@jupyter-widgets/base",
     "model_name": "LayoutModel",
     "state": {
      "_model_module": "@jupyter-widgets/base",
      "_model_module_version": "1.2.0",
      "_model_name": "LayoutModel",
      "_view_count": null,
      "_view_module": "@jupyter-widgets/base",
      "_view_module_version": "1.2.0",
      "_view_name": "LayoutView",
      "align_content": null,
      "align_items": null,
      "align_self": null,
      "border": null,
      "bottom": null,
      "display": null,
      "flex": null,
      "flex_flow": null,
      "grid_area": null,
      "grid_auto_columns": null,
      "grid_auto_flow": null,
      "grid_auto_rows": null,
      "grid_column": null,
      "grid_gap": null,
      "grid_row": null,
      "grid_template_areas": null,
      "grid_template_columns": null,
      "grid_template_rows": null,
      "height": null,
      "justify_content": null,
      "justify_items": null,
      "left": null,
      "margin": null,
      "max_height": null,
      "max_width": null,
      "min_height": null,
      "min_width": null,
      "object_fit": null,
      "object_position": null,
      "order": null,
      "overflow": null,
      "overflow_x": null,
      "overflow_y": null,
      "padding": null,
      "right": null,
      "top": null,
      "visibility": null,
      "width": null
     }
    },
    "74808efd207f4f98815b3872b853e76c": {
     "model_module": "@jupyter-widgets/controls",
     "model_name": "HTMLModel",
     "state": {
      "_dom_classes": [],
      "_model_module": "@jupyter-widgets/controls",
      "_model_module_version": "1.5.0",
      "_model_name": "HTMLModel",
      "_view_count": null,
      "_view_module": "@jupyter-widgets/controls",
      "_view_module_version": "1.5.0",
      "_view_name": "HTMLView",
      "description": "",
      "description_tooltip": null,
      "layout": "IPY_MODEL_5e3da70a700f404abffd7319a4d49173",
      "placeholder": "​",
      "style": "IPY_MODEL_2ef79ce72e3f4834a640512d329ea0b2",
      "value": " 20465/20465 [07:08&lt;00:00, 47.77it/s]"
     }
    },
    "74a7663d744240159a170c999f31e7a5": {
     "model_module": "@jupyter-widgets/base",
     "model_name": "LayoutModel",
     "state": {
      "_model_module": "@jupyter-widgets/base",
      "_model_module_version": "1.2.0",
      "_model_name": "LayoutModel",
      "_view_count": null,
      "_view_module": "@jupyter-widgets/base",
      "_view_module_version": "1.2.0",
      "_view_name": "LayoutView",
      "align_content": null,
      "align_items": null,
      "align_self": null,
      "border": null,
      "bottom": null,
      "display": null,
      "flex": null,
      "flex_flow": null,
      "grid_area": null,
      "grid_auto_columns": null,
      "grid_auto_flow": null,
      "grid_auto_rows": null,
      "grid_column": null,
      "grid_gap": null,
      "grid_row": null,
      "grid_template_areas": null,
      "grid_template_columns": null,
      "grid_template_rows": null,
      "height": null,
      "justify_content": null,
      "justify_items": null,
      "left": null,
      "margin": null,
      "max_height": null,
      "max_width": null,
      "min_height": null,
      "min_width": null,
      "object_fit": null,
      "object_position": null,
      "order": null,
      "overflow": null,
      "overflow_x": null,
      "overflow_y": null,
      "padding": null,
      "right": null,
      "top": null,
      "visibility": null,
      "width": null
     }
    },
    "774e26f2f3d44d9fa4df02754dd5db7e": {
     "model_module": "@jupyter-widgets/base",
     "model_name": "LayoutModel",
     "state": {
      "_model_module": "@jupyter-widgets/base",
      "_model_module_version": "1.2.0",
      "_model_name": "LayoutModel",
      "_view_count": null,
      "_view_module": "@jupyter-widgets/base",
      "_view_module_version": "1.2.0",
      "_view_name": "LayoutView",
      "align_content": null,
      "align_items": null,
      "align_self": null,
      "border": null,
      "bottom": null,
      "display": null,
      "flex": null,
      "flex_flow": null,
      "grid_area": null,
      "grid_auto_columns": null,
      "grid_auto_flow": null,
      "grid_auto_rows": null,
      "grid_column": null,
      "grid_gap": null,
      "grid_row": null,
      "grid_template_areas": null,
      "grid_template_columns": null,
      "grid_template_rows": null,
      "height": null,
      "justify_content": null,
      "justify_items": null,
      "left": null,
      "margin": null,
      "max_height": null,
      "max_width": null,
      "min_height": null,
      "min_width": null,
      "object_fit": null,
      "object_position": null,
      "order": null,
      "overflow": null,
      "overflow_x": null,
      "overflow_y": null,
      "padding": null,
      "right": null,
      "top": null,
      "visibility": null,
      "width": null
     }
    },
    "7799da34968343c0bee38c2f07a1eda4": {
     "model_module": "@jupyter-widgets/controls",
     "model_name": "HBoxModel",
     "state": {
      "_dom_classes": [],
      "_model_module": "@jupyter-widgets/controls",
      "_model_module_version": "1.5.0",
      "_model_name": "HBoxModel",
      "_view_count": null,
      "_view_module": "@jupyter-widgets/controls",
      "_view_module_version": "1.5.0",
      "_view_name": "HBoxView",
      "box_style": "",
      "children": [
       "IPY_MODEL_6ee5f75e55274adab501ffa25825184e",
       "IPY_MODEL_6b96116584b24fadb918f2f6930596a7"
      ],
      "layout": "IPY_MODEL_0de01bc0b34e4a5fba9890d6d2919f8b"
     }
    },
    "7ae21d8c1ef74bd0bb5e93d867c35b2b": {
     "model_module": "@jupyter-widgets/controls",
     "model_name": "HTMLModel",
     "state": {
      "_dom_classes": [],
      "_model_module": "@jupyter-widgets/controls",
      "_model_module_version": "1.5.0",
      "_model_name": "HTMLModel",
      "_view_count": null,
      "_view_module": "@jupyter-widgets/controls",
      "_view_module_version": "1.5.0",
      "_view_name": "HTMLView",
      "description": "",
      "description_tooltip": null,
      "layout": "IPY_MODEL_2c8f52fea5c54e9798e1b2beba2237e4",
      "placeholder": "​",
      "style": "IPY_MODEL_5e01d120c45f4cca9d467c51cbd290f0",
      "value": " 320/320 [11:21&lt;00:00,  2.13s/it]"
     }
    },
    "7b11b2ed80d74e17a61092ac07a89f85": {
     "model_module": "@jupyter-widgets/controls",
     "model_name": "ProgressStyleModel",
     "state": {
      "_model_module": "@jupyter-widgets/controls",
      "_model_module_version": "1.5.0",
      "_model_name": "ProgressStyleModel",
      "_view_count": null,
      "_view_module": "@jupyter-widgets/base",
      "_view_module_version": "1.2.0",
      "_view_name": "StyleView",
      "bar_color": null,
      "description_width": "initial"
     }
    },
    "7b54a860e68b403aab493256f00dd5cc": {
     "model_module": "@jupyter-widgets/controls",
     "model_name": "HTMLModel",
     "state": {
      "_dom_classes": [],
      "_model_module": "@jupyter-widgets/controls",
      "_model_module_version": "1.5.0",
      "_model_name": "HTMLModel",
      "_view_count": null,
      "_view_module": "@jupyter-widgets/controls",
      "_view_module_version": "1.5.0",
      "_view_name": "HTMLView",
      "description": "",
      "description_tooltip": null,
      "layout": "IPY_MODEL_e8c193b2ae2647178f66b48559c6524c",
      "placeholder": "​",
      "style": "IPY_MODEL_baf8c551d2a14da6aa75c42f1780d719",
      "value": " 320/320 [1:53:21&lt;00:00, 21.25s/it]"
     }
    },
    "7d4b36da09ad48d99dd100ef67947f8b": {
     "model_module": "@jupyter-widgets/base",
     "model_name": "LayoutModel",
     "state": {
      "_model_module": "@jupyter-widgets/base",
      "_model_module_version": "1.2.0",
      "_model_name": "LayoutModel",
      "_view_count": null,
      "_view_module": "@jupyter-widgets/base",
      "_view_module_version": "1.2.0",
      "_view_name": "LayoutView",
      "align_content": null,
      "align_items": null,
      "align_self": null,
      "border": null,
      "bottom": null,
      "display": null,
      "flex": null,
      "flex_flow": null,
      "grid_area": null,
      "grid_auto_columns": null,
      "grid_auto_flow": null,
      "grid_auto_rows": null,
      "grid_column": null,
      "grid_gap": null,
      "grid_row": null,
      "grid_template_areas": null,
      "grid_template_columns": null,
      "grid_template_rows": null,
      "height": null,
      "justify_content": null,
      "justify_items": null,
      "left": null,
      "margin": null,
      "max_height": null,
      "max_width": null,
      "min_height": null,
      "min_width": null,
      "object_fit": null,
      "object_position": null,
      "order": null,
      "overflow": null,
      "overflow_x": null,
      "overflow_y": null,
      "padding": null,
      "right": null,
      "top": null,
      "visibility": null,
      "width": null
     }
    },
    "7e37b0c44cb44f32b2dbc8fc11fd9809": {
     "model_module": "@jupyter-widgets/controls",
     "model_name": "HTMLModel",
     "state": {
      "_dom_classes": [],
      "_model_module": "@jupyter-widgets/controls",
      "_model_module_version": "1.5.0",
      "_model_name": "HTMLModel",
      "_view_count": null,
      "_view_module": "@jupyter-widgets/controls",
      "_view_module_version": "1.5.0",
      "_view_name": "HTMLView",
      "description": "",
      "description_tooltip": null,
      "layout": "IPY_MODEL_73d32b33444d4953b259605d1cd75403",
      "placeholder": "​",
      "style": "IPY_MODEL_dedf265c057c469abb502048936e07aa",
      "value": " 320/320 [05:40&lt;00:00,  1.06s/it]"
     }
    },
    "7e60912639204e469476dc124a9a6a83": {
     "model_module": "@jupyter-widgets/controls",
     "model_name": "FloatProgressModel",
     "state": {
      "_dom_classes": [],
      "_model_module": "@jupyter-widgets/controls",
      "_model_module_version": "1.5.0",
      "_model_name": "FloatProgressModel",
      "_view_count": null,
      "_view_module": "@jupyter-widgets/controls",
      "_view_module_version": "1.5.0",
      "_view_name": "ProgressView",
      "bar_style": "success",
      "description": "100%",
      "description_tooltip": null,
      "layout": "IPY_MODEL_a9cff4878b7c4e6988b8417b3f1f5a19",
      "max": 320,
      "min": 0,
      "orientation": "horizontal",
      "style": "IPY_MODEL_fc26387683324a50ba7c578516dcb694",
      "value": 320
     }
    },
    "7f48634a74904e399093be66e236e0e1": {
     "model_module": "@jupyter-widgets/base",
     "model_name": "LayoutModel",
     "state": {
      "_model_module": "@jupyter-widgets/base",
      "_model_module_version": "1.2.0",
      "_model_name": "LayoutModel",
      "_view_count": null,
      "_view_module": "@jupyter-widgets/base",
      "_view_module_version": "1.2.0",
      "_view_name": "LayoutView",
      "align_content": null,
      "align_items": null,
      "align_self": null,
      "border": null,
      "bottom": null,
      "display": null,
      "flex": null,
      "flex_flow": null,
      "grid_area": null,
      "grid_auto_columns": null,
      "grid_auto_flow": null,
      "grid_auto_rows": null,
      "grid_column": null,
      "grid_gap": null,
      "grid_row": null,
      "grid_template_areas": null,
      "grid_template_columns": null,
      "grid_template_rows": null,
      "height": null,
      "justify_content": null,
      "justify_items": null,
      "left": null,
      "margin": null,
      "max_height": null,
      "max_width": null,
      "min_height": null,
      "min_width": null,
      "object_fit": null,
      "object_position": null,
      "order": null,
      "overflow": null,
      "overflow_x": null,
      "overflow_y": null,
      "padding": null,
      "right": null,
      "top": null,
      "visibility": null,
      "width": null
     }
    },
    "81c4706b27774346b9bb7977a486cf64": {
     "model_module": "@jupyter-widgets/base",
     "model_name": "LayoutModel",
     "state": {
      "_model_module": "@jupyter-widgets/base",
      "_model_module_version": "1.2.0",
      "_model_name": "LayoutModel",
      "_view_count": null,
      "_view_module": "@jupyter-widgets/base",
      "_view_module_version": "1.2.0",
      "_view_name": "LayoutView",
      "align_content": null,
      "align_items": null,
      "align_self": null,
      "border": null,
      "bottom": null,
      "display": null,
      "flex": null,
      "flex_flow": null,
      "grid_area": null,
      "grid_auto_columns": null,
      "grid_auto_flow": null,
      "grid_auto_rows": null,
      "grid_column": null,
      "grid_gap": null,
      "grid_row": null,
      "grid_template_areas": null,
      "grid_template_columns": null,
      "grid_template_rows": null,
      "height": null,
      "justify_content": null,
      "justify_items": null,
      "left": null,
      "margin": null,
      "max_height": null,
      "max_width": null,
      "min_height": null,
      "min_width": null,
      "object_fit": null,
      "object_position": null,
      "order": null,
      "overflow": null,
      "overflow_x": null,
      "overflow_y": null,
      "padding": null,
      "right": null,
      "top": null,
      "visibility": null,
      "width": null
     }
    },
    "84e77c47517048a9a1641ced23d52f7f": {
     "model_module": "@jupyter-widgets/controls",
     "model_name": "ProgressStyleModel",
     "state": {
      "_model_module": "@jupyter-widgets/controls",
      "_model_module_version": "1.5.0",
      "_model_name": "ProgressStyleModel",
      "_view_count": null,
      "_view_module": "@jupyter-widgets/base",
      "_view_module_version": "1.2.0",
      "_view_name": "StyleView",
      "bar_color": null,
      "description_width": "initial"
     }
    },
    "855f2ef49d25484592821b7716575fc6": {
     "model_module": "@jupyter-widgets/base",
     "model_name": "LayoutModel",
     "state": {
      "_model_module": "@jupyter-widgets/base",
      "_model_module_version": "1.2.0",
      "_model_name": "LayoutModel",
      "_view_count": null,
      "_view_module": "@jupyter-widgets/base",
      "_view_module_version": "1.2.0",
      "_view_name": "LayoutView",
      "align_content": null,
      "align_items": null,
      "align_self": null,
      "border": null,
      "bottom": null,
      "display": null,
      "flex": null,
      "flex_flow": null,
      "grid_area": null,
      "grid_auto_columns": null,
      "grid_auto_flow": null,
      "grid_auto_rows": null,
      "grid_column": null,
      "grid_gap": null,
      "grid_row": null,
      "grid_template_areas": null,
      "grid_template_columns": null,
      "grid_template_rows": null,
      "height": null,
      "justify_content": null,
      "justify_items": null,
      "left": null,
      "margin": null,
      "max_height": null,
      "max_width": null,
      "min_height": null,
      "min_width": null,
      "object_fit": null,
      "object_position": null,
      "order": null,
      "overflow": null,
      "overflow_x": null,
      "overflow_y": null,
      "padding": null,
      "right": null,
      "top": null,
      "visibility": null,
      "width": null
     }
    },
    "8a38ade187b64f889726e677f9e6bf9a": {
     "model_module": "@jupyter-widgets/controls",
     "model_name": "ProgressStyleModel",
     "state": {
      "_model_module": "@jupyter-widgets/controls",
      "_model_module_version": "1.5.0",
      "_model_name": "ProgressStyleModel",
      "_view_count": null,
      "_view_module": "@jupyter-widgets/base",
      "_view_module_version": "1.2.0",
      "_view_name": "StyleView",
      "bar_color": null,
      "description_width": "initial"
     }
    },
    "8c6e6e4397ea449d85a5f4d701f9dcae": {
     "model_module": "@jupyter-widgets/base",
     "model_name": "LayoutModel",
     "state": {
      "_model_module": "@jupyter-widgets/base",
      "_model_module_version": "1.2.0",
      "_model_name": "LayoutModel",
      "_view_count": null,
      "_view_module": "@jupyter-widgets/base",
      "_view_module_version": "1.2.0",
      "_view_name": "LayoutView",
      "align_content": null,
      "align_items": null,
      "align_self": null,
      "border": null,
      "bottom": null,
      "display": null,
      "flex": null,
      "flex_flow": null,
      "grid_area": null,
      "grid_auto_columns": null,
      "grid_auto_flow": null,
      "grid_auto_rows": null,
      "grid_column": null,
      "grid_gap": null,
      "grid_row": null,
      "grid_template_areas": null,
      "grid_template_columns": null,
      "grid_template_rows": null,
      "height": null,
      "justify_content": null,
      "justify_items": null,
      "left": null,
      "margin": null,
      "max_height": null,
      "max_width": null,
      "min_height": null,
      "min_width": null,
      "object_fit": null,
      "object_position": null,
      "order": null,
      "overflow": null,
      "overflow_x": null,
      "overflow_y": null,
      "padding": null,
      "right": null,
      "top": null,
      "visibility": null,
      "width": null
     }
    },
    "946922e7684e46e6ad33a2192f9683eb": {
     "model_module": "@jupyter-widgets/controls",
     "model_name": "HBoxModel",
     "state": {
      "_dom_classes": [],
      "_model_module": "@jupyter-widgets/controls",
      "_model_module_version": "1.5.0",
      "_model_name": "HBoxModel",
      "_view_count": null,
      "_view_module": "@jupyter-widgets/controls",
      "_view_module_version": "1.5.0",
      "_view_name": "HBoxView",
      "box_style": "",
      "children": [
       "IPY_MODEL_3f40b9459d2e42918282f6e3dbbe0485",
       "IPY_MODEL_dec8af1eb9c84cb28f789cf586779cd7"
      ],
      "layout": "IPY_MODEL_cfae2511bcc04da38339956c2f961f9b"
     }
    },
    "9473d8dd18384cecab83a0e17f8c41ca": {
     "model_module": "@jupyter-widgets/controls",
     "model_name": "DescriptionStyleModel",
     "state": {
      "_model_module": "@jupyter-widgets/controls",
      "_model_module_version": "1.5.0",
      "_model_name": "DescriptionStyleModel",
      "_view_count": null,
      "_view_module": "@jupyter-widgets/base",
      "_view_module_version": "1.2.0",
      "_view_name": "StyleView",
      "description_width": ""
     }
    },
    "99673211f1ec4006a622f905596181d8": {
     "model_module": "@jupyter-widgets/controls",
     "model_name": "DescriptionStyleModel",
     "state": {
      "_model_module": "@jupyter-widgets/controls",
      "_model_module_version": "1.5.0",
      "_model_name": "DescriptionStyleModel",
      "_view_count": null,
      "_view_module": "@jupyter-widgets/base",
      "_view_module_version": "1.2.0",
      "_view_name": "StyleView",
      "description_width": ""
     }
    },
    "9a26a227e6904d838407dcc49faf9a4e": {
     "model_module": "@jupyter-widgets/base",
     "model_name": "LayoutModel",
     "state": {
      "_model_module": "@jupyter-widgets/base",
      "_model_module_version": "1.2.0",
      "_model_name": "LayoutModel",
      "_view_count": null,
      "_view_module": "@jupyter-widgets/base",
      "_view_module_version": "1.2.0",
      "_view_name": "LayoutView",
      "align_content": null,
      "align_items": null,
      "align_self": null,
      "border": null,
      "bottom": null,
      "display": null,
      "flex": null,
      "flex_flow": null,
      "grid_area": null,
      "grid_auto_columns": null,
      "grid_auto_flow": null,
      "grid_auto_rows": null,
      "grid_column": null,
      "grid_gap": null,
      "grid_row": null,
      "grid_template_areas": null,
      "grid_template_columns": null,
      "grid_template_rows": null,
      "height": null,
      "justify_content": null,
      "justify_items": null,
      "left": null,
      "margin": null,
      "max_height": null,
      "max_width": null,
      "min_height": null,
      "min_width": null,
      "object_fit": null,
      "object_position": null,
      "order": null,
      "overflow": null,
      "overflow_x": null,
      "overflow_y": null,
      "padding": null,
      "right": null,
      "top": null,
      "visibility": null,
      "width": null
     }
    },
    "9b133a95c5ff4f9a96acbbb42714b0d4": {
     "model_module": "@jupyter-widgets/controls",
     "model_name": "ProgressStyleModel",
     "state": {
      "_model_module": "@jupyter-widgets/controls",
      "_model_module_version": "1.5.0",
      "_model_name": "ProgressStyleModel",
      "_view_count": null,
      "_view_module": "@jupyter-widgets/base",
      "_view_module_version": "1.2.0",
      "_view_name": "StyleView",
      "bar_color": null,
      "description_width": "initial"
     }
    },
    "9d8ec4f104fa4d83bd5c1ed7321f3c47": {
     "model_module": "@jupyter-widgets/controls",
     "model_name": "FloatProgressModel",
     "state": {
      "_dom_classes": [],
      "_model_module": "@jupyter-widgets/controls",
      "_model_module_version": "1.5.0",
      "_model_name": "FloatProgressModel",
      "_view_count": null,
      "_view_module": "@jupyter-widgets/controls",
      "_view_module_version": "1.5.0",
      "_view_name": "ProgressView",
      "bar_style": "success",
      "description": "100%",
      "description_tooltip": null,
      "layout": "IPY_MODEL_f5b44b8d43f241bbaafa1a3f773ceed0",
      "max": 320,
      "min": 0,
      "orientation": "horizontal",
      "style": "IPY_MODEL_84e77c47517048a9a1641ced23d52f7f",
      "value": 320
     }
    },
    "9e0d9e8774794e74abd82e6077300f04": {
     "model_module": "@jupyter-widgets/controls",
     "model_name": "HTMLModel",
     "state": {
      "_dom_classes": [],
      "_model_module": "@jupyter-widgets/controls",
      "_model_module_version": "1.5.0",
      "_model_name": "HTMLModel",
      "_view_count": null,
      "_view_module": "@jupyter-widgets/controls",
      "_view_module_version": "1.5.0",
      "_view_name": "HTMLView",
      "description": "",
      "description_tooltip": null,
      "layout": "IPY_MODEL_17bff9643dec45198296918a89a3f4c9",
      "placeholder": "​",
      "style": "IPY_MODEL_d76bd8b32fef4ba4bc6e1faa53f9e760",
      "value": " 5000/5000 [11:42&lt;00:00,  7.12it/s]"
     }
    },
    "9fab91e284d04d23a1185cce0a3224b1": {
     "model_module": "@jupyter-widgets/controls",
     "model_name": "HTMLModel",
     "state": {
      "_dom_classes": [],
      "_model_module": "@jupyter-widgets/controls",
      "_model_module_version": "1.5.0",
      "_model_name": "HTMLModel",
      "_view_count": null,
      "_view_module": "@jupyter-widgets/controls",
      "_view_module_version": "1.5.0",
      "_view_name": "HTMLView",
      "description": "",
      "description_tooltip": null,
      "layout": "IPY_MODEL_774e26f2f3d44d9fa4df02754dd5db7e",
      "placeholder": "​",
      "style": "IPY_MODEL_e1c1bd11eef84e2aa7132f551bf8fa9f",
      "value": " 320/320 [1:30:38&lt;00:00, 16.99s/it]"
     }
    },
    "a06ed1e0cf0e4c99bd729447779af30b": {
     "model_module": "@jupyter-widgets/base",
     "model_name": "LayoutModel",
     "state": {
      "_model_module": "@jupyter-widgets/base",
      "_model_module_version": "1.2.0",
      "_model_name": "LayoutModel",
      "_view_count": null,
      "_view_module": "@jupyter-widgets/base",
      "_view_module_version": "1.2.0",
      "_view_name": "LayoutView",
      "align_content": null,
      "align_items": null,
      "align_self": null,
      "border": null,
      "bottom": null,
      "display": null,
      "flex": null,
      "flex_flow": null,
      "grid_area": null,
      "grid_auto_columns": null,
      "grid_auto_flow": null,
      "grid_auto_rows": null,
      "grid_column": null,
      "grid_gap": null,
      "grid_row": null,
      "grid_template_areas": null,
      "grid_template_columns": null,
      "grid_template_rows": null,
      "height": null,
      "justify_content": null,
      "justify_items": null,
      "left": null,
      "margin": null,
      "max_height": null,
      "max_width": null,
      "min_height": null,
      "min_width": null,
      "object_fit": null,
      "object_position": null,
      "order": null,
      "overflow": null,
      "overflow_x": null,
      "overflow_y": null,
      "padding": null,
      "right": null,
      "top": null,
      "visibility": null,
      "width": null
     }
    },
    "a23d6004b88f43f0abf931a2e477294d": {
     "model_module": "@jupyter-widgets/base",
     "model_name": "LayoutModel",
     "state": {
      "_model_module": "@jupyter-widgets/base",
      "_model_module_version": "1.2.0",
      "_model_name": "LayoutModel",
      "_view_count": null,
      "_view_module": "@jupyter-widgets/base",
      "_view_module_version": "1.2.0",
      "_view_name": "LayoutView",
      "align_content": null,
      "align_items": null,
      "align_self": null,
      "border": null,
      "bottom": null,
      "display": null,
      "flex": null,
      "flex_flow": null,
      "grid_area": null,
      "grid_auto_columns": null,
      "grid_auto_flow": null,
      "grid_auto_rows": null,
      "grid_column": null,
      "grid_gap": null,
      "grid_row": null,
      "grid_template_areas": null,
      "grid_template_columns": null,
      "grid_template_rows": null,
      "height": null,
      "justify_content": null,
      "justify_items": null,
      "left": null,
      "margin": null,
      "max_height": null,
      "max_width": null,
      "min_height": null,
      "min_width": null,
      "object_fit": null,
      "object_position": null,
      "order": null,
      "overflow": null,
      "overflow_x": null,
      "overflow_y": null,
      "padding": null,
      "right": null,
      "top": null,
      "visibility": null,
      "width": null
     }
    },
    "a5706eba9ea5490ca854544948f32b68": {
     "model_module": "@jupyter-widgets/controls",
     "model_name": "HBoxModel",
     "state": {
      "_dom_classes": [],
      "_model_module": "@jupyter-widgets/controls",
      "_model_module_version": "1.5.0",
      "_model_name": "HBoxModel",
      "_view_count": null,
      "_view_module": "@jupyter-widgets/controls",
      "_view_module_version": "1.5.0",
      "_view_name": "HBoxView",
      "box_style": "",
      "children": [
       "IPY_MODEL_7e60912639204e469476dc124a9a6a83",
       "IPY_MODEL_9fab91e284d04d23a1185cce0a3224b1"
      ],
      "layout": "IPY_MODEL_f18e9c5a966641729475f1ecacf14703"
     }
    },
    "a78ae2653c8143c99e2d3505f0618cc6": {
     "model_module": "@jupyter-widgets/base",
     "model_name": "LayoutModel",
     "state": {
      "_model_module": "@jupyter-widgets/base",
      "_model_module_version": "1.2.0",
      "_model_name": "LayoutModel",
      "_view_count": null,
      "_view_module": "@jupyter-widgets/base",
      "_view_module_version": "1.2.0",
      "_view_name": "LayoutView",
      "align_content": null,
      "align_items": null,
      "align_self": null,
      "border": null,
      "bottom": null,
      "display": null,
      "flex": null,
      "flex_flow": null,
      "grid_area": null,
      "grid_auto_columns": null,
      "grid_auto_flow": null,
      "grid_auto_rows": null,
      "grid_column": null,
      "grid_gap": null,
      "grid_row": null,
      "grid_template_areas": null,
      "grid_template_columns": null,
      "grid_template_rows": null,
      "height": null,
      "justify_content": null,
      "justify_items": null,
      "left": null,
      "margin": null,
      "max_height": null,
      "max_width": null,
      "min_height": null,
      "min_width": null,
      "object_fit": null,
      "object_position": null,
      "order": null,
      "overflow": null,
      "overflow_x": null,
      "overflow_y": null,
      "padding": null,
      "right": null,
      "top": null,
      "visibility": null,
      "width": null
     }
    },
    "a8f86792e4b749d18d982a2e6e0e828c": {
     "model_module": "@jupyter-widgets/controls",
     "model_name": "DescriptionStyleModel",
     "state": {
      "_model_module": "@jupyter-widgets/controls",
      "_model_module_version": "1.5.0",
      "_model_name": "DescriptionStyleModel",
      "_view_count": null,
      "_view_module": "@jupyter-widgets/base",
      "_view_module_version": "1.2.0",
      "_view_name": "StyleView",
      "description_width": ""
     }
    },
    "a9cff4878b7c4e6988b8417b3f1f5a19": {
     "model_module": "@jupyter-widgets/base",
     "model_name": "LayoutModel",
     "state": {
      "_model_module": "@jupyter-widgets/base",
      "_model_module_version": "1.2.0",
      "_model_name": "LayoutModel",
      "_view_count": null,
      "_view_module": "@jupyter-widgets/base",
      "_view_module_version": "1.2.0",
      "_view_name": "LayoutView",
      "align_content": null,
      "align_items": null,
      "align_self": null,
      "border": null,
      "bottom": null,
      "display": null,
      "flex": null,
      "flex_flow": null,
      "grid_area": null,
      "grid_auto_columns": null,
      "grid_auto_flow": null,
      "grid_auto_rows": null,
      "grid_column": null,
      "grid_gap": null,
      "grid_row": null,
      "grid_template_areas": null,
      "grid_template_columns": null,
      "grid_template_rows": null,
      "height": null,
      "justify_content": null,
      "justify_items": null,
      "left": null,
      "margin": null,
      "max_height": null,
      "max_width": null,
      "min_height": null,
      "min_width": null,
      "object_fit": null,
      "object_position": null,
      "order": null,
      "overflow": null,
      "overflow_x": null,
      "overflow_y": null,
      "padding": null,
      "right": null,
      "top": null,
      "visibility": null,
      "width": null
     }
    },
    "aa041896b7204eebae6a678344a20e53": {
     "model_module": "@jupyter-widgets/controls",
     "model_name": "ProgressStyleModel",
     "state": {
      "_model_module": "@jupyter-widgets/controls",
      "_model_module_version": "1.5.0",
      "_model_name": "ProgressStyleModel",
      "_view_count": null,
      "_view_module": "@jupyter-widgets/base",
      "_view_module_version": "1.2.0",
      "_view_name": "StyleView",
      "bar_color": null,
      "description_width": "initial"
     }
    },
    "ae32186d7ba64e949d16dc2da73ac0b3": {
     "model_module": "@jupyter-widgets/base",
     "model_name": "LayoutModel",
     "state": {
      "_model_module": "@jupyter-widgets/base",
      "_model_module_version": "1.2.0",
      "_model_name": "LayoutModel",
      "_view_count": null,
      "_view_module": "@jupyter-widgets/base",
      "_view_module_version": "1.2.0",
      "_view_name": "LayoutView",
      "align_content": null,
      "align_items": null,
      "align_self": null,
      "border": null,
      "bottom": null,
      "display": null,
      "flex": null,
      "flex_flow": null,
      "grid_area": null,
      "grid_auto_columns": null,
      "grid_auto_flow": null,
      "grid_auto_rows": null,
      "grid_column": null,
      "grid_gap": null,
      "grid_row": null,
      "grid_template_areas": null,
      "grid_template_columns": null,
      "grid_template_rows": null,
      "height": null,
      "justify_content": null,
      "justify_items": null,
      "left": null,
      "margin": null,
      "max_height": null,
      "max_width": null,
      "min_height": null,
      "min_width": null,
      "object_fit": null,
      "object_position": null,
      "order": null,
      "overflow": null,
      "overflow_x": null,
      "overflow_y": null,
      "padding": null,
      "right": null,
      "top": null,
      "visibility": null,
      "width": null
     }
    },
    "aee425ecf8fa4e0fb17db8d2acec3998": {
     "model_module": "@jupyter-widgets/controls",
     "model_name": "HBoxModel",
     "state": {
      "_dom_classes": [],
      "_model_module": "@jupyter-widgets/controls",
      "_model_module_version": "1.5.0",
      "_model_name": "HBoxModel",
      "_view_count": null,
      "_view_module": "@jupyter-widgets/controls",
      "_view_module_version": "1.5.0",
      "_view_name": "HBoxView",
      "box_style": "",
      "children": [
       "IPY_MODEL_9d8ec4f104fa4d83bd5c1ed7321f3c47",
       "IPY_MODEL_7e37b0c44cb44f32b2dbc8fc11fd9809"
      ],
      "layout": "IPY_MODEL_c004088d1de548c2aacd2af1023e0133"
     }
    },
    "b3441ece82b8441595ba60458737f40a": {
     "model_module": "@jupyter-widgets/controls",
     "model_name": "FloatProgressModel",
     "state": {
      "_dom_classes": [],
      "_model_module": "@jupyter-widgets/controls",
      "_model_module_version": "1.5.0",
      "_model_name": "FloatProgressModel",
      "_view_count": null,
      "_view_module": "@jupyter-widgets/controls",
      "_view_module_version": "1.5.0",
      "_view_name": "ProgressView",
      "bar_style": "success",
      "description": "100%",
      "description_tooltip": null,
      "layout": "IPY_MODEL_d4e45a206fa6438aabf4f1609a55100b",
      "max": 320,
      "min": 0,
      "orientation": "horizontal",
      "style": "IPY_MODEL_9b133a95c5ff4f9a96acbbb42714b0d4",
      "value": 320
     }
    },
    "b58b1ebf41fc4610b8ce61a32582285f": {
     "model_module": "@jupyter-widgets/controls",
     "model_name": "ProgressStyleModel",
     "state": {
      "_model_module": "@jupyter-widgets/controls",
      "_model_module_version": "1.5.0",
      "_model_name": "ProgressStyleModel",
      "_view_count": null,
      "_view_module": "@jupyter-widgets/base",
      "_view_module_version": "1.2.0",
      "_view_name": "StyleView",
      "bar_color": null,
      "description_width": "initial"
     }
    },
    "b5a2ba33e6664af2ae5352cb4e3d775d": {
     "model_module": "@jupyter-widgets/controls",
     "model_name": "HBoxModel",
     "state": {
      "_dom_classes": [],
      "_model_module": "@jupyter-widgets/controls",
      "_model_module_version": "1.5.0",
      "_model_name": "HBoxModel",
      "_view_count": null,
      "_view_module": "@jupyter-widgets/controls",
      "_view_module_version": "1.5.0",
      "_view_name": "HBoxView",
      "box_style": "",
      "children": [
       "IPY_MODEL_c2fa7e5c37734bef808ab8d8c1ee5be2",
       "IPY_MODEL_9e0d9e8774794e74abd82e6077300f04"
      ],
      "layout": "IPY_MODEL_121c64dce58a481896453c6488960002"
     }
    },
    "b5dff37f022441fa813cc60c28fc5182": {
     "model_module": "@jupyter-widgets/controls",
     "model_name": "ProgressStyleModel",
     "state": {
      "_model_module": "@jupyter-widgets/controls",
      "_model_module_version": "1.5.0",
      "_model_name": "ProgressStyleModel",
      "_view_count": null,
      "_view_module": "@jupyter-widgets/base",
      "_view_module_version": "1.2.0",
      "_view_name": "StyleView",
      "bar_color": null,
      "description_width": "initial"
     }
    },
    "b7279d42bbf040d2a1c26758b3ae2e70": {
     "model_module": "@jupyter-widgets/base",
     "model_name": "LayoutModel",
     "state": {
      "_model_module": "@jupyter-widgets/base",
      "_model_module_version": "1.2.0",
      "_model_name": "LayoutModel",
      "_view_count": null,
      "_view_module": "@jupyter-widgets/base",
      "_view_module_version": "1.2.0",
      "_view_name": "LayoutView",
      "align_content": null,
      "align_items": null,
      "align_self": null,
      "border": null,
      "bottom": null,
      "display": null,
      "flex": null,
      "flex_flow": null,
      "grid_area": null,
      "grid_auto_columns": null,
      "grid_auto_flow": null,
      "grid_auto_rows": null,
      "grid_column": null,
      "grid_gap": null,
      "grid_row": null,
      "grid_template_areas": null,
      "grid_template_columns": null,
      "grid_template_rows": null,
      "height": null,
      "justify_content": null,
      "justify_items": null,
      "left": null,
      "margin": null,
      "max_height": null,
      "max_width": null,
      "min_height": null,
      "min_width": null,
      "object_fit": null,
      "object_position": null,
      "order": null,
      "overflow": null,
      "overflow_x": null,
      "overflow_y": null,
      "padding": null,
      "right": null,
      "top": null,
      "visibility": null,
      "width": null
     }
    },
    "b74ee5f38473472bb8314333d7d44565": {
     "model_module": "@jupyter-widgets/controls",
     "model_name": "HTMLModel",
     "state": {
      "_dom_classes": [],
      "_model_module": "@jupyter-widgets/controls",
      "_model_module_version": "1.5.0",
      "_model_name": "HTMLModel",
      "_view_count": null,
      "_view_module": "@jupyter-widgets/controls",
      "_view_module_version": "1.5.0",
      "_view_name": "HTMLView",
      "description": "",
      "description_tooltip": null,
      "layout": "IPY_MODEL_cd9fbb8b31c3404eb823b8c85bfb9ed3",
      "placeholder": "​",
      "style": "IPY_MODEL_2c7b7a6981c24188b344804e802b15d0",
      "value": " 320/320 [1:36:19&lt;00:00, 18.06s/it]"
     }
    },
    "b91cbcfd4bfe475493cb955f4f396fa3": {
     "model_module": "@jupyter-widgets/controls",
     "model_name": "FloatProgressModel",
     "state": {
      "_dom_classes": [],
      "_model_module": "@jupyter-widgets/controls",
      "_model_module_version": "1.5.0",
      "_model_name": "FloatProgressModel",
      "_view_count": null,
      "_view_module": "@jupyter-widgets/controls",
      "_view_module_version": "1.5.0",
      "_view_name": "ProgressView",
      "bar_style": "success",
      "description": "100%",
      "description_tooltip": null,
      "layout": "IPY_MODEL_d7f5bce6cf774ecbb4aeac5aba85e595",
      "max": 320,
      "min": 0,
      "orientation": "horizontal",
      "style": "IPY_MODEL_38128cc4bf3b431ba68e7b638c070512",
      "value": 320
     }
    },
    "baf8c551d2a14da6aa75c42f1780d719": {
     "model_module": "@jupyter-widgets/controls",
     "model_name": "DescriptionStyleModel",
     "state": {
      "_model_module": "@jupyter-widgets/controls",
      "_model_module_version": "1.5.0",
      "_model_name": "DescriptionStyleModel",
      "_view_count": null,
      "_view_module": "@jupyter-widgets/base",
      "_view_module_version": "1.2.0",
      "_view_name": "StyleView",
      "description_width": ""
     }
    },
    "bb433c80343243069b7b794e8d4fa440": {
     "model_module": "@jupyter-widgets/base",
     "model_name": "LayoutModel",
     "state": {
      "_model_module": "@jupyter-widgets/base",
      "_model_module_version": "1.2.0",
      "_model_name": "LayoutModel",
      "_view_count": null,
      "_view_module": "@jupyter-widgets/base",
      "_view_module_version": "1.2.0",
      "_view_name": "LayoutView",
      "align_content": null,
      "align_items": null,
      "align_self": null,
      "border": null,
      "bottom": null,
      "display": null,
      "flex": null,
      "flex_flow": null,
      "grid_area": null,
      "grid_auto_columns": null,
      "grid_auto_flow": null,
      "grid_auto_rows": null,
      "grid_column": null,
      "grid_gap": null,
      "grid_row": null,
      "grid_template_areas": null,
      "grid_template_columns": null,
      "grid_template_rows": null,
      "height": null,
      "justify_content": null,
      "justify_items": null,
      "left": null,
      "margin": null,
      "max_height": null,
      "max_width": null,
      "min_height": null,
      "min_width": null,
      "object_fit": null,
      "object_position": null,
      "order": null,
      "overflow": null,
      "overflow_x": null,
      "overflow_y": null,
      "padding": null,
      "right": null,
      "top": null,
      "visibility": null,
      "width": null
     }
    },
    "bc32e9ad3acc47fdb711b2e10937c663": {
     "model_module": "@jupyter-widgets/controls",
     "model_name": "HTMLModel",
     "state": {
      "_dom_classes": [],
      "_model_module": "@jupyter-widgets/controls",
      "_model_module_version": "1.5.0",
      "_model_name": "HTMLModel",
      "_view_count": null,
      "_view_module": "@jupyter-widgets/controls",
      "_view_module_version": "1.5.0",
      "_view_name": "HTMLView",
      "description": "",
      "description_tooltip": null,
      "layout": "IPY_MODEL_d59520399ae94fb28f11686e5bc0a23d",
      "placeholder": "​",
      "style": "IPY_MODEL_bea4b0ace9cb4cd69327bf099ea60600",
      "value": " 320/320 [56:34&lt;00:00, 10.61s/it]"
     }
    },
    "bdd1991bd9f44c759994c026b2933c72": {
     "model_module": "@jupyter-widgets/base",
     "model_name": "LayoutModel",
     "state": {
      "_model_module": "@jupyter-widgets/base",
      "_model_module_version": "1.2.0",
      "_model_name": "LayoutModel",
      "_view_count": null,
      "_view_module": "@jupyter-widgets/base",
      "_view_module_version": "1.2.0",
      "_view_name": "LayoutView",
      "align_content": null,
      "align_items": null,
      "align_self": null,
      "border": null,
      "bottom": null,
      "display": null,
      "flex": null,
      "flex_flow": null,
      "grid_area": null,
      "grid_auto_columns": null,
      "grid_auto_flow": null,
      "grid_auto_rows": null,
      "grid_column": null,
      "grid_gap": null,
      "grid_row": null,
      "grid_template_areas": null,
      "grid_template_columns": null,
      "grid_template_rows": null,
      "height": null,
      "justify_content": null,
      "justify_items": null,
      "left": null,
      "margin": null,
      "max_height": null,
      "max_width": null,
      "min_height": null,
      "min_width": null,
      "object_fit": null,
      "object_position": null,
      "order": null,
      "overflow": null,
      "overflow_x": null,
      "overflow_y": null,
      "padding": null,
      "right": null,
      "top": null,
      "visibility": null,
      "width": null
     }
    },
    "bea4b0ace9cb4cd69327bf099ea60600": {
     "model_module": "@jupyter-widgets/controls",
     "model_name": "DescriptionStyleModel",
     "state": {
      "_model_module": "@jupyter-widgets/controls",
      "_model_module_version": "1.5.0",
      "_model_name": "DescriptionStyleModel",
      "_view_count": null,
      "_view_module": "@jupyter-widgets/base",
      "_view_module_version": "1.2.0",
      "_view_name": "StyleView",
      "description_width": ""
     }
    },
    "c004088d1de548c2aacd2af1023e0133": {
     "model_module": "@jupyter-widgets/base",
     "model_name": "LayoutModel",
     "state": {
      "_model_module": "@jupyter-widgets/base",
      "_model_module_version": "1.2.0",
      "_model_name": "LayoutModel",
      "_view_count": null,
      "_view_module": "@jupyter-widgets/base",
      "_view_module_version": "1.2.0",
      "_view_name": "LayoutView",
      "align_content": null,
      "align_items": null,
      "align_self": null,
      "border": null,
      "bottom": null,
      "display": null,
      "flex": null,
      "flex_flow": null,
      "grid_area": null,
      "grid_auto_columns": null,
      "grid_auto_flow": null,
      "grid_auto_rows": null,
      "grid_column": null,
      "grid_gap": null,
      "grid_row": null,
      "grid_template_areas": null,
      "grid_template_columns": null,
      "grid_template_rows": null,
      "height": null,
      "justify_content": null,
      "justify_items": null,
      "left": null,
      "margin": null,
      "max_height": null,
      "max_width": null,
      "min_height": null,
      "min_width": null,
      "object_fit": null,
      "object_position": null,
      "order": null,
      "overflow": null,
      "overflow_x": null,
      "overflow_y": null,
      "padding": null,
      "right": null,
      "top": null,
      "visibility": null,
      "width": null
     }
    },
    "c0c9efef75144343a05299de8b3759f8": {
     "model_module": "@jupyter-widgets/base",
     "model_name": "LayoutModel",
     "state": {
      "_model_module": "@jupyter-widgets/base",
      "_model_module_version": "1.2.0",
      "_model_name": "LayoutModel",
      "_view_count": null,
      "_view_module": "@jupyter-widgets/base",
      "_view_module_version": "1.2.0",
      "_view_name": "LayoutView",
      "align_content": null,
      "align_items": null,
      "align_self": null,
      "border": null,
      "bottom": null,
      "display": null,
      "flex": null,
      "flex_flow": null,
      "grid_area": null,
      "grid_auto_columns": null,
      "grid_auto_flow": null,
      "grid_auto_rows": null,
      "grid_column": null,
      "grid_gap": null,
      "grid_row": null,
      "grid_template_areas": null,
      "grid_template_columns": null,
      "grid_template_rows": null,
      "height": null,
      "justify_content": null,
      "justify_items": null,
      "left": null,
      "margin": null,
      "max_height": null,
      "max_width": null,
      "min_height": null,
      "min_width": null,
      "object_fit": null,
      "object_position": null,
      "order": null,
      "overflow": null,
      "overflow_x": null,
      "overflow_y": null,
      "padding": null,
      "right": null,
      "top": null,
      "visibility": null,
      "width": null
     }
    },
    "c29bb2b9255c47d79d5c6db97f5b3cde": {
     "model_module": "@jupyter-widgets/controls",
     "model_name": "HTMLModel",
     "state": {
      "_dom_classes": [],
      "_model_module": "@jupyter-widgets/controls",
      "_model_module_version": "1.5.0",
      "_model_name": "HTMLModel",
      "_view_count": null,
      "_view_module": "@jupyter-widgets/controls",
      "_view_module_version": "1.5.0",
      "_view_name": "HTMLView",
      "description": "",
      "description_tooltip": null,
      "layout": "IPY_MODEL_f90b98d4804e47e7b3f46be49b31ca8a",
      "placeholder": "​",
      "style": "IPY_MODEL_e7d6f7d0ecb84fb5a7f0ce46a8554054",
      "value": " 320/320 [11:21&lt;00:00,  2.13s/it]"
     }
    },
    "c2f88934db4e4bc5bc4336309fd0d2a7": {
     "model_module": "@jupyter-widgets/base",
     "model_name": "LayoutModel",
     "state": {
      "_model_module": "@jupyter-widgets/base",
      "_model_module_version": "1.2.0",
      "_model_name": "LayoutModel",
      "_view_count": null,
      "_view_module": "@jupyter-widgets/base",
      "_view_module_version": "1.2.0",
      "_view_name": "LayoutView",
      "align_content": null,
      "align_items": null,
      "align_self": null,
      "border": null,
      "bottom": null,
      "display": null,
      "flex": null,
      "flex_flow": null,
      "grid_area": null,
      "grid_auto_columns": null,
      "grid_auto_flow": null,
      "grid_auto_rows": null,
      "grid_column": null,
      "grid_gap": null,
      "grid_row": null,
      "grid_template_areas": null,
      "grid_template_columns": null,
      "grid_template_rows": null,
      "height": null,
      "justify_content": null,
      "justify_items": null,
      "left": null,
      "margin": null,
      "max_height": null,
      "max_width": null,
      "min_height": null,
      "min_width": null,
      "object_fit": null,
      "object_position": null,
      "order": null,
      "overflow": null,
      "overflow_x": null,
      "overflow_y": null,
      "padding": null,
      "right": null,
      "top": null,
      "visibility": null,
      "width": null
     }
    },
    "c2fa7e5c37734bef808ab8d8c1ee5be2": {
     "model_module": "@jupyter-widgets/controls",
     "model_name": "FloatProgressModel",
     "state": {
      "_dom_classes": [],
      "_model_module": "@jupyter-widgets/controls",
      "_model_module_version": "1.5.0",
      "_model_name": "FloatProgressModel",
      "_view_count": null,
      "_view_module": "@jupyter-widgets/controls",
      "_view_module_version": "1.5.0",
      "_view_name": "ProgressView",
      "bar_style": "success",
      "description": "100%",
      "description_tooltip": null,
      "layout": "IPY_MODEL_74a7663d744240159a170c999f31e7a5",
      "max": 5000,
      "min": 0,
      "orientation": "horizontal",
      "style": "IPY_MODEL_0597f0fe4abc4a15b9ea91d28dd9b347",
      "value": 5000
     }
    },
    "c32233fbf5f94510a617c9eb237dbb5a": {
     "model_module": "@jupyter-widgets/controls",
     "model_name": "HTMLModel",
     "state": {
      "_dom_classes": [],
      "_model_module": "@jupyter-widgets/controls",
      "_model_module_version": "1.5.0",
      "_model_name": "HTMLModel",
      "_view_count": null,
      "_view_module": "@jupyter-widgets/controls",
      "_view_module_version": "1.5.0",
      "_view_name": "HTMLView",
      "description": "",
      "description_tooltip": null,
      "layout": "IPY_MODEL_5d2ae9983b5744b0af817b5296a29b8b",
      "placeholder": "​",
      "style": "IPY_MODEL_41ad0205a5124f3d92d6b12f016adbac",
      "value": " 320/320 [11:20&lt;00:00,  2.13s/it]"
     }
    },
    "c3e0f870fa50456dad652f3fc7d36af5": {
     "model_module": "@jupyter-widgets/controls",
     "model_name": "DescriptionStyleModel",
     "state": {
      "_model_module": "@jupyter-widgets/controls",
      "_model_module_version": "1.5.0",
      "_model_name": "DescriptionStyleModel",
      "_view_count": null,
      "_view_module": "@jupyter-widgets/base",
      "_view_module_version": "1.2.0",
      "_view_name": "StyleView",
      "description_width": ""
     }
    },
    "c4288ee3ac5a419d9502dae2724cbcd4": {
     "model_module": "@jupyter-widgets/base",
     "model_name": "LayoutModel",
     "state": {
      "_model_module": "@jupyter-widgets/base",
      "_model_module_version": "1.2.0",
      "_model_name": "LayoutModel",
      "_view_count": null,
      "_view_module": "@jupyter-widgets/base",
      "_view_module_version": "1.2.0",
      "_view_name": "LayoutView",
      "align_content": null,
      "align_items": null,
      "align_self": null,
      "border": null,
      "bottom": null,
      "display": null,
      "flex": null,
      "flex_flow": null,
      "grid_area": null,
      "grid_auto_columns": null,
      "grid_auto_flow": null,
      "grid_auto_rows": null,
      "grid_column": null,
      "grid_gap": null,
      "grid_row": null,
      "grid_template_areas": null,
      "grid_template_columns": null,
      "grid_template_rows": null,
      "height": null,
      "justify_content": null,
      "justify_items": null,
      "left": null,
      "margin": null,
      "max_height": null,
      "max_width": null,
      "min_height": null,
      "min_width": null,
      "object_fit": null,
      "object_position": null,
      "order": null,
      "overflow": null,
      "overflow_x": null,
      "overflow_y": null,
      "padding": null,
      "right": null,
      "top": null,
      "visibility": null,
      "width": null
     }
    },
    "c5b0419e2be64404a9320a04c9a807d7": {
     "model_module": "@jupyter-widgets/controls",
     "model_name": "FloatProgressModel",
     "state": {
      "_dom_classes": [],
      "_model_module": "@jupyter-widgets/controls",
      "_model_module_version": "1.5.0",
      "_model_name": "FloatProgressModel",
      "_view_count": null,
      "_view_module": "@jupyter-widgets/controls",
      "_view_module_version": "1.5.0",
      "_view_name": "ProgressView",
      "bar_style": "success",
      "description": "100%",
      "description_tooltip": null,
      "layout": "IPY_MODEL_7d4b36da09ad48d99dd100ef67947f8b",
      "max": 320,
      "min": 0,
      "orientation": "horizontal",
      "style": "IPY_MODEL_035eaeebd9ef41469d6b0e1e43cb9b12",
      "value": 320
     }
    },
    "c82d375693b943d99eca410eb1b2b3c5": {
     "model_module": "@jupyter-widgets/controls",
     "model_name": "DescriptionStyleModel",
     "state": {
      "_model_module": "@jupyter-widgets/controls",
      "_model_module_version": "1.5.0",
      "_model_name": "DescriptionStyleModel",
      "_view_count": null,
      "_view_module": "@jupyter-widgets/base",
      "_view_module_version": "1.2.0",
      "_view_name": "StyleView",
      "description_width": ""
     }
    },
    "c8b39c5990c6408fa05b2eefb591276e": {
     "model_module": "@jupyter-widgets/controls",
     "model_name": "HBoxModel",
     "state": {
      "_dom_classes": [],
      "_model_module": "@jupyter-widgets/controls",
      "_model_module_version": "1.5.0",
      "_model_name": "HBoxModel",
      "_view_count": null,
      "_view_module": "@jupyter-widgets/controls",
      "_view_module_version": "1.5.0",
      "_view_name": "HBoxView",
      "box_style": "",
      "children": [
       "IPY_MODEL_b3441ece82b8441595ba60458737f40a",
       "IPY_MODEL_7b54a860e68b403aab493256f00dd5cc"
      ],
      "layout": "IPY_MODEL_e92dddbf7673462cbd6a452981d1eb01"
     }
    },
    "caea7e96fe56410999cd1e58d8d8465d": {
     "model_module": "@jupyter-widgets/base",
     "model_name": "LayoutModel",
     "state": {
      "_model_module": "@jupyter-widgets/base",
      "_model_module_version": "1.2.0",
      "_model_name": "LayoutModel",
      "_view_count": null,
      "_view_module": "@jupyter-widgets/base",
      "_view_module_version": "1.2.0",
      "_view_name": "LayoutView",
      "align_content": null,
      "align_items": null,
      "align_self": null,
      "border": null,
      "bottom": null,
      "display": null,
      "flex": null,
      "flex_flow": null,
      "grid_area": null,
      "grid_auto_columns": null,
      "grid_auto_flow": null,
      "grid_auto_rows": null,
      "grid_column": null,
      "grid_gap": null,
      "grid_row": null,
      "grid_template_areas": null,
      "grid_template_columns": null,
      "grid_template_rows": null,
      "height": null,
      "justify_content": null,
      "justify_items": null,
      "left": null,
      "margin": null,
      "max_height": null,
      "max_width": null,
      "min_height": null,
      "min_width": null,
      "object_fit": null,
      "object_position": null,
      "order": null,
      "overflow": null,
      "overflow_x": null,
      "overflow_y": null,
      "padding": null,
      "right": null,
      "top": null,
      "visibility": null,
      "width": null
     }
    },
    "cd9fbb8b31c3404eb823b8c85bfb9ed3": {
     "model_module": "@jupyter-widgets/base",
     "model_name": "LayoutModel",
     "state": {
      "_model_module": "@jupyter-widgets/base",
      "_model_module_version": "1.2.0",
      "_model_name": "LayoutModel",
      "_view_count": null,
      "_view_module": "@jupyter-widgets/base",
      "_view_module_version": "1.2.0",
      "_view_name": "LayoutView",
      "align_content": null,
      "align_items": null,
      "align_self": null,
      "border": null,
      "bottom": null,
      "display": null,
      "flex": null,
      "flex_flow": null,
      "grid_area": null,
      "grid_auto_columns": null,
      "grid_auto_flow": null,
      "grid_auto_rows": null,
      "grid_column": null,
      "grid_gap": null,
      "grid_row": null,
      "grid_template_areas": null,
      "grid_template_columns": null,
      "grid_template_rows": null,
      "height": null,
      "justify_content": null,
      "justify_items": null,
      "left": null,
      "margin": null,
      "max_height": null,
      "max_width": null,
      "min_height": null,
      "min_width": null,
      "object_fit": null,
      "object_position": null,
      "order": null,
      "overflow": null,
      "overflow_x": null,
      "overflow_y": null,
      "padding": null,
      "right": null,
      "top": null,
      "visibility": null,
      "width": null
     }
    },
    "cdea0e32f6144511a24fda4cd56c7d8e": {
     "model_module": "@jupyter-widgets/base",
     "model_name": "LayoutModel",
     "state": {
      "_model_module": "@jupyter-widgets/base",
      "_model_module_version": "1.2.0",
      "_model_name": "LayoutModel",
      "_view_count": null,
      "_view_module": "@jupyter-widgets/base",
      "_view_module_version": "1.2.0",
      "_view_name": "LayoutView",
      "align_content": null,
      "align_items": null,
      "align_self": null,
      "border": null,
      "bottom": null,
      "display": null,
      "flex": null,
      "flex_flow": null,
      "grid_area": null,
      "grid_auto_columns": null,
      "grid_auto_flow": null,
      "grid_auto_rows": null,
      "grid_column": null,
      "grid_gap": null,
      "grid_row": null,
      "grid_template_areas": null,
      "grid_template_columns": null,
      "grid_template_rows": null,
      "height": null,
      "justify_content": null,
      "justify_items": null,
      "left": null,
      "margin": null,
      "max_height": null,
      "max_width": null,
      "min_height": null,
      "min_width": null,
      "object_fit": null,
      "object_position": null,
      "order": null,
      "overflow": null,
      "overflow_x": null,
      "overflow_y": null,
      "padding": null,
      "right": null,
      "top": null,
      "visibility": null,
      "width": null
     }
    },
    "ce9ec5a054ca401cbdf278fbbff08dcc": {
     "model_module": "@jupyter-widgets/base",
     "model_name": "LayoutModel",
     "state": {
      "_model_module": "@jupyter-widgets/base",
      "_model_module_version": "1.2.0",
      "_model_name": "LayoutModel",
      "_view_count": null,
      "_view_module": "@jupyter-widgets/base",
      "_view_module_version": "1.2.0",
      "_view_name": "LayoutView",
      "align_content": null,
      "align_items": null,
      "align_self": null,
      "border": null,
      "bottom": null,
      "display": null,
      "flex": null,
      "flex_flow": null,
      "grid_area": null,
      "grid_auto_columns": null,
      "grid_auto_flow": null,
      "grid_auto_rows": null,
      "grid_column": null,
      "grid_gap": null,
      "grid_row": null,
      "grid_template_areas": null,
      "grid_template_columns": null,
      "grid_template_rows": null,
      "height": null,
      "justify_content": null,
      "justify_items": null,
      "left": null,
      "margin": null,
      "max_height": null,
      "max_width": null,
      "min_height": null,
      "min_width": null,
      "object_fit": null,
      "object_position": null,
      "order": null,
      "overflow": null,
      "overflow_x": null,
      "overflow_y": null,
      "padding": null,
      "right": null,
      "top": null,
      "visibility": null,
      "width": null
     }
    },
    "cfae2511bcc04da38339956c2f961f9b": {
     "model_module": "@jupyter-widgets/base",
     "model_name": "LayoutModel",
     "state": {
      "_model_module": "@jupyter-widgets/base",
      "_model_module_version": "1.2.0",
      "_model_name": "LayoutModel",
      "_view_count": null,
      "_view_module": "@jupyter-widgets/base",
      "_view_module_version": "1.2.0",
      "_view_name": "LayoutView",
      "align_content": null,
      "align_items": null,
      "align_self": null,
      "border": null,
      "bottom": null,
      "display": null,
      "flex": null,
      "flex_flow": null,
      "grid_area": null,
      "grid_auto_columns": null,
      "grid_auto_flow": null,
      "grid_auto_rows": null,
      "grid_column": null,
      "grid_gap": null,
      "grid_row": null,
      "grid_template_areas": null,
      "grid_template_columns": null,
      "grid_template_rows": null,
      "height": null,
      "justify_content": null,
      "justify_items": null,
      "left": null,
      "margin": null,
      "max_height": null,
      "max_width": null,
      "min_height": null,
      "min_width": null,
      "object_fit": null,
      "object_position": null,
      "order": null,
      "overflow": null,
      "overflow_x": null,
      "overflow_y": null,
      "padding": null,
      "right": null,
      "top": null,
      "visibility": null,
      "width": null
     }
    },
    "cfc15bb1e31341e2b5296914cfb35658": {
     "model_module": "@jupyter-widgets/controls",
     "model_name": "FloatProgressModel",
     "state": {
      "_dom_classes": [],
      "_model_module": "@jupyter-widgets/controls",
      "_model_module_version": "1.5.0",
      "_model_name": "FloatProgressModel",
      "_view_count": null,
      "_view_module": "@jupyter-widgets/controls",
      "_view_module_version": "1.5.0",
      "_view_name": "ProgressView",
      "bar_style": "success",
      "description": "100%",
      "description_tooltip": null,
      "layout": "IPY_MODEL_52aaa6ee7116471ca083604ba59f52c6",
      "max": 20465,
      "min": 0,
      "orientation": "horizontal",
      "style": "IPY_MODEL_b58b1ebf41fc4610b8ce61a32582285f",
      "value": 20465
     }
    },
    "d3b34a89650c47608b6437759bd71d2d": {
     "model_module": "@jupyter-widgets/controls",
     "model_name": "HBoxModel",
     "state": {
      "_dom_classes": [],
      "_model_module": "@jupyter-widgets/controls",
      "_model_module_version": "1.5.0",
      "_model_name": "HBoxModel",
      "_view_count": null,
      "_view_module": "@jupyter-widgets/controls",
      "_view_module_version": "1.5.0",
      "_view_name": "HBoxView",
      "box_style": "",
      "children": [
       "IPY_MODEL_143b5e7f4f354310b6ed9854d38ad2a3",
       "IPY_MODEL_45de4712717f46f9912aa776b157ceef"
      ],
      "layout": "IPY_MODEL_5eb967f22a8647d3956d353c92f8c4ab"
     }
    },
    "d4e45a206fa6438aabf4f1609a55100b": {
     "model_module": "@jupyter-widgets/base",
     "model_name": "LayoutModel",
     "state": {
      "_model_module": "@jupyter-widgets/base",
      "_model_module_version": "1.2.0",
      "_model_name": "LayoutModel",
      "_view_count": null,
      "_view_module": "@jupyter-widgets/base",
      "_view_module_version": "1.2.0",
      "_view_name": "LayoutView",
      "align_content": null,
      "align_items": null,
      "align_self": null,
      "border": null,
      "bottom": null,
      "display": null,
      "flex": null,
      "flex_flow": null,
      "grid_area": null,
      "grid_auto_columns": null,
      "grid_auto_flow": null,
      "grid_auto_rows": null,
      "grid_column": null,
      "grid_gap": null,
      "grid_row": null,
      "grid_template_areas": null,
      "grid_template_columns": null,
      "grid_template_rows": null,
      "height": null,
      "justify_content": null,
      "justify_items": null,
      "left": null,
      "margin": null,
      "max_height": null,
      "max_width": null,
      "min_height": null,
      "min_width": null,
      "object_fit": null,
      "object_position": null,
      "order": null,
      "overflow": null,
      "overflow_x": null,
      "overflow_y": null,
      "padding": null,
      "right": null,
      "top": null,
      "visibility": null,
      "width": null
     }
    },
    "d59520399ae94fb28f11686e5bc0a23d": {
     "model_module": "@jupyter-widgets/base",
     "model_name": "LayoutModel",
     "state": {
      "_model_module": "@jupyter-widgets/base",
      "_model_module_version": "1.2.0",
      "_model_name": "LayoutModel",
      "_view_count": null,
      "_view_module": "@jupyter-widgets/base",
      "_view_module_version": "1.2.0",
      "_view_name": "LayoutView",
      "align_content": null,
      "align_items": null,
      "align_self": null,
      "border": null,
      "bottom": null,
      "display": null,
      "flex": null,
      "flex_flow": null,
      "grid_area": null,
      "grid_auto_columns": null,
      "grid_auto_flow": null,
      "grid_auto_rows": null,
      "grid_column": null,
      "grid_gap": null,
      "grid_row": null,
      "grid_template_areas": null,
      "grid_template_columns": null,
      "grid_template_rows": null,
      "height": null,
      "justify_content": null,
      "justify_items": null,
      "left": null,
      "margin": null,
      "max_height": null,
      "max_width": null,
      "min_height": null,
      "min_width": null,
      "object_fit": null,
      "object_position": null,
      "order": null,
      "overflow": null,
      "overflow_x": null,
      "overflow_y": null,
      "padding": null,
      "right": null,
      "top": null,
      "visibility": null,
      "width": null
     }
    },
    "d76bd8b32fef4ba4bc6e1faa53f9e760": {
     "model_module": "@jupyter-widgets/controls",
     "model_name": "DescriptionStyleModel",
     "state": {
      "_model_module": "@jupyter-widgets/controls",
      "_model_module_version": "1.5.0",
      "_model_name": "DescriptionStyleModel",
      "_view_count": null,
      "_view_module": "@jupyter-widgets/base",
      "_view_module_version": "1.2.0",
      "_view_name": "StyleView",
      "description_width": ""
     }
    },
    "d7f5bce6cf774ecbb4aeac5aba85e595": {
     "model_module": "@jupyter-widgets/base",
     "model_name": "LayoutModel",
     "state": {
      "_model_module": "@jupyter-widgets/base",
      "_model_module_version": "1.2.0",
      "_model_name": "LayoutModel",
      "_view_count": null,
      "_view_module": "@jupyter-widgets/base",
      "_view_module_version": "1.2.0",
      "_view_name": "LayoutView",
      "align_content": null,
      "align_items": null,
      "align_self": null,
      "border": null,
      "bottom": null,
      "display": null,
      "flex": null,
      "flex_flow": null,
      "grid_area": null,
      "grid_auto_columns": null,
      "grid_auto_flow": null,
      "grid_auto_rows": null,
      "grid_column": null,
      "grid_gap": null,
      "grid_row": null,
      "grid_template_areas": null,
      "grid_template_columns": null,
      "grid_template_rows": null,
      "height": null,
      "justify_content": null,
      "justify_items": null,
      "left": null,
      "margin": null,
      "max_height": null,
      "max_width": null,
      "min_height": null,
      "min_width": null,
      "object_fit": null,
      "object_position": null,
      "order": null,
      "overflow": null,
      "overflow_x": null,
      "overflow_y": null,
      "padding": null,
      "right": null,
      "top": null,
      "visibility": null,
      "width": null
     }
    },
    "d8f0b4f553d644d5984eed99f3e810a4": {
     "model_module": "@jupyter-widgets/base",
     "model_name": "LayoutModel",
     "state": {
      "_model_module": "@jupyter-widgets/base",
      "_model_module_version": "1.2.0",
      "_model_name": "LayoutModel",
      "_view_count": null,
      "_view_module": "@jupyter-widgets/base",
      "_view_module_version": "1.2.0",
      "_view_name": "LayoutView",
      "align_content": null,
      "align_items": null,
      "align_self": null,
      "border": null,
      "bottom": null,
      "display": null,
      "flex": null,
      "flex_flow": null,
      "grid_area": null,
      "grid_auto_columns": null,
      "grid_auto_flow": null,
      "grid_auto_rows": null,
      "grid_column": null,
      "grid_gap": null,
      "grid_row": null,
      "grid_template_areas": null,
      "grid_template_columns": null,
      "grid_template_rows": null,
      "height": null,
      "justify_content": null,
      "justify_items": null,
      "left": null,
      "margin": null,
      "max_height": null,
      "max_width": null,
      "min_height": null,
      "min_width": null,
      "object_fit": null,
      "object_position": null,
      "order": null,
      "overflow": null,
      "overflow_x": null,
      "overflow_y": null,
      "padding": null,
      "right": null,
      "top": null,
      "visibility": null,
      "width": null
     }
    },
    "d92e8dae714540c78e3d0ca7bedc06e5": {
     "model_module": "@jupyter-widgets/controls",
     "model_name": "HBoxModel",
     "state": {
      "_dom_classes": [],
      "_model_module": "@jupyter-widgets/controls",
      "_model_module_version": "1.5.0",
      "_model_name": "HBoxModel",
      "_view_count": null,
      "_view_module": "@jupyter-widgets/controls",
      "_view_module_version": "1.5.0",
      "_view_name": "HBoxView",
      "box_style": "",
      "children": [
       "IPY_MODEL_c5b0419e2be64404a9320a04c9a807d7",
       "IPY_MODEL_b74ee5f38473472bb8314333d7d44565"
      ],
      "layout": "IPY_MODEL_0e7a53cc43e74179abd3f929a46253e8"
     }
    },
    "d9e135d5bfd1499caecb1a826dac9964": {
     "model_module": "@jupyter-widgets/controls",
     "model_name": "DescriptionStyleModel",
     "state": {
      "_model_module": "@jupyter-widgets/controls",
      "_model_module_version": "1.5.0",
      "_model_name": "DescriptionStyleModel",
      "_view_count": null,
      "_view_module": "@jupyter-widgets/base",
      "_view_module_version": "1.2.0",
      "_view_name": "StyleView",
      "description_width": ""
     }
    },
    "dbdc28045c524622b433deb4407ae10e": {
     "model_module": "@jupyter-widgets/controls",
     "model_name": "ProgressStyleModel",
     "state": {
      "_model_module": "@jupyter-widgets/controls",
      "_model_module_version": "1.5.0",
      "_model_name": "ProgressStyleModel",
      "_view_count": null,
      "_view_module": "@jupyter-widgets/base",
      "_view_module_version": "1.2.0",
      "_view_name": "StyleView",
      "bar_color": null,
      "description_width": "initial"
     }
    },
    "dec8af1eb9c84cb28f789cf586779cd7": {
     "model_module": "@jupyter-widgets/controls",
     "model_name": "HTMLModel",
     "state": {
      "_dom_classes": [],
      "_model_module": "@jupyter-widgets/controls",
      "_model_module_version": "1.5.0",
      "_model_name": "HTMLModel",
      "_view_count": null,
      "_view_module": "@jupyter-widgets/controls",
      "_view_module_version": "1.5.0",
      "_view_name": "HTMLView",
      "description": "",
      "description_tooltip": null,
      "layout": "IPY_MODEL_054aac1bea1b4024a61cd3833dabb818",
      "placeholder": "​",
      "style": "IPY_MODEL_22ebf897df9a4d7093b8679a734ed3fd",
      "value": " 320/320 [28:19&lt;00:00,  5.31s/it]"
     }
    },
    "dedf265c057c469abb502048936e07aa": {
     "model_module": "@jupyter-widgets/controls",
     "model_name": "DescriptionStyleModel",
     "state": {
      "_model_module": "@jupyter-widgets/controls",
      "_model_module_version": "1.5.0",
      "_model_name": "DescriptionStyleModel",
      "_view_count": null,
      "_view_module": "@jupyter-widgets/base",
      "_view_module_version": "1.2.0",
      "_view_name": "StyleView",
      "description_width": ""
     }
    },
    "e1c1bd11eef84e2aa7132f551bf8fa9f": {
     "model_module": "@jupyter-widgets/controls",
     "model_name": "DescriptionStyleModel",
     "state": {
      "_model_module": "@jupyter-widgets/controls",
      "_model_module_version": "1.5.0",
      "_model_name": "DescriptionStyleModel",
      "_view_count": null,
      "_view_module": "@jupyter-widgets/base",
      "_view_module_version": "1.2.0",
      "_view_name": "StyleView",
      "description_width": ""
     }
    },
    "e35a32566ffb42c299c6fadeb4efad00": {
     "model_module": "@jupyter-widgets/controls",
     "model_name": "DescriptionStyleModel",
     "state": {
      "_model_module": "@jupyter-widgets/controls",
      "_model_module_version": "1.5.0",
      "_model_name": "DescriptionStyleModel",
      "_view_count": null,
      "_view_module": "@jupyter-widgets/base",
      "_view_module_version": "1.2.0",
      "_view_name": "StyleView",
      "description_width": ""
     }
    },
    "e432fbae7cd044ba836fe37817d72448": {
     "model_module": "@jupyter-widgets/base",
     "model_name": "LayoutModel",
     "state": {
      "_model_module": "@jupyter-widgets/base",
      "_model_module_version": "1.2.0",
      "_model_name": "LayoutModel",
      "_view_count": null,
      "_view_module": "@jupyter-widgets/base",
      "_view_module_version": "1.2.0",
      "_view_name": "LayoutView",
      "align_content": null,
      "align_items": null,
      "align_self": null,
      "border": null,
      "bottom": null,
      "display": null,
      "flex": null,
      "flex_flow": null,
      "grid_area": null,
      "grid_auto_columns": null,
      "grid_auto_flow": null,
      "grid_auto_rows": null,
      "grid_column": null,
      "grid_gap": null,
      "grid_row": null,
      "grid_template_areas": null,
      "grid_template_columns": null,
      "grid_template_rows": null,
      "height": null,
      "justify_content": null,
      "justify_items": null,
      "left": null,
      "margin": null,
      "max_height": null,
      "max_width": null,
      "min_height": null,
      "min_width": null,
      "object_fit": null,
      "object_position": null,
      "order": null,
      "overflow": null,
      "overflow_x": null,
      "overflow_y": null,
      "padding": null,
      "right": null,
      "top": null,
      "visibility": null,
      "width": null
     }
    },
    "e5a2a3fce75948acbbe88d7c5b223fbc": {
     "model_module": "@jupyter-widgets/controls",
     "model_name": "ProgressStyleModel",
     "state": {
      "_model_module": "@jupyter-widgets/controls",
      "_model_module_version": "1.5.0",
      "_model_name": "ProgressStyleModel",
      "_view_count": null,
      "_view_module": "@jupyter-widgets/base",
      "_view_module_version": "1.2.0",
      "_view_name": "StyleView",
      "bar_color": null,
      "description_width": "initial"
     }
    },
    "e7b7382b74a04a9da987be7714b75830": {
     "model_module": "@jupyter-widgets/base",
     "model_name": "LayoutModel",
     "state": {
      "_model_module": "@jupyter-widgets/base",
      "_model_module_version": "1.2.0",
      "_model_name": "LayoutModel",
      "_view_count": null,
      "_view_module": "@jupyter-widgets/base",
      "_view_module_version": "1.2.0",
      "_view_name": "LayoutView",
      "align_content": null,
      "align_items": null,
      "align_self": null,
      "border": null,
      "bottom": null,
      "display": null,
      "flex": null,
      "flex_flow": null,
      "grid_area": null,
      "grid_auto_columns": null,
      "grid_auto_flow": null,
      "grid_auto_rows": null,
      "grid_column": null,
      "grid_gap": null,
      "grid_row": null,
      "grid_template_areas": null,
      "grid_template_columns": null,
      "grid_template_rows": null,
      "height": null,
      "justify_content": null,
      "justify_items": null,
      "left": null,
      "margin": null,
      "max_height": null,
      "max_width": null,
      "min_height": null,
      "min_width": null,
      "object_fit": null,
      "object_position": null,
      "order": null,
      "overflow": null,
      "overflow_x": null,
      "overflow_y": null,
      "padding": null,
      "right": null,
      "top": null,
      "visibility": null,
      "width": null
     }
    },
    "e7d6f7d0ecb84fb5a7f0ce46a8554054": {
     "model_module": "@jupyter-widgets/controls",
     "model_name": "DescriptionStyleModel",
     "state": {
      "_model_module": "@jupyter-widgets/controls",
      "_model_module_version": "1.5.0",
      "_model_name": "DescriptionStyleModel",
      "_view_count": null,
      "_view_module": "@jupyter-widgets/base",
      "_view_module_version": "1.2.0",
      "_view_name": "StyleView",
      "description_width": ""
     }
    },
    "e8c193b2ae2647178f66b48559c6524c": {
     "model_module": "@jupyter-widgets/base",
     "model_name": "LayoutModel",
     "state": {
      "_model_module": "@jupyter-widgets/base",
      "_model_module_version": "1.2.0",
      "_model_name": "LayoutModel",
      "_view_count": null,
      "_view_module": "@jupyter-widgets/base",
      "_view_module_version": "1.2.0",
      "_view_name": "LayoutView",
      "align_content": null,
      "align_items": null,
      "align_self": null,
      "border": null,
      "bottom": null,
      "display": null,
      "flex": null,
      "flex_flow": null,
      "grid_area": null,
      "grid_auto_columns": null,
      "grid_auto_flow": null,
      "grid_auto_rows": null,
      "grid_column": null,
      "grid_gap": null,
      "grid_row": null,
      "grid_template_areas": null,
      "grid_template_columns": null,
      "grid_template_rows": null,
      "height": null,
      "justify_content": null,
      "justify_items": null,
      "left": null,
      "margin": null,
      "max_height": null,
      "max_width": null,
      "min_height": null,
      "min_width": null,
      "object_fit": null,
      "object_position": null,
      "order": null,
      "overflow": null,
      "overflow_x": null,
      "overflow_y": null,
      "padding": null,
      "right": null,
      "top": null,
      "visibility": null,
      "width": null
     }
    },
    "e92dddbf7673462cbd6a452981d1eb01": {
     "model_module": "@jupyter-widgets/base",
     "model_name": "LayoutModel",
     "state": {
      "_model_module": "@jupyter-widgets/base",
      "_model_module_version": "1.2.0",
      "_model_name": "LayoutModel",
      "_view_count": null,
      "_view_module": "@jupyter-widgets/base",
      "_view_module_version": "1.2.0",
      "_view_name": "LayoutView",
      "align_content": null,
      "align_items": null,
      "align_self": null,
      "border": null,
      "bottom": null,
      "display": null,
      "flex": null,
      "flex_flow": null,
      "grid_area": null,
      "grid_auto_columns": null,
      "grid_auto_flow": null,
      "grid_auto_rows": null,
      "grid_column": null,
      "grid_gap": null,
      "grid_row": null,
      "grid_template_areas": null,
      "grid_template_columns": null,
      "grid_template_rows": null,
      "height": null,
      "justify_content": null,
      "justify_items": null,
      "left": null,
      "margin": null,
      "max_height": null,
      "max_width": null,
      "min_height": null,
      "min_width": null,
      "object_fit": null,
      "object_position": null,
      "order": null,
      "overflow": null,
      "overflow_x": null,
      "overflow_y": null,
      "padding": null,
      "right": null,
      "top": null,
      "visibility": null,
      "width": null
     }
    },
    "ea1215340c0b4fe7b57de2c38ea31edd": {
     "model_module": "@jupyter-widgets/controls",
     "model_name": "FloatProgressModel",
     "state": {
      "_dom_classes": [],
      "_model_module": "@jupyter-widgets/controls",
      "_model_module_version": "1.5.0",
      "_model_name": "FloatProgressModel",
      "_view_count": null,
      "_view_module": "@jupyter-widgets/controls",
      "_view_module_version": "1.5.0",
      "_view_name": "ProgressView",
      "bar_style": "success",
      "description": "100%",
      "description_tooltip": null,
      "layout": "IPY_MODEL_bdd1991bd9f44c759994c026b2933c72",
      "max": 320,
      "min": 0,
      "orientation": "horizontal",
      "style": "IPY_MODEL_72ee275ab9b74f4384eb429e92f6ab19",
      "value": 320
     }
    },
    "ea5f516c762e415f858f2775b8002f7d": {
     "model_module": "@jupyter-widgets/base",
     "model_name": "LayoutModel",
     "state": {
      "_model_module": "@jupyter-widgets/base",
      "_model_module_version": "1.2.0",
      "_model_name": "LayoutModel",
      "_view_count": null,
      "_view_module": "@jupyter-widgets/base",
      "_view_module_version": "1.2.0",
      "_view_name": "LayoutView",
      "align_content": null,
      "align_items": null,
      "align_self": null,
      "border": null,
      "bottom": null,
      "display": null,
      "flex": null,
      "flex_flow": null,
      "grid_area": null,
      "grid_auto_columns": null,
      "grid_auto_flow": null,
      "grid_auto_rows": null,
      "grid_column": null,
      "grid_gap": null,
      "grid_row": null,
      "grid_template_areas": null,
      "grid_template_columns": null,
      "grid_template_rows": null,
      "height": null,
      "justify_content": null,
      "justify_items": null,
      "left": null,
      "margin": null,
      "max_height": null,
      "max_width": null,
      "min_height": null,
      "min_width": null,
      "object_fit": null,
      "object_position": null,
      "order": null,
      "overflow": null,
      "overflow_x": null,
      "overflow_y": null,
      "padding": null,
      "right": null,
      "top": null,
      "visibility": null,
      "width": null
     }
    },
    "ebe7a43523184ae6b384f2f3fe2b943b": {
     "model_module": "@jupyter-widgets/controls",
     "model_name": "HTMLModel",
     "state": {
      "_dom_classes": [],
      "_model_module": "@jupyter-widgets/controls",
      "_model_module_version": "1.5.0",
      "_model_name": "HTMLModel",
      "_view_count": null,
      "_view_module": "@jupyter-widgets/controls",
      "_view_module_version": "1.5.0",
      "_view_name": "HTMLView",
      "description": "",
      "description_tooltip": null,
      "layout": "IPY_MODEL_81c4706b27774346b9bb7977a486cf64",
      "placeholder": "​",
      "style": "IPY_MODEL_e35a32566ffb42c299c6fadeb4efad00",
      "value": " 320/320 [11:19&lt;00:00,  2.12s/it]"
     }
    },
    "ec29c34008d9434daae939aee0ba5e56": {
     "model_module": "@jupyter-widgets/base",
     "model_name": "LayoutModel",
     "state": {
      "_model_module": "@jupyter-widgets/base",
      "_model_module_version": "1.2.0",
      "_model_name": "LayoutModel",
      "_view_count": null,
      "_view_module": "@jupyter-widgets/base",
      "_view_module_version": "1.2.0",
      "_view_name": "LayoutView",
      "align_content": null,
      "align_items": null,
      "align_self": null,
      "border": null,
      "bottom": null,
      "display": null,
      "flex": null,
      "flex_flow": null,
      "grid_area": null,
      "grid_auto_columns": null,
      "grid_auto_flow": null,
      "grid_auto_rows": null,
      "grid_column": null,
      "grid_gap": null,
      "grid_row": null,
      "grid_template_areas": null,
      "grid_template_columns": null,
      "grid_template_rows": null,
      "height": null,
      "justify_content": null,
      "justify_items": null,
      "left": null,
      "margin": null,
      "max_height": null,
      "max_width": null,
      "min_height": null,
      "min_width": null,
      "object_fit": null,
      "object_position": null,
      "order": null,
      "overflow": null,
      "overflow_x": null,
      "overflow_y": null,
      "padding": null,
      "right": null,
      "top": null,
      "visibility": null,
      "width": null
     }
    },
    "ee04a175569849e3ada4a414e75bc2d7": {
     "model_module": "@jupyter-widgets/controls",
     "model_name": "HBoxModel",
     "state": {
      "_dom_classes": [],
      "_model_module": "@jupyter-widgets/controls",
      "_model_module_version": "1.5.0",
      "_model_name": "HBoxModel",
      "_view_count": null,
      "_view_module": "@jupyter-widgets/controls",
      "_view_module_version": "1.5.0",
      "_view_name": "HBoxView",
      "box_style": "",
      "children": [
       "IPY_MODEL_6bf56028f934402da8c6b2a9de1f011e",
       "IPY_MODEL_2486647da43a4155b937d5f47e3b0114"
      ],
      "layout": "IPY_MODEL_ae32186d7ba64e949d16dc2da73ac0b3"
     }
    },
    "ef7b041df96343cc80b85e9b2cae394b": {
     "model_module": "@jupyter-widgets/controls",
     "model_name": "DescriptionStyleModel",
     "state": {
      "_model_module": "@jupyter-widgets/controls",
      "_model_module_version": "1.5.0",
      "_model_name": "DescriptionStyleModel",
      "_view_count": null,
      "_view_module": "@jupyter-widgets/base",
      "_view_module_version": "1.2.0",
      "_view_name": "StyleView",
      "description_width": ""
     }
    },
    "f1756bf6ae384a14ba0d8bc0efe29c98": {
     "model_module": "@jupyter-widgets/controls",
     "model_name": "HBoxModel",
     "state": {
      "_dom_classes": [],
      "_model_module": "@jupyter-widgets/controls",
      "_model_module_version": "1.5.0",
      "_model_name": "HBoxModel",
      "_view_count": null,
      "_view_module": "@jupyter-widgets/controls",
      "_view_module_version": "1.5.0",
      "_view_name": "HBoxView",
      "box_style": "",
      "children": [
       "IPY_MODEL_32bef10d74104df2a2b1aebc44610282",
       "IPY_MODEL_f94b4fd280584aeb9c1c3105eafc199a"
      ],
      "layout": "IPY_MODEL_f452e67b69274675b9844f4e35aec409"
     }
    },
    "f18e9c5a966641729475f1ecacf14703": {
     "model_module": "@jupyter-widgets/base",
     "model_name": "LayoutModel",
     "state": {
      "_model_module": "@jupyter-widgets/base",
      "_model_module_version": "1.2.0",
      "_model_name": "LayoutModel",
      "_view_count": null,
      "_view_module": "@jupyter-widgets/base",
      "_view_module_version": "1.2.0",
      "_view_name": "LayoutView",
      "align_content": null,
      "align_items": null,
      "align_self": null,
      "border": null,
      "bottom": null,
      "display": null,
      "flex": null,
      "flex_flow": null,
      "grid_area": null,
      "grid_auto_columns": null,
      "grid_auto_flow": null,
      "grid_auto_rows": null,
      "grid_column": null,
      "grid_gap": null,
      "grid_row": null,
      "grid_template_areas": null,
      "grid_template_columns": null,
      "grid_template_rows": null,
      "height": null,
      "justify_content": null,
      "justify_items": null,
      "left": null,
      "margin": null,
      "max_height": null,
      "max_width": null,
      "min_height": null,
      "min_width": null,
      "object_fit": null,
      "object_position": null,
      "order": null,
      "overflow": null,
      "overflow_x": null,
      "overflow_y": null,
      "padding": null,
      "right": null,
      "top": null,
      "visibility": null,
      "width": null
     }
    },
    "f3c565e0bbd7482c97cec4d8605af69c": {
     "model_module": "@jupyter-widgets/base",
     "model_name": "LayoutModel",
     "state": {
      "_model_module": "@jupyter-widgets/base",
      "_model_module_version": "1.2.0",
      "_model_name": "LayoutModel",
      "_view_count": null,
      "_view_module": "@jupyter-widgets/base",
      "_view_module_version": "1.2.0",
      "_view_name": "LayoutView",
      "align_content": null,
      "align_items": null,
      "align_self": null,
      "border": null,
      "bottom": null,
      "display": null,
      "flex": null,
      "flex_flow": null,
      "grid_area": null,
      "grid_auto_columns": null,
      "grid_auto_flow": null,
      "grid_auto_rows": null,
      "grid_column": null,
      "grid_gap": null,
      "grid_row": null,
      "grid_template_areas": null,
      "grid_template_columns": null,
      "grid_template_rows": null,
      "height": null,
      "justify_content": null,
      "justify_items": null,
      "left": null,
      "margin": null,
      "max_height": null,
      "max_width": null,
      "min_height": null,
      "min_width": null,
      "object_fit": null,
      "object_position": null,
      "order": null,
      "overflow": null,
      "overflow_x": null,
      "overflow_y": null,
      "padding": null,
      "right": null,
      "top": null,
      "visibility": null,
      "width": null
     }
    },
    "f3f079d97e36410bbfd2367b7758f5ec": {
     "model_module": "@jupyter-widgets/controls",
     "model_name": "HBoxModel",
     "state": {
      "_dom_classes": [],
      "_model_module": "@jupyter-widgets/controls",
      "_model_module_version": "1.5.0",
      "_model_name": "HBoxModel",
      "_view_count": null,
      "_view_module": "@jupyter-widgets/controls",
      "_view_module_version": "1.5.0",
      "_view_name": "HBoxView",
      "box_style": "",
      "children": [
       "IPY_MODEL_315c7caaba1342ce8ca2ea6a27a8ead2",
       "IPY_MODEL_1b1f8e1261f747188b741212deb13b92"
      ],
      "layout": "IPY_MODEL_6d3e9eedce2c43c1997660ebfbc7954c"
     }
    },
    "f452e67b69274675b9844f4e35aec409": {
     "model_module": "@jupyter-widgets/base",
     "model_name": "LayoutModel",
     "state": {
      "_model_module": "@jupyter-widgets/base",
      "_model_module_version": "1.2.0",
      "_model_name": "LayoutModel",
      "_view_count": null,
      "_view_module": "@jupyter-widgets/base",
      "_view_module_version": "1.2.0",
      "_view_name": "LayoutView",
      "align_content": null,
      "align_items": null,
      "align_self": null,
      "border": null,
      "bottom": null,
      "display": null,
      "flex": null,
      "flex_flow": null,
      "grid_area": null,
      "grid_auto_columns": null,
      "grid_auto_flow": null,
      "grid_auto_rows": null,
      "grid_column": null,
      "grid_gap": null,
      "grid_row": null,
      "grid_template_areas": null,
      "grid_template_columns": null,
      "grid_template_rows": null,
      "height": null,
      "justify_content": null,
      "justify_items": null,
      "left": null,
      "margin": null,
      "max_height": null,
      "max_width": null,
      "min_height": null,
      "min_width": null,
      "object_fit": null,
      "object_position": null,
      "order": null,
      "overflow": null,
      "overflow_x": null,
      "overflow_y": null,
      "padding": null,
      "right": null,
      "top": null,
      "visibility": null,
      "width": null
     }
    },
    "f5b44b8d43f241bbaafa1a3f773ceed0": {
     "model_module": "@jupyter-widgets/base",
     "model_name": "LayoutModel",
     "state": {
      "_model_module": "@jupyter-widgets/base",
      "_model_module_version": "1.2.0",
      "_model_name": "LayoutModel",
      "_view_count": null,
      "_view_module": "@jupyter-widgets/base",
      "_view_module_version": "1.2.0",
      "_view_name": "LayoutView",
      "align_content": null,
      "align_items": null,
      "align_self": null,
      "border": null,
      "bottom": null,
      "display": null,
      "flex": null,
      "flex_flow": null,
      "grid_area": null,
      "grid_auto_columns": null,
      "grid_auto_flow": null,
      "grid_auto_rows": null,
      "grid_column": null,
      "grid_gap": null,
      "grid_row": null,
      "grid_template_areas": null,
      "grid_template_columns": null,
      "grid_template_rows": null,
      "height": null,
      "justify_content": null,
      "justify_items": null,
      "left": null,
      "margin": null,
      "max_height": null,
      "max_width": null,
      "min_height": null,
      "min_width": null,
      "object_fit": null,
      "object_position": null,
      "order": null,
      "overflow": null,
      "overflow_x": null,
      "overflow_y": null,
      "padding": null,
      "right": null,
      "top": null,
      "visibility": null,
      "width": null
     }
    },
    "f90b98d4804e47e7b3f46be49b31ca8a": {
     "model_module": "@jupyter-widgets/base",
     "model_name": "LayoutModel",
     "state": {
      "_model_module": "@jupyter-widgets/base",
      "_model_module_version": "1.2.0",
      "_model_name": "LayoutModel",
      "_view_count": null,
      "_view_module": "@jupyter-widgets/base",
      "_view_module_version": "1.2.0",
      "_view_name": "LayoutView",
      "align_content": null,
      "align_items": null,
      "align_self": null,
      "border": null,
      "bottom": null,
      "display": null,
      "flex": null,
      "flex_flow": null,
      "grid_area": null,
      "grid_auto_columns": null,
      "grid_auto_flow": null,
      "grid_auto_rows": null,
      "grid_column": null,
      "grid_gap": null,
      "grid_row": null,
      "grid_template_areas": null,
      "grid_template_columns": null,
      "grid_template_rows": null,
      "height": null,
      "justify_content": null,
      "justify_items": null,
      "left": null,
      "margin": null,
      "max_height": null,
      "max_width": null,
      "min_height": null,
      "min_width": null,
      "object_fit": null,
      "object_position": null,
      "order": null,
      "overflow": null,
      "overflow_x": null,
      "overflow_y": null,
      "padding": null,
      "right": null,
      "top": null,
      "visibility": null,
      "width": null
     }
    },
    "f94b4fd280584aeb9c1c3105eafc199a": {
     "model_module": "@jupyter-widgets/controls",
     "model_name": "HTMLModel",
     "state": {
      "_dom_classes": [],
      "_model_module": "@jupyter-widgets/controls",
      "_model_module_version": "1.5.0",
      "_model_name": "HTMLModel",
      "_view_count": null,
      "_view_module": "@jupyter-widgets/controls",
      "_view_module_version": "1.5.0",
      "_view_name": "HTMLView",
      "description": "",
      "description_tooltip": null,
      "layout": "IPY_MODEL_9a26a227e6904d838407dcc49faf9a4e",
      "placeholder": "​",
      "style": "IPY_MODEL_209862d8c75648dfa2b784a9ae6e057d",
      "value": " 320/320 [11:18&lt;00:00,  2.12s/it]"
     }
    },
    "fa6b9aa1e01d4203b1275ad2285329ea": {
     "model_module": "@jupyter-widgets/controls",
     "model_name": "HTMLModel",
     "state": {
      "_dom_classes": [],
      "_model_module": "@jupyter-widgets/controls",
      "_model_module_version": "1.5.0",
      "_model_name": "HTMLModel",
      "_view_count": null,
      "_view_module": "@jupyter-widgets/controls",
      "_view_module_version": "1.5.0",
      "_view_name": "HTMLView",
      "description": "",
      "description_tooltip": null,
      "layout": "IPY_MODEL_8c6e6e4397ea449d85a5f4d701f9dcae",
      "placeholder": "​",
      "style": "IPY_MODEL_c3e0f870fa50456dad652f3fc7d36af5",
      "value": " 320/320 [45:17&lt;00:00,  8.49s/it]"
     }
    },
    "fbf25959181e4865b7d997600649f976": {
     "model_module": "@jupyter-widgets/controls",
     "model_name": "DescriptionStyleModel",
     "state": {
      "_model_module": "@jupyter-widgets/controls",
      "_model_module_version": "1.5.0",
      "_model_name": "DescriptionStyleModel",
      "_view_count": null,
      "_view_module": "@jupyter-widgets/base",
      "_view_module_version": "1.2.0",
      "_view_name": "StyleView",
      "description_width": ""
     }
    },
    "fc26387683324a50ba7c578516dcb694": {
     "model_module": "@jupyter-widgets/controls",
     "model_name": "ProgressStyleModel",
     "state": {
      "_model_module": "@jupyter-widgets/controls",
      "_model_module_version": "1.5.0",
      "_model_name": "ProgressStyleModel",
      "_view_count": null,
      "_view_module": "@jupyter-widgets/base",
      "_view_module_version": "1.2.0",
      "_view_name": "StyleView",
      "bar_color": null,
      "description_width": "initial"
     }
    },
    "fe6b33631b5946a9a83d51e18d683ee4": {
     "model_module": "@jupyter-widgets/controls",
     "model_name": "HTMLModel",
     "state": {
      "_dom_classes": [],
      "_model_module": "@jupyter-widgets/controls",
      "_model_module_version": "1.5.0",
      "_model_name": "HTMLModel",
      "_view_count": null,
      "_view_module": "@jupyter-widgets/controls",
      "_view_module_version": "1.5.0",
      "_view_name": "HTMLView",
      "description": "",
      "description_tooltip": null,
      "layout": "IPY_MODEL_855f2ef49d25484592821b7716575fc6",
      "placeholder": "​",
      "style": "IPY_MODEL_ef7b041df96343cc80b85e9b2cae394b",
      "value": " 320/320 [1:02:14&lt;00:00, 11.67s/it]"
     }
    }
   }
  }
 },
 "nbformat": 4,
 "nbformat_minor": 1
}

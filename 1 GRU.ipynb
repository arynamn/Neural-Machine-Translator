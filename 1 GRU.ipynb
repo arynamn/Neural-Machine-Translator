{
 "cells": [
  {
   "cell_type": "markdown",
   "metadata": {
    "id": "A2aMSaEKn9dy"
   },
   "source": [
    "**References:**\n",
    "\n",
    "Tutorials Given in Competition Document : [Competetion Link](https://docs.google.com/document/d/1p74wG-bECCgbpyq5x_x2QJrf5RSf9FnMLGSAiyUkHLo/edit)\n",
    "\n",
    "PyTorch NMT Tutorial : [Pytorch NMT](https://pytorch.org/tutorials/intermediate/seq2seq_translation_tutorial.html)\n",
    "\n",
    "Github Page : To understand batch Processing [Github Pengyuchen](https://github.com/pengyuchen/PyTorch-Batch-Seq2seq)\n",
    "\n",
    "Referred Few Stackoverflow Links for few Regex examples and for some bugs."
   ]
  },
  {
   "cell_type": "markdown",
   "metadata": {
    "id": "zm2HohCVJIKy"
   },
   "source": [
    "# **FUNCTIONS**"
   ]
  },
  {
   "cell_type": "code",
   "execution_count": null,
   "metadata": {
    "colab": {
     "base_uri": "https://localhost:8080/"
    },
    "executionInfo": {
     "elapsed": 35008,
     "status": "ok",
     "timestamp": 1617502365627,
     "user": {
      "displayName": "Aman Aryan",
      "photoUrl": "https://lh3.googleusercontent.com/a-/AOh14GhXJR9KNGZZpk0nFx9qlrhr-6vPxT6vVIK-Z6Vxkg=s64",
      "userId": "04502018681984307270"
     },
     "user_tz": -330
    },
    "id": "U9KkhcYfEeuH",
    "outputId": "437032f5-20a8-48e1-cbcf-aaf71157c32e"
   },
   "outputs": [
    {
     "name": "stdout",
     "output_type": "stream",
     "text": [
      "Mounted at /drive\n"
     ]
    }
   ],
   "source": [
    "from google.colab import  drive\n",
    "drive.mount('/drive')"
   ]
  },
  {
   "cell_type": "markdown",
   "metadata": {
    "id": "YkqUlmpnCNw-"
   },
   "source": [
    "## LIBRARIES"
   ]
  },
  {
   "cell_type": "code",
   "execution_count": null,
   "metadata": {
    "id": "XE346yhTt_vl"
   },
   "outputs": [],
   "source": [
    "location = r\"/drive/My Drive/Files/\"\n",
    "INDIC_NLP_LIB_HOME = location + \"indic_nlp_library\"\n",
    "INDIC_NLP_RESOURCES = location + \"indic_nlp_resources\""
   ]
  },
  {
   "cell_type": "code",
   "execution_count": null,
   "metadata": {
    "id": "j9GYWzxIvQLf"
   },
   "outputs": [],
   "source": [
    "import sys\n",
    "sys.path.append(r'{}'.format(INDIC_NLP_LIB_HOME))\n",
    "from indicnlp import common\n",
    "common.set_resources_path(INDIC_NLP_RESOURCES)\n",
    "from indicnlp import loader\n",
    "loader.load()"
   ]
  },
  {
   "cell_type": "code",
   "execution_count": null,
   "metadata": {
    "colab": {
     "base_uri": "https://localhost:8080/"
    },
    "executionInfo": {
     "elapsed": 49716,
     "status": "ok",
     "timestamp": 1617502380390,
     "user": {
      "displayName": "Aman Aryan",
      "photoUrl": "https://lh3.googleusercontent.com/a-/AOh14GhXJR9KNGZZpk0nFx9qlrhr-6vPxT6vVIK-Z6Vxkg=s64",
      "userId": "04502018681984307270"
     },
     "user_tz": -330
    },
    "id": "6sFoIG0IL5Gu",
    "outputId": "52991dc0-5be8-44bd-d216-6ae53b5a2f0d"
   },
   "outputs": [
    {
     "name": "stdout",
     "output_type": "stream",
     "text": [
      "Collecting Morfessor\n",
      "  Downloading https://files.pythonhosted.org/packages/39/e6/7afea30be2ee4d29ce9de0fa53acbb033163615f849515c0b1956ad074ee/Morfessor-2.0.6-py3-none-any.whl\n",
      "Installing collected packages: Morfessor\n",
      "Successfully installed Morfessor-2.0.6\n"
     ]
    }
   ],
   "source": [
    "!pip install Morfessor\n",
    "import re\n",
    "import string\n",
    "import spacy\n",
    "import tqdm.notebook as tq\n",
    "nlpen = spacy.load(\"en_core_web_sm\")\n",
    "import random\n",
    "import pickle\n",
    "import pandas as pd\n",
    "from indicnlp.tokenize import sentence_tokenize\n",
    "from indicnlp.tokenize import indic_tokenize\n",
    "from indicnlp.transliterate.unicode_transliterate import UnicodeIndicTransliterator\n",
    "from indicnlp.transliterate.unicode_transliterate import ItransTransliterator\n",
    "from indicnlp.normalize.indic_normalize import IndicNormalizerFactory"
   ]
  },
  {
   "cell_type": "markdown",
   "metadata": {
    "id": "eOV8__452nrJ"
   },
   "source": [
    "## TEXT PROCESSING"
   ]
  },
  {
   "cell_type": "code",
   "execution_count": null,
   "metadata": {
    "id": "8s4-n71ApEaD"
   },
   "outputs": [],
   "source": [
    "english_nums = ['0', '1', '2', '3', '4', '5', '6', '7', '8', '9']\n",
    "hindi_nums =   ['०', '१', '२', '३', '४', '५', '६', '७', '८', '९']\n",
    "\n",
    "def clean_string( instr ):\n",
    "  instr = instr.lower()\n",
    "  instr = instr.replace(u'[', ' ')\n",
    "  instr = instr.replace(u']', ' ')\n",
    "  instr = instr.replace(u'{', ' ')\n",
    "  instr = instr.replace(u'}', ' ')\n",
    "  instr = instr.replace(u'(', ' ')\n",
    "  instr = instr.replace(u')', ' ')\n",
    "  instr = instr.replace(u'...', ' ')\n",
    "  instr = instr.replace(u'..', ' ')\n",
    "  instr = instr.replace(u'-', ' ')\n",
    "  instr = instr.replace(u',', ' ')\n",
    "  instr = instr.replace(u'\"', ' ')\n",
    "  instr = re.sub(' +',' ', instr)\n",
    "  return instr\n",
    "  \n",
    "def preprocess_hindi( instr ):\n",
    "  factory    = IndicNormalizerFactory()\n",
    "  normalizer = factory.get_normalizer(\"hi\",remove_nuktas=True)\n",
    "  instr      = normalizer.normalize(instr)\n",
    "\n",
    "  instr      = clean_string( instr )\n",
    "  #instr = instr.replace(u'॥', '')\n",
    "  for nums in hindi_nums:\n",
    "    instr    = instr.replace(nums, nums + ' ')\n",
    "\n",
    "  instr      = ItransTransliterator.from_itrans( instr , 'hi')  \n",
    "  instr      = re.sub(' +',' ', instr)\n",
    "  instr      = ItransTransliterator.from_itrans( instr , 'hi')\n",
    "  instr      = instr.strip() #sentence_tokenize.sentence_split(instr, lang='hi')\n",
    "  \n",
    "  return instr\n",
    "\n",
    "def preprocess_english( instr ):\n",
    "  instr = clean_string(instr)\n",
    "\n",
    "  instr = instr.replace(\"’\", \"'\")\n",
    "  instr = instr.replace(\"n\\'t\", \" not\")\n",
    "  instr = instr.replace(\"'re\" , \" are\")\n",
    "  instr = instr.replace(\"'ve\" , \" have\")\n",
    "  instr = instr.replace(\"'s\"  , \" is\")\n",
    "  instr = instr.replace(\"'ll\" , \" will\")\n",
    "  instr = instr.replace(\"'m\" , \" am\")\n",
    "  #instr = re.sub(r'[^\\w\\s\\\\d]' , \" \" , instr)\n",
    "  #instr = re.sub(r'[\\d]' , ' ' , instr)\n",
    "\n",
    "  for nums in english_nums:\n",
    "    instr    = instr.replace(nums, nums + ' ')\n",
    "  instr = re.sub(' +',' ', instr)\n",
    "  instr = instr.strip()\n",
    "\n",
    "  return instr\n",
    "\n",
    "def get_hindi_tokens(sentence):\n",
    "  return indic_tokenize.trivial_tokenize(sentence)\n",
    "\n",
    "def get_english_tokens(sentence):\n",
    "  tokens = []\n",
    "  tokstr = nlpen(sentence)\n",
    "  for token in tokstr:\n",
    "    tokens.append(token.text)\n",
    "  return tokens"
   ]
  },
  {
   "cell_type": "code",
   "execution_count": null,
   "metadata": {
    "id": "7xMHlxgWiAEk"
   },
   "outputs": [],
   "source": [
    "def process_pairs(df, load_from_file = 0, location = ''):\n",
    "  if( load_from_file == 0):\n",
    "    pairs = []\n",
    "    pairs_tokens = []\n",
    "    for i in tq.tqdm( df.index ):\n",
    "      hinsen  = df['hindi'][i]\n",
    "      hsent   = preprocess_hindi( hinsen )\n",
    "      htokens = get_hindi_tokens(hsent)\n",
    "\n",
    "      engsen  = df['english'][i]\n",
    "      esent   = preprocess_english( engsen )\n",
    "      etokens = get_english_tokens(esent)\n",
    "\n",
    "      pairs.append( [hsent, esent] )\n",
    "      pairs_tokens.append( [htokens, etokens] )\n",
    "\n",
    "    with open(location + r'pairs.pickle', 'wb') as handle:\n",
    "        pickle.dump(pairs, handle, protocol=pickle.HIGHEST_PROTOCOL)\n",
    "    with open(location + r'pairs_tokens.pickle', 'wb') as handle:\n",
    "        pickle.dump(pairs_tokens, handle, protocol=pickle.HIGHEST_PROTOCOL)\n",
    "\n",
    "    return pairs, pairs_tokens\n",
    "  else:\n",
    "    with open(location + r'pairs.pickle', 'rb') as handle:\n",
    "        pairs = pickle.load(handle)\n",
    "    with open(location + r'pairs_tokens.pickle', 'rb') as handle:\n",
    "        pairs_tokens = pickle.load(handle)\n",
    "    return pairs, pairs_tokens  "
   ]
  },
  {
   "cell_type": "markdown",
   "metadata": {
    "id": "JfKCjT9t2Uce"
   },
   "source": [
    "## LANGUAGE"
   ]
  },
  {
   "cell_type": "code",
   "execution_count": null,
   "metadata": {
    "id": "pkvN-M2T2OwM"
   },
   "outputs": [],
   "source": [
    "START_TOKEN = 0\n",
    "END_TOKEN = 1\n",
    "PAD_TOKEN = 2\n",
    "\n",
    "class Language:\n",
    "  def __init__(self, name):\n",
    "    self.name = name\n",
    "    self.word2index = {}\n",
    "    self.word2count = {}\n",
    "    self.index2word = {}\n",
    "    self.num_words = 3\n",
    "    self.word2index['START_TOKEN'] = START_TOKEN\n",
    "    self.index2word['END_TOKEN'] = END_TOKEN\n",
    "    self.index2word['PAD_TOKEN'] = PAD_TOKEN\n",
    "    self.index2word[START_TOKEN] = 'START_TOKEN'\n",
    "    self.index2word[END_TOKEN] = 'END_TOKEN'\n",
    "    self.index2word[PAD_TOKEN] = 'PAD_TOKEN'\n",
    "\n",
    "  def addWord(self, word):\n",
    "    if word in self.word2index:\n",
    "      self.word2count[word] = self.word2count[word] + 1\n",
    "    else:\n",
    "      self.word2count[word] = 1\n",
    "      self.word2index[word] = self.num_words\n",
    "      self.index2word[self.num_words] = word\n",
    "      self.num_words = self.num_words + 1\n",
    "  \n",
    "  def addSentence(self, sentence_tokens):\n",
    "      for word in sentence_tokens:\n",
    "        self.addWord(word)"
   ]
  },
  {
   "cell_type": "code",
   "execution_count": null,
   "metadata": {
    "id": "8S24eNCE2Oyb"
   },
   "outputs": [],
   "source": [
    "def generate_language( pairs_tokens ):\n",
    "    hindi   = Language('hindi')\n",
    "    english = Language('english')\n",
    "    for i in tq.tqdm( range(len(pairs_tokens)) ):\n",
    "      hindi.addSentence(pairs_tokens[i][0])\n",
    "      english.addSentence(pairs_tokens[i][1])\n",
    "    return hindi, english"
   ]
  },
  {
   "cell_type": "markdown",
   "metadata": {
    "id": "-IHLiyXjNOM5"
   },
   "source": [
    "### PROCESS TEXT TO TENSOR"
   ]
  },
  {
   "cell_type": "code",
   "execution_count": null,
   "metadata": {
    "id": "nFD_H_CgKBFI"
   },
   "outputs": [],
   "source": [
    "def get_filitered_data(max_length, pairs, pairs_tokens):\n",
    "  fil_pairs = []\n",
    "  fil_pairs_tokens = []\n",
    "  for i in  range( len(pairs_tokens)) :\n",
    "    if( len(pairs_tokens[i][0] ) < max_length and len(pairs_tokens[i][1]) < max_length ):\n",
    "      fil_pairs.append( pairs[i] )\n",
    "      fil_pairs_tokens.append( pairs_tokens[i] )\n",
    "  return fil_pairs, fil_pairs_tokens"
   ]
  },
  {
   "cell_type": "code",
   "execution_count": null,
   "metadata": {
    "id": "_KiyGuO121HM"
   },
   "outputs": [],
   "source": [
    "def indexesFromSentence(lang, tokens, max_length):\n",
    "  indexes = []\n",
    "  indexes.append(START_TOKEN)\n",
    "  for word in tokens:\n",
    "    if word in lang.word2index.keys():\n",
    "      indexes.append( lang.word2index[word] )\n",
    "    else:\n",
    "      indexes.append( random.randint(2, lang.num_words))\n",
    "  indexes = indexes[0:max_length-1]\n",
    "  indexes.append(END_TOKEN)\n",
    "  indexes.extend( [PAD_TOKEN]*( max_length - len(indexes)))\n",
    "  return indexes\n",
    "\n",
    "def tensorFromSentence(lang, sentence, max_length):\n",
    "  indexes = indexesFromSentence(lang, sentence, max_length)\n",
    "  return torch.tensor(indexes, dtype=torch.long, device=device)\n",
    "\n",
    "def tensorsFromPair(pairs, input_lang, output_lang, max_length):\n",
    "  res_pairs = []\n",
    "  for pair in pairs:\n",
    "    input_tensor  = tensorFromSentence(input_lang, pair[0], max_length)\n",
    "    target_tensor = tensorFromSentence(output_lang, pair[1], max_length)\n",
    "    res_pairs.append( (input_tensor, target_tensor) )\n",
    "  return res_pairs"
   ]
  },
  {
   "cell_type": "code",
   "execution_count": null,
   "metadata": {
    "id": "wpIHes6i3cuR"
   },
   "outputs": [],
   "source": []
  },
  {
   "cell_type": "markdown",
   "metadata": {
    "id": "ZTFkvFITItSA"
   },
   "source": [
    "## NEURAL MACHINE TRANSLATOR\n"
   ]
  },
  {
   "cell_type": "markdown",
   "metadata": {
    "id": "pxSdrKcBUOOn"
   },
   "source": [
    "### LIBRARIES"
   ]
  },
  {
   "cell_type": "code",
   "execution_count": null,
   "metadata": {
    "colab": {
     "base_uri": "https://localhost:8080/"
    },
    "executionInfo": {
     "elapsed": 61256,
     "status": "ok",
     "timestamp": 1617502391979,
     "user": {
      "displayName": "Aman Aryan",
      "photoUrl": "https://lh3.googleusercontent.com/a-/AOh14GhXJR9KNGZZpk0nFx9qlrhr-6vPxT6vVIK-Z6Vxkg=s64",
      "userId": "04502018681984307270"
     },
     "user_tz": -330
    },
    "id": "3Z1jYXWzCqpa",
    "outputId": "47d7dd8c-78e2-4bb5-fc4f-30a15d3aeeb6"
   },
   "outputs": [
    {
     "name": "stdout",
     "output_type": "stream",
     "text": [
      "Collecting nltk\n",
      "\u001b[?25l  Downloading https://files.pythonhosted.org/packages/92/75/ce35194d8e3022203cca0d2f896dbb88689f9b3fce8e9f9cff942913519d/nltk-3.5.zip (1.4MB)\n",
      "\u001b[K     |████████████████████████████████| 1.4MB 6.8MB/s \n",
      "\u001b[?25hRequirement already satisfied, skipping upgrade: click in /usr/local/lib/python3.7/dist-packages (from nltk) (7.1.2)\n",
      "Requirement already satisfied, skipping upgrade: joblib in /usr/local/lib/python3.7/dist-packages (from nltk) (1.0.1)\n",
      "Requirement already satisfied, skipping upgrade: regex in /usr/local/lib/python3.7/dist-packages (from nltk) (2019.12.20)\n",
      "Requirement already satisfied, skipping upgrade: tqdm in /usr/local/lib/python3.7/dist-packages (from nltk) (4.41.1)\n",
      "Building wheels for collected packages: nltk\n",
      "  Building wheel for nltk (setup.py) ... \u001b[?25l\u001b[?25hdone\n",
      "  Created wheel for nltk: filename=nltk-3.5-cp37-none-any.whl size=1434675 sha256=e6e7b19d054bba9e957d9252cec50c270d610766ae53621d0ef69278164b057f\n",
      "  Stored in directory: /root/.cache/pip/wheels/ae/8c/3f/b1fe0ba04555b08b57ab52ab7f86023639a526d8bc8d384306\n",
      "Successfully built nltk\n",
      "Installing collected packages: nltk\n",
      "  Found existing installation: nltk 3.2.5\n",
      "    Uninstalling nltk-3.2.5:\n",
      "      Successfully uninstalled nltk-3.2.5\n",
      "Successfully installed nltk-3.5\n"
     ]
    },
    {
     "name": "stderr",
     "output_type": "stream",
     "text": [
      "[nltk_data] Downloading package wordnet to /root/nltk_data...\n",
      "[nltk_data]   Unzipping corpora/wordnet.zip.\n"
     ]
    }
   ],
   "source": [
    "from sklearn.model_selection import train_test_split\n",
    "\n",
    "import torch\n",
    "import torch.nn as nn\n",
    "from torch import optim\n",
    "import torch.nn.functional as F\n",
    "device = torch.device(\"cuda\" if torch.cuda.is_available() else \"cpu\")\n",
    "\n",
    "!pip install -U nltk\n",
    "import nltk\n",
    "import sys\n",
    "nltk.download('wordnet')\n",
    "from nltk.translate.bleu_score import sentence_bleu\n",
    "from nltk.translate.meteor_score import single_meteor_score"
   ]
  },
  {
   "cell_type": "markdown",
   "metadata": {
    "id": "S7q0i3jQIYYy"
   },
   "source": [
    "### ENCODER"
   ]
  },
  {
   "cell_type": "code",
   "execution_count": null,
   "metadata": {
    "id": "Ibd0funOIVy-"
   },
   "outputs": [],
   "source": [
    "class Encoder(nn.Module):\n",
    "    def __init__(self, input_size, hidden_size):\n",
    "        super(Encoder, self).__init__()\n",
    "        self.hidden_size = hidden_size\n",
    "        self.embedding = nn.Embedding(input_size, hidden_size)\n",
    "        self.gru = nn.GRU(hidden_size, hidden_size)\n",
    "\n",
    "    def forward(self, input, hidden, batch_size=1):\n",
    "        embedded = self.embedding(input).view(1, batch_size, self.hidden_size)\n",
    "        output, hidden = self.gru(embedded, hidden)\n",
    "        return output, hidden\n",
    "\n",
    "    def initHidden(self, batch_size=1):\n",
    "        return torch.zeros(1, batch_size, self.hidden_size, device=device)"
   ]
  },
  {
   "cell_type": "markdown",
   "metadata": {
    "id": "cQX6MBtpIiYi"
   },
   "source": [
    "### DECODER"
   ]
  },
  {
   "cell_type": "code",
   "execution_count": null,
   "metadata": {
    "id": "bvKT-boqIb-L"
   },
   "outputs": [],
   "source": [
    "class Decoder(nn.Module):\n",
    "    def __init__(self, hidden_size, output_size):\n",
    "        super(Decoder, self).__init__()\n",
    "        self.hidden_size = hidden_size\n",
    "        self.output_size = output_size\n",
    "\n",
    "        self.embedding = nn.Embedding(self.output_size, self.hidden_size)\n",
    "        self.gru = nn.GRU(self.hidden_size, self.hidden_size)\n",
    "        self.out = nn.Linear(self.hidden_size, self.output_size)\n",
    "        self.softmax = nn.LogSoftmax(dim=1)\n",
    "\n",
    "    def forward(self, input, hidden, batch_size=1):\n",
    "      embed = self.embedding(input).view(1, batch_size, self.hidden_size)\n",
    "      output, hidden = self.gru(embed, hidden)\n",
    "      output = self.out(output)\n",
    "      preds = self.softmax(output[0])\n",
    "      return preds, hidden\n",
    "\n",
    "    def initHidden(self, batch_size=1):\n",
    "        return torch.zeros(1, batch_size, self.hidden_size, device=device)"
   ]
  },
  {
   "cell_type": "markdown",
   "metadata": {
    "id": "WcrhHwoc03gH"
   },
   "source": [
    "### SEQUENCE 2 SEQUENCE"
   ]
  },
  {
   "cell_type": "code",
   "execution_count": null,
   "metadata": {
    "id": "2XOqKk6z02WY"
   },
   "outputs": [],
   "source": [
    "class seq2seq(nn.Module):\n",
    "  def __init__(self, input_size, output_size, hidden_size, max_length):\n",
    "    super(seq2seq, self).__init__()\n",
    "    self.input_size  = input_size\n",
    "    self.output_size = output_size\n",
    "    self.hidden_size = hidden_size\n",
    "    self.max_length = max_length\n",
    "\n",
    "    self.encoder = Encoder(input_size, hidden_size).to(device)\n",
    "    self.decoder = Decoder(hidden_size, output_size).to(device)\n",
    "\n",
    "\n",
    "\n",
    "  def train_model(self, train_data, num_epoch ):\n",
    "    encoder_optim = optim.Adam(self.encoder.parameters(), lr = 0.01)\n",
    "    decoder_optim = optim.Adam(self.decoder.parameters(), lr = 0.01)\n",
    "    lossfn = nn.NLLLoss()\n",
    "\n",
    "    for epoch in (range(num_epoch)):\n",
    "      print('\\n Epoch  : ', epoch)\n",
    "\n",
    "      for bin, bout in tq.tqdm(train_data):\n",
    "          batch_size     = bin.size()[0]\n",
    "          input  = bin.transpose(0,1)\n",
    "          output = bout.transpose(0,1)\n",
    "          inlen  = input.size()[0]\n",
    "          outlen = output.size()[0]\n",
    "\n",
    "          encoder_hidden = self.encoder.initHidden(batch_size = batch_size)\n",
    "          encoder_optim.zero_grad()\n",
    "          decoder_optim.zero_grad()\n",
    "\n",
    "          loss = 0\n",
    "          encoder_outputs = torch.zeros(self.max_length, batch_size, self.encoder.hidden_size, device = device)\n",
    "          for ei in range(inlen):\n",
    "            enc_output, encoder_hidden = self.encoder(input[ei],encoder_hidden, batch_size =batch_size)\n",
    "            encoder_outputs[ei]        = enc_output[0]\n",
    "\n",
    "          decoder_input = torch.tensor([START_TOKEN]*batch_size, device=device)\n",
    "          decoder_hidden = encoder_hidden\n",
    "          for di in range(outlen):\n",
    "            decoder_output, decoder_hidden = self.decoder( decoder_input, decoder_hidden,batch_size= batch_size)\n",
    "            topvalue, topindex = decoder_output.data.topk(1)\n",
    "            decoder_input      = topindex.squeeze().detach()\n",
    "            loss               = loss + lossfn( decoder_output, output[di])\n",
    "\n",
    "          loss.backward()\n",
    "          encoder_optim.step()\n",
    "          decoder_optim.step()\n",
    "        \n",
    "  def predict_sentence(self, sentence, input_lang, output_lang):\n",
    "    with torch.no_grad():\n",
    "      input   = tensorFromSentence(input_lang, sentence, self.max_length)\n",
    "      inlen   = input.size()[0]\n",
    "      if inlen > self.max_length:\n",
    "        inlen = self.max_length\n",
    "\n",
    "      enc_hidden = self.encoder.initHidden(1)\n",
    "      enc_outputs = torch.zeros(self.max_length, self.encoder.hidden_size, device=device)\n",
    "      \n",
    "      for i in range(inlen):\n",
    "          enc_output, enc_hidden = self.encoder(input[i], enc_hidden)\n",
    "          enc_outputs[i]         = enc_outputs[i] + enc_output[0, 0]\n",
    "\n",
    "      dec_input      = torch.tensor([[START_TOKEN]], device=device)\n",
    "      dec_hidden     = enc_hidden\n",
    "      dec_words = []\n",
    "      \n",
    "      for i in range(self.max_length):\n",
    "        dec_output, dec_hidden = self.decoder( dec_input, dec_hidden , batch_size =1)\n",
    "        maxval, maxindex = dec_output.data.topk(1)\n",
    "        dec_input = maxindex.squeeze().detach()\n",
    "\n",
    "        if(maxindex.item() == END_TOKEN):\n",
    "          dec_words.append('END_TOKEN')\n",
    "          break\n",
    "        else:\n",
    "          dec_words.append( output_lang.index2word[maxindex.item()] )\n",
    "      \n",
    "    return dec_words\n",
    "  "
   ]
  },
  {
   "cell_type": "markdown",
   "metadata": {
    "id": "NXoK92_1o4Ez"
   },
   "source": [
    "### PERFORMANCE EVALUATION"
   ]
  },
  {
   "cell_type": "code",
   "execution_count": null,
   "metadata": {
    "id": "hvQPdkMtov-L"
   },
   "outputs": [],
   "source": [
    "def make_sentence(tokens):\n",
    "  str = ''\n",
    "  for x in tokens:\n",
    "    if x not in ['START_TOKEN', 'END_TOKEN', 'PAD_TOKEN']:\n",
    "      str = str + ' ' + x\n",
    "  return re.sub('(?<=\\d)+ (?=\\d)+', '', str)[1:]\n",
    "\n",
    "\n",
    "def get_bleu_score(model, pairs, inlang, outlang):\n",
    "\n",
    "  total_num = len(pairs)\n",
    "  total_bleu_scores = 0\n",
    "  total_meteor_scores = 0\n",
    "  \n",
    "  for i in tq.tqdm( range(total_num) ):\n",
    "    output    = make_sentence ( model.predict_sentence(pairs[i][0], inlang, outlang) )\n",
    "    original  = make_sentence(pairs[i][1])\n",
    "    total_bleu_scores   += sentence_bleu([output.split(\" \")], original.split(\" \"))\n",
    "    total_meteor_scores += single_meteor_score(output, original)\n",
    "\n",
    "  bleu_result = total_bleu_scores/total_num\n",
    "  meteor_result = total_meteor_scores/total_num\n",
    "  \n",
    "  print()\n",
    "  print(\"bleu score: \",bleu_result)\n",
    "  print(\"meteor score: \",meteor_result)"
   ]
  },
  {
   "cell_type": "markdown",
   "metadata": {
    "id": "poNP2qySn64_"
   },
   "source": []
  },
  {
   "cell_type": "markdown",
   "metadata": {
    "id": "SFtWOWbbsQwS"
   },
   "source": [
    "# **EXECUTION**"
   ]
  },
  {
   "cell_type": "markdown",
   "metadata": {
    "id": "OWWqvluwXPMG"
   },
   "source": [
    "### READ AND PROCESS FILE"
   ]
  },
  {
   "cell_type": "code",
   "execution_count": null,
   "metadata": {
    "id": "Bi-YuD2xMLss"
   },
   "outputs": [],
   "source": [
    "MAX_LENGTH = 17"
   ]
  },
  {
   "cell_type": "code",
   "execution_count": null,
   "metadata": {
    "id": "KF2PDfoyrush"
   },
   "outputs": [],
   "source": [
    "data_location = location + 'NMT/'\n",
    "model_location = location + 'NMT/NMT_S2S_GRU/'\n",
    "df = pd.read_csv(data_location+'train.csv',  index_col=0)"
   ]
  },
  {
   "cell_type": "code",
   "execution_count": null,
   "metadata": {
    "id": "CVBTJ9xE6eUW"
   },
   "outputs": [],
   "source": [
    "pairs, tokens = process_pairs(df, load_from_file=1, location = data_location + 'DataPairs/')\n",
    "train_pairs, test_pairs, train_tokens, test_tokens = train_test_split( pairs, tokens, test_size = 0.2, shuffle = True, random_state = 200)\n",
    "fil_train, fil_train_tokens = get_filitered_data( MAX_LENGTH - 2, train_pairs, train_tokens)"
   ]
  },
  {
   "cell_type": "markdown",
   "metadata": {
    "id": "Gz-s9YulXTuY"
   },
   "source": [
    "### GENERATE LANGUAGE"
   ]
  },
  {
   "cell_type": "code",
   "execution_count": null,
   "metadata": {
    "colab": {
     "base_uri": "https://localhost:8080/",
     "height": 66,
     "referenced_widgets": [
      "4ecdd64f5b4e4b819e694700335c94d6",
      "23ff3ee9729c45df9342a0c7b401e2e5",
      "e070acd228744abb8ce889101cc1a01f",
      "0dcf1d8092984e12a72001bc468020cb",
      "de64a1c90e31422da4984f90af40bc5f",
      "8a528b859ca34430bfc2564dbf85bd3d",
      "1c0b8b79871b4da0918a887500e57acf",
      "8f6908957d004d43962f14ef26c17428"
     ]
    },
    "executionInfo": {
     "elapsed": 67215,
     "status": "ok",
     "timestamp": 1617502397997,
     "user": {
      "displayName": "Aman Aryan",
      "photoUrl": "https://lh3.googleusercontent.com/a-/AOh14GhXJR9KNGZZpk0nFx9qlrhr-6vPxT6vVIK-Z6Vxkg=s64",
      "userId": "04502018681984307270"
     },
     "user_tz": -330
    },
    "id": "NXybCQuygy9T",
    "outputId": "1d2c0369-3ab6-4688-87ef-67aca2c02ef8"
   },
   "outputs": [
    {
     "data": {
      "application/vnd.jupyter.widget-view+json": {
       "model_id": "4ecdd64f5b4e4b819e694700335c94d6",
       "version_major": 2,
       "version_minor": 0
      },
      "text/plain": [
       "HBox(children=(FloatProgress(value=0.0, max=81857.0), HTML(value='')))"
      ]
     },
     "metadata": {
      "tags": []
     },
     "output_type": "display_data"
    },
    {
     "name": "stdout",
     "output_type": "stream",
     "text": [
      "\n"
     ]
    }
   ],
   "source": [
    "hindi, english = generate_language(train_tokens)"
   ]
  },
  {
   "cell_type": "markdown",
   "metadata": {
    "id": "eUTkfpuxXXlI"
   },
   "source": [
    "### GET TENSORS"
   ]
  },
  {
   "cell_type": "code",
   "execution_count": null,
   "metadata": {
    "id": "Ww5AxnJ1r6rK"
   },
   "outputs": [],
   "source": [
    "train_tensors = tensorsFromPair(fil_train_tokens, hindi, english, MAX_LENGTH)\n",
    "train_loader = torch.utils.data.DataLoader(train_tensors, batch_size=256, shuffle=True)"
   ]
  },
  {
   "cell_type": "code",
   "execution_count": null,
   "metadata": {
    "id": "Vt7eDGQ3QD7j"
   },
   "outputs": [],
   "source": []
  },
  {
   "cell_type": "markdown",
   "metadata": {
    "id": "D3zinlYyXay_"
   },
   "source": [
    "### TRAIN MODEL"
   ]
  },
  {
   "cell_type": "code",
   "execution_count": null,
   "metadata": {
    "id": "6KR75SsUXxE1"
   },
   "outputs": [],
   "source": [
    "hidden_size = 256"
   ]
  },
  {
   "cell_type": "code",
   "execution_count": null,
   "metadata": {
    "id": "FxPgfDvYYr30"
   },
   "outputs": [],
   "source": [
    "model2 = seq2seq(hindi.num_words + 1, english.num_words + 1, hidden_size, MAX_LENGTH)"
   ]
  },
  {
   "cell_type": "code",
   "execution_count": null,
   "metadata": {
    "id": "VEG2GbQDalME"
   },
   "outputs": [],
   "source": [
    "model2.train_model(train_data= train_loader, num_epoch= 200)"
   ]
  },
  {
   "cell_type": "code",
   "execution_count": 2,
   "metadata": {
    "id": "1coUVIFu68Oj"
   },
   "outputs": [
    {
     "ename": "NameError",
     "evalue": "name 'train_loader' is not defined",
     "output_type": "error",
     "traceback": [
      "\u001b[1;31m---------------------------------------------------------------------------\u001b[0m",
      "\u001b[1;31mNameError\u001b[0m                                 Traceback (most recent call last)",
      "\u001b[1;32m<ipython-input-2-76e65f9610da>\u001b[0m in \u001b[0;36m<module>\u001b[1;34m\u001b[0m\n\u001b[1;32m----> 1\u001b[1;33m \u001b[0mbatch\u001b[0m \u001b[1;33m=\u001b[0m \u001b[0mnext\u001b[0m\u001b[1;33m(\u001b[0m\u001b[0miter\u001b[0m\u001b[1;33m(\u001b[0m\u001b[0mtrain_loader\u001b[0m\u001b[1;33m)\u001b[0m\u001b[1;33m)\u001b[0m\u001b[1;33m\u001b[0m\u001b[1;33m\u001b[0m\u001b[0m\n\u001b[0m\u001b[0;32m      2\u001b[0m \u001b[0myhat\u001b[0m  \u001b[1;33m=\u001b[0m \u001b[0mmodel\u001b[0m\u001b[1;33m.\u001b[0m\u001b[0mencoder\u001b[0m\u001b[1;33m(\u001b[0m\u001b[0mbatch\u001b[0m\u001b[1;33m)\u001b[0m\u001b[1;33m\u001b[0m\u001b[1;33m\u001b[0m\u001b[0m\n",
      "\u001b[1;31mNameError\u001b[0m: name 'train_loader' is not defined"
     ]
    }
   ],
   "source": [
    "batch = next(iter(train_loader))\n",
    "yhat  = model.encoder(batch)"
   ]
  },
  {
   "cell_type": "code",
   "execution_count": null,
   "metadata": {},
   "outputs": [],
   "source": []
  },
  {
   "cell_type": "code",
   "execution_count": null,
   "metadata": {},
   "outputs": [],
   "source": []
  },
  {
   "cell_type": "markdown",
   "metadata": {
    "id": "GidWU1rMXdE-"
   },
   "source": [
    "### SAVE / LOAD MODEL"
   ]
  },
  {
   "cell_type": "code",
   "execution_count": null,
   "metadata": {
    "id": "cdoodl3BQuVX"
   },
   "outputs": [],
   "source": [
    "torch.save(model2.state_dict(), model_location + 'gru_dict_200')\n",
    "torch.save(model2, model_location + 'gru_200')"
   ]
  },
  {
   "cell_type": "code",
   "execution_count": null,
   "metadata": {
    "id": "UU_Bd47QsiRu"
   },
   "outputs": [],
   "source": [
    "model.load_state_dict( torch.load(model_location + 'gru_dict_100', map_location=torch.device('cpu')))\n",
    "model.eval()"
   ]
  },
  {
   "cell_type": "markdown",
   "metadata": {
    "id": "gOyOr8EeXqLo"
   },
   "source": [
    "### EVALUATE PERFORMANCE"
   ]
  },
  {
   "cell_type": "code",
   "execution_count": null,
   "metadata": {
    "colab": {
     "base_uri": "https://localhost:8080/",
     "height": 418,
     "referenced_widgets": [
      "d5180cad75b64348beed825ec68d35c8",
      "2d56a2ac717640febc76f2a9e83377f5",
      "1ba46cdcb3164128a33d3d8ee1257cdc",
      "904339e3ad5e40cfb06fb539a32808ff",
      "e0a28f893ed64adc98200e5d0abee51a",
      "2ffbf16bb8304c719e11adeab43fe6a6",
      "0227a2af9dcf4644877d99054059f331",
      "60723e0846844d61934a5a81dd2563c1"
     ]
    },
    "executionInfo": {
     "elapsed": 257610,
     "status": "ok",
     "timestamp": 1617518237854,
     "user": {
      "displayName": "Aman Aryan",
      "photoUrl": "https://lh3.googleusercontent.com/a-/AOh14GhXJR9KNGZZpk0nFx9qlrhr-6vPxT6vVIK-Z6Vxkg=s64",
      "userId": "04502018681984307270"
     },
     "user_tz": -330
    },
    "id": "aGKhcq18XC3h",
    "outputId": "43d3cbf6-5482-4bf2-b7d8-896685f4060b"
   },
   "outputs": [
    {
     "data": {
      "application/vnd.jupyter.widget-view+json": {
       "model_id": "d5180cad75b64348beed825ec68d35c8",
       "version_major": 2,
       "version_minor": 0
      },
      "text/plain": [
       "HBox(children=(FloatProgress(value=0.0, max=20465.0), HTML(value='')))"
      ]
     },
     "metadata": {
      "tags": []
     },
     "output_type": "display_data"
    },
    {
     "name": "stderr",
     "output_type": "stream",
     "text": [
      "/usr/local/lib/python3.7/dist-packages/nltk/translate/bleu_score.py:516: UserWarning: \n",
      "The hypothesis contains 0 counts of 2-gram overlaps.\n",
      "Therefore the BLEU score evaluates to 0, independently of\n",
      "how many N-gram overlaps of lower order it contains.\n",
      "Consider using lower n-gram order or use SmoothingFunction()\n",
      "  warnings.warn(_msg)\n",
      "/usr/local/lib/python3.7/dist-packages/nltk/translate/bleu_score.py:516: UserWarning: \n",
      "The hypothesis contains 0 counts of 3-gram overlaps.\n",
      "Therefore the BLEU score evaluates to 0, independently of\n",
      "how many N-gram overlaps of lower order it contains.\n",
      "Consider using lower n-gram order or use SmoothingFunction()\n",
      "  warnings.warn(_msg)\n",
      "/usr/local/lib/python3.7/dist-packages/nltk/translate/bleu_score.py:516: UserWarning: \n",
      "The hypothesis contains 0 counts of 4-gram overlaps.\n",
      "Therefore the BLEU score evaluates to 0, independently of\n",
      "how many N-gram overlaps of lower order it contains.\n",
      "Consider using lower n-gram order or use SmoothingFunction()\n",
      "  warnings.warn(_msg)\n"
     ]
    },
    {
     "name": "stdout",
     "output_type": "stream",
     "text": [
      "\n",
      "\n",
      "bleu score:  0.0006492678951081745\n",
      "meteor score:  0.13561993729593874\n"
     ]
    }
   ],
   "source": [
    "get_bleu_score(model2, test_tokens, hindi, english)"
   ]
  },
  {
   "cell_type": "markdown",
   "metadata": {
    "id": "Wd6jSg0bXg1a"
   },
   "source": [
    "### USE MODEL FOR TRANSLATION"
   ]
  },
  {
   "cell_type": "code",
   "execution_count": null,
   "metadata": {
    "id": "EmC5MWcQXmbH"
   },
   "outputs": [],
   "source": [
    "week1 = pd.read_csv(data_location+'week1.csv', index_col=0)"
   ]
  },
  {
   "cell_type": "code",
   "execution_count": null,
   "metadata": {
    "id": "EAmOtFd2hlU1"
   },
   "outputs": [],
   "source": [
    "week1_processed = []\n",
    "week1_tensors = []\n",
    "for x in  week1['hindi']:\n",
    "  t = get_hindi_tokens(preprocess_hindi(x))\n",
    "  week1_processed.append(t)\n",
    "  week1_tensors.append( tensorFromSentence(hindi, t, MAX_LENGTH))"
   ]
  },
  {
   "cell_type": "code",
   "execution_count": null,
   "metadata": {
    "colab": {
     "base_uri": "https://localhost:8080/",
     "height": 66,
     "referenced_widgets": [
      "60c712cafbee46a992425392ec36d10c",
      "3b2afa88b49f45cba8555ae2fab6f645",
      "042346610c73457ebcb513b19017abf8",
      "a9efcc066a48493887cf5f099b3933e7",
      "60637b5068a04d76a229f7300f8b2d02",
      "b9fc6934e516402f9191ba6d1e703466",
      "0103071812d54c00a5d63ebac25b5c9c",
      "083e98e75938439883b2bd5e5657ce85"
     ]
    },
    "executionInfo": {
     "elapsed": 74658,
     "status": "ok",
     "timestamp": 1617515924827,
     "user": {
      "displayName": "Aman Aryan",
      "photoUrl": "https://lh3.googleusercontent.com/a-/AOh14GhXJR9KNGZZpk0nFx9qlrhr-6vPxT6vVIK-Z6Vxkg=s64",
      "userId": "04502018681984307270"
     },
     "user_tz": -330
    },
    "id": "DRsRuWQT1i7l",
    "outputId": "71d21aa7-d4fd-4005-9dc0-364acafba657"
   },
   "outputs": [
    {
     "data": {
      "application/vnd.jupyter.widget-view+json": {
       "model_id": "60c712cafbee46a992425392ec36d10c",
       "version_major": 2,
       "version_minor": 0
      },
      "text/plain": [
       "HBox(children=(FloatProgress(value=0.0, max=5000.0), HTML(value='')))"
      ]
     },
     "metadata": {
      "tags": []
     },
     "output_type": "display_data"
    },
    {
     "name": "stdout",
     "output_type": "stream",
     "text": [
      "\n"
     ]
    }
   ],
   "source": [
    "translated_tokens = []\n",
    "for i in tq.tqdm( range(len(week1_tensors)) ):\n",
    "  translated_tokens.append( model2.predict_sentence( week1_tensors[i], hindi, english) ) "
   ]
  },
  {
   "cell_type": "code",
   "execution_count": null,
   "metadata": {
    "id": "IXcs_EECan0d"
   },
   "outputs": [],
   "source": [
    "translated_texts = []\n",
    "for t in translated_tokens:\n",
    "  translated_texts.append( make_sentence(t ) )"
   ]
  },
  {
   "cell_type": "code",
   "execution_count": null,
   "metadata": {
    "id": "mDufBeCJXw1f"
   },
   "outputs": [],
   "source": [
    "with open(data_location + 'Weekly Data/Week1/gru.txt', 'w') as f:\n",
    "    for item in translated_texts:\n",
    "        f.write(\"%s\\n\" % item)"
   ]
  },
  {
   "cell_type": "code",
   "execution_count": null,
   "metadata": {
    "id": "uGXG3VGnZbxr"
   },
   "outputs": [],
   "source": []
  },
  {
   "cell_type": "code",
   "execution_count": null,
   "metadata": {
    "id": "frk9g3E8r8X4"
   },
   "outputs": [],
   "source": [
    "#torch.save( tmodel.state_dict(), model_location + 'gru_dict_100')\n",
    "#torch.save(model, location+ 'gru_enc_dec')\n",
    "\n",
    "#tmodel = torch.load(model_location+ 'gru_100')\n",
    "#tmodel.eval()\n",
    "\n",
    "#tq.tqdm._instances.clear()"
   ]
  }
 ],
 "metadata": {
  "accelerator": "GPU",
  "colab": {
   "authorship_tag": "ABX9TyMDFJahXiQnrxUc0Od2v3zv",
   "collapsed_sections": [
    "zm2HohCVJIKy",
    "YkqUlmpnCNw-",
    "eOV8__452nrJ",
    "JfKCjT9t2Uce",
    "pxSdrKcBUOOn",
    "S7q0i3jQIYYy",
    "cQX6MBtpIiYi",
    "WcrhHwoc03gH",
    "NXoK92_1o4Ez",
    "SFtWOWbbsQwS",
    "OWWqvluwXPMG",
    "Gz-s9YulXTuY",
    "eUTkfpuxXXlI",
    "D3zinlYyXay_",
    "GidWU1rMXdE-",
    "gOyOr8EeXqLo",
    "Wd6jSg0bXg1a"
   ],
   "name": "NMT_GRU_ED.ipynb",
   "provenance": [
    {
     "file_id": "1OVzSFF2WWKLlGLDmMwQCTPq0UqiHMZsw",
     "timestamp": 1617169641987
    }
   ]
  },
  "kernelspec": {
   "display_name": "Python 3",
   "language": "python",
   "name": "python3"
  },
  "language_info": {
   "codemirror_mode": {
    "name": "ipython",
    "version": 3
   },
   "file_extension": ".py",
   "mimetype": "text/x-python",
   "name": "python",
   "nbconvert_exporter": "python",
   "pygments_lexer": "ipython3",
   "version": "3.8.5"
  },
  "widgets": {
   "application/vnd.jupyter.widget-state+json": {
    "0103071812d54c00a5d63ebac25b5c9c": {
     "model_module": "@jupyter-widgets/controls",
     "model_name": "DescriptionStyleModel",
     "state": {
      "_model_module": "@jupyter-widgets/controls",
      "_model_module_version": "1.5.0",
      "_model_name": "DescriptionStyleModel",
      "_view_count": null,
      "_view_module": "@jupyter-widgets/base",
      "_view_module_version": "1.2.0",
      "_view_name": "StyleView",
      "description_width": ""
     }
    },
    "0227a2af9dcf4644877d99054059f331": {
     "model_module": "@jupyter-widgets/controls",
     "model_name": "DescriptionStyleModel",
     "state": {
      "_model_module": "@jupyter-widgets/controls",
      "_model_module_version": "1.5.0",
      "_model_name": "DescriptionStyleModel",
      "_view_count": null,
      "_view_module": "@jupyter-widgets/base",
      "_view_module_version": "1.2.0",
      "_view_name": "StyleView",
      "description_width": ""
     }
    },
    "042346610c73457ebcb513b19017abf8": {
     "model_module": "@jupyter-widgets/controls",
     "model_name": "FloatProgressModel",
     "state": {
      "_dom_classes": [],
      "_model_module": "@jupyter-widgets/controls",
      "_model_module_version": "1.5.0",
      "_model_name": "FloatProgressModel",
      "_view_count": null,
      "_view_module": "@jupyter-widgets/controls",
      "_view_module_version": "1.5.0",
      "_view_name": "ProgressView",
      "bar_style": "success",
      "description": "100%",
      "description_tooltip": null,
      "layout": "IPY_MODEL_b9fc6934e516402f9191ba6d1e703466",
      "max": 5000,
      "min": 0,
      "orientation": "horizontal",
      "style": "IPY_MODEL_60637b5068a04d76a229f7300f8b2d02",
      "value": 5000
     }
    },
    "083e98e75938439883b2bd5e5657ce85": {
     "model_module": "@jupyter-widgets/base",
     "model_name": "LayoutModel",
     "state": {
      "_model_module": "@jupyter-widgets/base",
      "_model_module_version": "1.2.0",
      "_model_name": "LayoutModel",
      "_view_count": null,
      "_view_module": "@jupyter-widgets/base",
      "_view_module_version": "1.2.0",
      "_view_name": "LayoutView",
      "align_content": null,
      "align_items": null,
      "align_self": null,
      "border": null,
      "bottom": null,
      "display": null,
      "flex": null,
      "flex_flow": null,
      "grid_area": null,
      "grid_auto_columns": null,
      "grid_auto_flow": null,
      "grid_auto_rows": null,
      "grid_column": null,
      "grid_gap": null,
      "grid_row": null,
      "grid_template_areas": null,
      "grid_template_columns": null,
      "grid_template_rows": null,
      "height": null,
      "justify_content": null,
      "justify_items": null,
      "left": null,
      "margin": null,
      "max_height": null,
      "max_width": null,
      "min_height": null,
      "min_width": null,
      "object_fit": null,
      "object_position": null,
      "order": null,
      "overflow": null,
      "overflow_x": null,
      "overflow_y": null,
      "padding": null,
      "right": null,
      "top": null,
      "visibility": null,
      "width": null
     }
    },
    "0dcf1d8092984e12a72001bc468020cb": {
     "model_module": "@jupyter-widgets/controls",
     "model_name": "HTMLModel",
     "state": {
      "_dom_classes": [],
      "_model_module": "@jupyter-widgets/controls",
      "_model_module_version": "1.5.0",
      "_model_name": "HTMLModel",
      "_view_count": null,
      "_view_module": "@jupyter-widgets/controls",
      "_view_module_version": "1.5.0",
      "_view_name": "HTMLView",
      "description": "",
      "description_tooltip": null,
      "layout": "IPY_MODEL_8f6908957d004d43962f14ef26c17428",
      "placeholder": "​",
      "style": "IPY_MODEL_1c0b8b79871b4da0918a887500e57acf",
      "value": " 81857/81857 [00:11&lt;00:00, 6910.81it/s]"
     }
    },
    "1ba46cdcb3164128a33d3d8ee1257cdc": {
     "model_module": "@jupyter-widgets/controls",
     "model_name": "FloatProgressModel",
     "state": {
      "_dom_classes": [],
      "_model_module": "@jupyter-widgets/controls",
      "_model_module_version": "1.5.0",
      "_model_name": "FloatProgressModel",
      "_view_count": null,
      "_view_module": "@jupyter-widgets/controls",
      "_view_module_version": "1.5.0",
      "_view_name": "ProgressView",
      "bar_style": "success",
      "description": "100%",
      "description_tooltip": null,
      "layout": "IPY_MODEL_2ffbf16bb8304c719e11adeab43fe6a6",
      "max": 20465,
      "min": 0,
      "orientation": "horizontal",
      "style": "IPY_MODEL_e0a28f893ed64adc98200e5d0abee51a",
      "value": 20465
     }
    },
    "1c0b8b79871b4da0918a887500e57acf": {
     "model_module": "@jupyter-widgets/controls",
     "model_name": "DescriptionStyleModel",
     "state": {
      "_model_module": "@jupyter-widgets/controls",
      "_model_module_version": "1.5.0",
      "_model_name": "DescriptionStyleModel",
      "_view_count": null,
      "_view_module": "@jupyter-widgets/base",
      "_view_module_version": "1.2.0",
      "_view_name": "StyleView",
      "description_width": ""
     }
    },
    "23ff3ee9729c45df9342a0c7b401e2e5": {
     "model_module": "@jupyter-widgets/base",
     "model_name": "LayoutModel",
     "state": {
      "_model_module": "@jupyter-widgets/base",
      "_model_module_version": "1.2.0",
      "_model_name": "LayoutModel",
      "_view_count": null,
      "_view_module": "@jupyter-widgets/base",
      "_view_module_version": "1.2.0",
      "_view_name": "LayoutView",
      "align_content": null,
      "align_items": null,
      "align_self": null,
      "border": null,
      "bottom": null,
      "display": null,
      "flex": null,
      "flex_flow": null,
      "grid_area": null,
      "grid_auto_columns": null,
      "grid_auto_flow": null,
      "grid_auto_rows": null,
      "grid_column": null,
      "grid_gap": null,
      "grid_row": null,
      "grid_template_areas": null,
      "grid_template_columns": null,
      "grid_template_rows": null,
      "height": null,
      "justify_content": null,
      "justify_items": null,
      "left": null,
      "margin": null,
      "max_height": null,
      "max_width": null,
      "min_height": null,
      "min_width": null,
      "object_fit": null,
      "object_position": null,
      "order": null,
      "overflow": null,
      "overflow_x": null,
      "overflow_y": null,
      "padding": null,
      "right": null,
      "top": null,
      "visibility": null,
      "width": null
     }
    },
    "2d56a2ac717640febc76f2a9e83377f5": {
     "model_module": "@jupyter-widgets/base",
     "model_name": "LayoutModel",
     "state": {
      "_model_module": "@jupyter-widgets/base",
      "_model_module_version": "1.2.0",
      "_model_name": "LayoutModel",
      "_view_count": null,
      "_view_module": "@jupyter-widgets/base",
      "_view_module_version": "1.2.0",
      "_view_name": "LayoutView",
      "align_content": null,
      "align_items": null,
      "align_self": null,
      "border": null,
      "bottom": null,
      "display": null,
      "flex": null,
      "flex_flow": null,
      "grid_area": null,
      "grid_auto_columns": null,
      "grid_auto_flow": null,
      "grid_auto_rows": null,
      "grid_column": null,
      "grid_gap": null,
      "grid_row": null,
      "grid_template_areas": null,
      "grid_template_columns": null,
      "grid_template_rows": null,
      "height": null,
      "justify_content": null,
      "justify_items": null,
      "left": null,
      "margin": null,
      "max_height": null,
      "max_width": null,
      "min_height": null,
      "min_width": null,
      "object_fit": null,
      "object_position": null,
      "order": null,
      "overflow": null,
      "overflow_x": null,
      "overflow_y": null,
      "padding": null,
      "right": null,
      "top": null,
      "visibility": null,
      "width": null
     }
    },
    "2ffbf16bb8304c719e11adeab43fe6a6": {
     "model_module": "@jupyter-widgets/base",
     "model_name": "LayoutModel",
     "state": {
      "_model_module": "@jupyter-widgets/base",
      "_model_module_version": "1.2.0",
      "_model_name": "LayoutModel",
      "_view_count": null,
      "_view_module": "@jupyter-widgets/base",
      "_view_module_version": "1.2.0",
      "_view_name": "LayoutView",
      "align_content": null,
      "align_items": null,
      "align_self": null,
      "border": null,
      "bottom": null,
      "display": null,
      "flex": null,
      "flex_flow": null,
      "grid_area": null,
      "grid_auto_columns": null,
      "grid_auto_flow": null,
      "grid_auto_rows": null,
      "grid_column": null,
      "grid_gap": null,
      "grid_row": null,
      "grid_template_areas": null,
      "grid_template_columns": null,
      "grid_template_rows": null,
      "height": null,
      "justify_content": null,
      "justify_items": null,
      "left": null,
      "margin": null,
      "max_height": null,
      "max_width": null,
      "min_height": null,
      "min_width": null,
      "object_fit": null,
      "object_position": null,
      "order": null,
      "overflow": null,
      "overflow_x": null,
      "overflow_y": null,
      "padding": null,
      "right": null,
      "top": null,
      "visibility": null,
      "width": null
     }
    },
    "3b2afa88b49f45cba8555ae2fab6f645": {
     "model_module": "@jupyter-widgets/base",
     "model_name": "LayoutModel",
     "state": {
      "_model_module": "@jupyter-widgets/base",
      "_model_module_version": "1.2.0",
      "_model_name": "LayoutModel",
      "_view_count": null,
      "_view_module": "@jupyter-widgets/base",
      "_view_module_version": "1.2.0",
      "_view_name": "LayoutView",
      "align_content": null,
      "align_items": null,
      "align_self": null,
      "border": null,
      "bottom": null,
      "display": null,
      "flex": null,
      "flex_flow": null,
      "grid_area": null,
      "grid_auto_columns": null,
      "grid_auto_flow": null,
      "grid_auto_rows": null,
      "grid_column": null,
      "grid_gap": null,
      "grid_row": null,
      "grid_template_areas": null,
      "grid_template_columns": null,
      "grid_template_rows": null,
      "height": null,
      "justify_content": null,
      "justify_items": null,
      "left": null,
      "margin": null,
      "max_height": null,
      "max_width": null,
      "min_height": null,
      "min_width": null,
      "object_fit": null,
      "object_position": null,
      "order": null,
      "overflow": null,
      "overflow_x": null,
      "overflow_y": null,
      "padding": null,
      "right": null,
      "top": null,
      "visibility": null,
      "width": null
     }
    },
    "4ecdd64f5b4e4b819e694700335c94d6": {
     "model_module": "@jupyter-widgets/controls",
     "model_name": "HBoxModel",
     "state": {
      "_dom_classes": [],
      "_model_module": "@jupyter-widgets/controls",
      "_model_module_version": "1.5.0",
      "_model_name": "HBoxModel",
      "_view_count": null,
      "_view_module": "@jupyter-widgets/controls",
      "_view_module_version": "1.5.0",
      "_view_name": "HBoxView",
      "box_style": "",
      "children": [
       "IPY_MODEL_e070acd228744abb8ce889101cc1a01f",
       "IPY_MODEL_0dcf1d8092984e12a72001bc468020cb"
      ],
      "layout": "IPY_MODEL_23ff3ee9729c45df9342a0c7b401e2e5"
     }
    },
    "60637b5068a04d76a229f7300f8b2d02": {
     "model_module": "@jupyter-widgets/controls",
     "model_name": "ProgressStyleModel",
     "state": {
      "_model_module": "@jupyter-widgets/controls",
      "_model_module_version": "1.5.0",
      "_model_name": "ProgressStyleModel",
      "_view_count": null,
      "_view_module": "@jupyter-widgets/base",
      "_view_module_version": "1.2.0",
      "_view_name": "StyleView",
      "bar_color": null,
      "description_width": "initial"
     }
    },
    "60723e0846844d61934a5a81dd2563c1": {
     "model_module": "@jupyter-widgets/base",
     "model_name": "LayoutModel",
     "state": {
      "_model_module": "@jupyter-widgets/base",
      "_model_module_version": "1.2.0",
      "_model_name": "LayoutModel",
      "_view_count": null,
      "_view_module": "@jupyter-widgets/base",
      "_view_module_version": "1.2.0",
      "_view_name": "LayoutView",
      "align_content": null,
      "align_items": null,
      "align_self": null,
      "border": null,
      "bottom": null,
      "display": null,
      "flex": null,
      "flex_flow": null,
      "grid_area": null,
      "grid_auto_columns": null,
      "grid_auto_flow": null,
      "grid_auto_rows": null,
      "grid_column": null,
      "grid_gap": null,
      "grid_row": null,
      "grid_template_areas": null,
      "grid_template_columns": null,
      "grid_template_rows": null,
      "height": null,
      "justify_content": null,
      "justify_items": null,
      "left": null,
      "margin": null,
      "max_height": null,
      "max_width": null,
      "min_height": null,
      "min_width": null,
      "object_fit": null,
      "object_position": null,
      "order": null,
      "overflow": null,
      "overflow_x": null,
      "overflow_y": null,
      "padding": null,
      "right": null,
      "top": null,
      "visibility": null,
      "width": null
     }
    },
    "60c712cafbee46a992425392ec36d10c": {
     "model_module": "@jupyter-widgets/controls",
     "model_name": "HBoxModel",
     "state": {
      "_dom_classes": [],
      "_model_module": "@jupyter-widgets/controls",
      "_model_module_version": "1.5.0",
      "_model_name": "HBoxModel",
      "_view_count": null,
      "_view_module": "@jupyter-widgets/controls",
      "_view_module_version": "1.5.0",
      "_view_name": "HBoxView",
      "box_style": "",
      "children": [
       "IPY_MODEL_042346610c73457ebcb513b19017abf8",
       "IPY_MODEL_a9efcc066a48493887cf5f099b3933e7"
      ],
      "layout": "IPY_MODEL_3b2afa88b49f45cba8555ae2fab6f645"
     }
    },
    "8a528b859ca34430bfc2564dbf85bd3d": {
     "model_module": "@jupyter-widgets/base",
     "model_name": "LayoutModel",
     "state": {
      "_model_module": "@jupyter-widgets/base",
      "_model_module_version": "1.2.0",
      "_model_name": "LayoutModel",
      "_view_count": null,
      "_view_module": "@jupyter-widgets/base",
      "_view_module_version": "1.2.0",
      "_view_name": "LayoutView",
      "align_content": null,
      "align_items": null,
      "align_self": null,
      "border": null,
      "bottom": null,
      "display": null,
      "flex": null,
      "flex_flow": null,
      "grid_area": null,
      "grid_auto_columns": null,
      "grid_auto_flow": null,
      "grid_auto_rows": null,
      "grid_column": null,
      "grid_gap": null,
      "grid_row": null,
      "grid_template_areas": null,
      "grid_template_columns": null,
      "grid_template_rows": null,
      "height": null,
      "justify_content": null,
      "justify_items": null,
      "left": null,
      "margin": null,
      "max_height": null,
      "max_width": null,
      "min_height": null,
      "min_width": null,
      "object_fit": null,
      "object_position": null,
      "order": null,
      "overflow": null,
      "overflow_x": null,
      "overflow_y": null,
      "padding": null,
      "right": null,
      "top": null,
      "visibility": null,
      "width": null
     }
    },
    "8f6908957d004d43962f14ef26c17428": {
     "model_module": "@jupyter-widgets/base",
     "model_name": "LayoutModel",
     "state": {
      "_model_module": "@jupyter-widgets/base",
      "_model_module_version": "1.2.0",
      "_model_name": "LayoutModel",
      "_view_count": null,
      "_view_module": "@jupyter-widgets/base",
      "_view_module_version": "1.2.0",
      "_view_name": "LayoutView",
      "align_content": null,
      "align_items": null,
      "align_self": null,
      "border": null,
      "bottom": null,
      "display": null,
      "flex": null,
      "flex_flow": null,
      "grid_area": null,
      "grid_auto_columns": null,
      "grid_auto_flow": null,
      "grid_auto_rows": null,
      "grid_column": null,
      "grid_gap": null,
      "grid_row": null,
      "grid_template_areas": null,
      "grid_template_columns": null,
      "grid_template_rows": null,
      "height": null,
      "justify_content": null,
      "justify_items": null,
      "left": null,
      "margin": null,
      "max_height": null,
      "max_width": null,
      "min_height": null,
      "min_width": null,
      "object_fit": null,
      "object_position": null,
      "order": null,
      "overflow": null,
      "overflow_x": null,
      "overflow_y": null,
      "padding": null,
      "right": null,
      "top": null,
      "visibility": null,
      "width": null
     }
    },
    "904339e3ad5e40cfb06fb539a32808ff": {
     "model_module": "@jupyter-widgets/controls",
     "model_name": "HTMLModel",
     "state": {
      "_dom_classes": [],
      "_model_module": "@jupyter-widgets/controls",
      "_model_module_version": "1.5.0",
      "_model_name": "HTMLModel",
      "_view_count": null,
      "_view_module": "@jupyter-widgets/controls",
      "_view_module_version": "1.5.0",
      "_view_name": "HTMLView",
      "description": "",
      "description_tooltip": null,
      "layout": "IPY_MODEL_60723e0846844d61934a5a81dd2563c1",
      "placeholder": "​",
      "style": "IPY_MODEL_0227a2af9dcf4644877d99054059f331",
      "value": " 20465/20465 [04:16&lt;00:00, 79.75it/s]"
     }
    },
    "a9efcc066a48493887cf5f099b3933e7": {
     "model_module": "@jupyter-widgets/controls",
     "model_name": "HTMLModel",
     "state": {
      "_dom_classes": [],
      "_model_module": "@jupyter-widgets/controls",
      "_model_module_version": "1.5.0",
      "_model_name": "HTMLModel",
      "_view_count": null,
      "_view_module": "@jupyter-widgets/controls",
      "_view_module_version": "1.5.0",
      "_view_name": "HTMLView",
      "description": "",
      "description_tooltip": null,
      "layout": "IPY_MODEL_083e98e75938439883b2bd5e5657ce85",
      "placeholder": "​",
      "style": "IPY_MODEL_0103071812d54c00a5d63ebac25b5c9c",
      "value": " 5000/5000 [01:13&lt;00:00, 68.14it/s]"
     }
    },
    "b9fc6934e516402f9191ba6d1e703466": {
     "model_module": "@jupyter-widgets/base",
     "model_name": "LayoutModel",
     "state": {
      "_model_module": "@jupyter-widgets/base",
      "_model_module_version": "1.2.0",
      "_model_name": "LayoutModel",
      "_view_count": null,
      "_view_module": "@jupyter-widgets/base",
      "_view_module_version": "1.2.0",
      "_view_name": "LayoutView",
      "align_content": null,
      "align_items": null,
      "align_self": null,
      "border": null,
      "bottom": null,
      "display": null,
      "flex": null,
      "flex_flow": null,
      "grid_area": null,
      "grid_auto_columns": null,
      "grid_auto_flow": null,
      "grid_auto_rows": null,
      "grid_column": null,
      "grid_gap": null,
      "grid_row": null,
      "grid_template_areas": null,
      "grid_template_columns": null,
      "grid_template_rows": null,
      "height": null,
      "justify_content": null,
      "justify_items": null,
      "left": null,
      "margin": null,
      "max_height": null,
      "max_width": null,
      "min_height": null,
      "min_width": null,
      "object_fit": null,
      "object_position": null,
      "order": null,
      "overflow": null,
      "overflow_x": null,
      "overflow_y": null,
      "padding": null,
      "right": null,
      "top": null,
      "visibility": null,
      "width": null
     }
    },
    "d5180cad75b64348beed825ec68d35c8": {
     "model_module": "@jupyter-widgets/controls",
     "model_name": "HBoxModel",
     "state": {
      "_dom_classes": [],
      "_model_module": "@jupyter-widgets/controls",
      "_model_module_version": "1.5.0",
      "_model_name": "HBoxModel",
      "_view_count": null,
      "_view_module": "@jupyter-widgets/controls",
      "_view_module_version": "1.5.0",
      "_view_name": "HBoxView",
      "box_style": "",
      "children": [
       "IPY_MODEL_1ba46cdcb3164128a33d3d8ee1257cdc",
       "IPY_MODEL_904339e3ad5e40cfb06fb539a32808ff"
      ],
      "layout": "IPY_MODEL_2d56a2ac717640febc76f2a9e83377f5"
     }
    },
    "de64a1c90e31422da4984f90af40bc5f": {
     "model_module": "@jupyter-widgets/controls",
     "model_name": "ProgressStyleModel",
     "state": {
      "_model_module": "@jupyter-widgets/controls",
      "_model_module_version": "1.5.0",
      "_model_name": "ProgressStyleModel",
      "_view_count": null,
      "_view_module": "@jupyter-widgets/base",
      "_view_module_version": "1.2.0",
      "_view_name": "StyleView",
      "bar_color": null,
      "description_width": "initial"
     }
    },
    "e070acd228744abb8ce889101cc1a01f": {
     "model_module": "@jupyter-widgets/controls",
     "model_name": "FloatProgressModel",
     "state": {
      "_dom_classes": [],
      "_model_module": "@jupyter-widgets/controls",
      "_model_module_version": "1.5.0",
      "_model_name": "FloatProgressModel",
      "_view_count": null,
      "_view_module": "@jupyter-widgets/controls",
      "_view_module_version": "1.5.0",
      "_view_name": "ProgressView",
      "bar_style": "success",
      "description": "100%",
      "description_tooltip": null,
      "layout": "IPY_MODEL_8a528b859ca34430bfc2564dbf85bd3d",
      "max": 81857,
      "min": 0,
      "orientation": "horizontal",
      "style": "IPY_MODEL_de64a1c90e31422da4984f90af40bc5f",
      "value": 81857
     }
    },
    "e0a28f893ed64adc98200e5d0abee51a": {
     "model_module": "@jupyter-widgets/controls",
     "model_name": "ProgressStyleModel",
     "state": {
      "_model_module": "@jupyter-widgets/controls",
      "_model_module_version": "1.5.0",
      "_model_name": "ProgressStyleModel",
      "_view_count": null,
      "_view_module": "@jupyter-widgets/base",
      "_view_module_version": "1.2.0",
      "_view_name": "StyleView",
      "bar_color": null,
      "description_width": "initial"
     }
    }
   }
  }
 },
 "nbformat": 4,
 "nbformat_minor": 1
}
